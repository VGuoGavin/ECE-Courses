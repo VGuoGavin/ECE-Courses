{
 "cells": [
  {
   "cell_type": "markdown",
   "metadata": {},
   "source": [
    "<div align=center><img src=\"https://logosdownload.com/logo/national-university-of-singapore--logo-big.png\" width=\"30%\" height=\"50%\"></div>"
   ]
  },
  {
   "cell_type": "markdown",
   "metadata": {},
   "source": [
    "<center><font face=\"Time new roman\" size = 10 align=center>EE5110 Segment 3</font> </center>\n",
    "<center><font face=\"Time new roman\" size = 5 align=center>Guo Shiping</font> </center>\n",
    "<center><font face=\"Time new roman\" size = 5 align=center> A0260014Y</font> </center>"
   ]
  },
  {
   "cell_type": "markdown",
   "metadata": {},
   "source": [
    "<font face=\"Time new roman\" size = 7 align=center bold>Q1</font> \n",
    "\n",
    "<font face=\"Time new roman\" size = 5 align=center bold>a) Calculus of variations</font> \n"
   ]
  },
  {
   "cell_type": "markdown",
   "metadata": {},
   "source": [
    "\n",
    "$The\\ input\\ signal\\ is:$\n",
    "$$\n",
    "u=-\\frac{a}{2}y+\\frac{\\dot{y}}{2}\n",
    "$$\n",
    "The function $J(y,u)$ changes to:\n",
    "$$\n",
    "\\begin{aligned}\n",
    "J(y)&=\\int_0^{\\infty}[y^2+ (-\\frac{a}{2}y+\\frac{\\dot{y}}{2})^2]dt \\\\\n",
    "&=\\int_0^{\\infty}[(1+\\frac{a^2}{4})y^2+\\frac{1}{4}\\dot{y}^2]dt-\\frac{a}{2}\\int_0^{\\infty}y\\dot{y}dt\n",
    "\\end{aligned}\n",
    "$$\n",
    "$ \\because $\n",
    "$$\n",
    "\\int_0^{\\infty}y\\dot{y}dt=y^2|_0^\\infty-\\int_0^{\\infty}y\\dot{y}dt\\\\\n",
    "\\int_0^{\\infty}y\\dot{y}dt=\\frac{1}{2}[y^2(\\infty)-y^2(0)]\n",
    "$$\n",
    "$ \\therefore$\n",
    "$$\n",
    "J(y)=\\int_0^{\\infty}[(\\frac{a^2}{4}+1)y^2+\\frac{1}{4}\\dot{y}^2]dt-\\frac{a}{4}y^2(\\infty)+\\frac{a}{4}c^2\n",
    "$$\n",
    "$Let\\ z(t)\\ denote\\ any\\ function\\ of\\ t\\ with\\ the\\ property\\ that\\ J(z)\\ exists.\\ Take\\ \\varepsilon\\ to\\ be\\ a\\ scalar\\ parameter.$\n",
    "$$\n",
    "J(y_0+\\varepsilon z)=\\int_0^{\\infty}[(\\frac{a^2}{4}+1)(y_0+\\varepsilon z)^2+\\frac{1}{4}(\\dot{y}_0+\\varepsilon\\dot{z})^2]dt-\\frac{a}{4}y^2(\\infty)+\\frac{a}{4}c^2\n",
    "$$\n",
    "$The\\ J(y_0+\\varepsilon z)\\ must\\ have\\ an\\ absolute\\ minimum\\ at\\ \\varepsilon=0$ \n",
    "$$\n",
    "\\frac{d}{d\\varepsilon}J(y_0+\\varepsilon z)|_{\\varepsilon=0}=0\\\\\n",
    "\\begin{aligned}\n",
    "J(y_0+\\varepsilon z)&=\\int_0^{\\infty}[(\\frac{a^2}{4}+1)y_0^2+\\frac{1}{4}\\dot{y}_0^2]dt+2\\varepsilon\\int_0^{\\infty}[(\\frac{a^2}{4}+1)(y_0z)+\\frac{a^2}{4}\\dot{y}_0\\dot{z}]dt\\\\\n",
    "&+\\varepsilon^2\\int_0^{\\infty}[(\\frac{a^2}{4}+1)z^2+\\frac{a^2}{4}\\dot{z}^2]dt-\\frac{a^2}{4}y^2(\\infty)+\\frac{a^2}{4}c^2\n",
    "\\end{aligned}\n",
    "$$\n",
    "$We\\ see\\ then\\ that\\ the\\ variational\\ condition\\ derived\\ is: $ \n",
    "$$\n",
    "\\int_0^{\\infty}[(\\frac{a^2}{4}+1)y_0^2+\\frac{1}{4}\\dot{y}_0^2]dt=0\\\\\n",
    "2\\varepsilon\\int_0^{\\infty}[(\\frac{a^2}{4}+1)(y_0z)+\\frac{a^2}{4}\\dot{y}_0\\dot{z}]dt=0\\\\\n",
    "int_0^{\\infty}[(\\frac{a^2}{4}+1)z^2+\\frac{a^2}{4}\\dot{z}^2]dt-\\frac{a^2}{4}y^2(\\infty)+\\frac{a^2}{4}c^2=0\n",
    "$$\n",
    "$Since\\ y_0+\\varepsilon\\ z\\ is\\ an\\ admissible\\ function\\ satisfies\\ the\\ initial\\ condition:$\n",
    "$$\n",
    "y_0(0)+\\varepsilon z(0)=c\n",
    "$$\n",
    "$ We\\ see\\ that\\ z(0)=0$.\n",
    "\n",
    "$ Since\\ the\\ left-hand\\ side\\ must\\ be\\ zero\\ for\\ all\\ admissible\\ z,\\ we\\ suspect\\ that\\ $\n",
    "$$\n",
    "(\\frac{a^2}{4}+1)y_0-\\frac{1}{4}\\ddot{y}_0=0\n",
    "$$\n",
    "$ First,\\ we\\ use\\ T\\ to\\ replace\\ \\infty,\\ \\dot{y_0}(T)=0.\\ And\\ we\\ obtain\\ no\\ condition\\ on\\ \\dot{y_0}(0).\\ We\\ can\\ get:$\n",
    "$$\n",
    "y_0(0)=c,\\; \\dot{y}_o(T)=0\n",
    "$$\n",
    "$The\\ general\\ solution\\ of\\ the\\ differential\\ equation\\ is:$\n",
    "$$\n",
    "y=c_1e^{\\sqrt{4+a^2}\\cdot t}+c_2e^{-\\sqrt{4+a^2}\\cdot t}\n",
    "$$\n",
    "$ Using\\ the\\ boundary\\ conditions,\\ we\\ have\\ the\\ two\\ equations\\ to\\ determine\\ the\\ coefficients\\ c_1\\ and\\ c_2$. \n",
    "$$\n",
    "c=c_1+c_2\\\\\n",
    "0=c_1e^{\\sqrt{4+a^2}\\cdot T}-c_2e^{-\\sqrt{4+a^2}\\cdot T}\n",
    "$$\n",
    "$Solving,\\ we\\ obtain\\ the\\ expression:$\n",
    "$$\n",
    "y_o(t)=c(\\frac{e^{\\sqrt{4+a^2}(t-T)}+e^{-\\sqrt{4+a^2}(t-T)}}{e^{-\\sqrt{4+a^2}\\cdot T}+e^{\\sqrt{4+a^2}\\cdot T}})=c\\frac{cosh(\\sqrt{4+a^2}(t-T))}{cosh(\\sqrt{4+a^2}\\cdot T)}\n",
    "$$\n",
    "$Let\\ T\\rightarrow\\ \\infty,\\ We\\ have$\n",
    "$$\n",
    "y_o(t)=c(\\frac{e^{\\sqrt{4+a^2}(t-T)}+e^{-\\sqrt{4+a^2}(t-T)}}{e^{-\\sqrt{4+a^2}\\cdot T}+e^{\\sqrt{4+a^2}\\cdot T}})=c(\\frac{e^{\\sqrt{4+a^2}(t-2T)}+e^{-\\sqrt{4+a^2}\\cdot t}}{e^{-2\\sqrt{4+a^2}\\cdot T}+1})\\rightarrow ce^{-\\sqrt{4+a^2}\\cdot t}\\\\\n",
    "\\dot{y}_o(t)=c\\sqrt{4+a^2}\\cdot(\\frac{e^{\\sqrt{4+a^2}(t-T)}-e^{-\\sqrt{4+a^2}(t-T)}}{e^{-\\sqrt{4+a^2}\\cdot T}+e^{\\sqrt{4+a^2}\\cdot T}})=c\\sqrt{4+a^2}\\cdot(\\frac{e^{\\sqrt{4+a^2}(t-2T)}-e^{-\\sqrt{4+a^2}\\cdot t}}{e^{-2\\sqrt{4+a^2}\\cdot T}+1})\\rightarrow - c\\sqrt{4+a^2}\\cdot e^{-\\sqrt{4+a^2}\\cdot t}\\\\\n",
    "\\dot{y}_o=-\\sqrt{4+a^2}\\cdot y_o(t)\n",
    "$$\n",
    "$So\\ we\\ have\\ the\\ control\\ laws$\n",
    "$$\n",
    "u(t)=-\\frac{a}{2}y(t)+\\frac{1}{2}\\dot{y}(t)=-\\frac{1}{2}(a+\\sqrt{4+a^2})y(t)\n",
    "$$\n"
   ]
  },
  {
   "cell_type": "markdown",
   "metadata": {},
   "source": [
    "<font face=\"Time new roman\" size = 5 align=center bold> b) Dynamic programming</font> "
   ]
  },
  {
   "cell_type": "markdown",
   "metadata": {},
   "source": [
    "$Optimal\\ Value\\ function:$\n",
    "$$\n",
    "V(c,T)=\\min_{y}J(y)\\\\\n",
    "J(y)=\\int_0^\\Delta+\\int_\\Delta^T=(c^2+u^2)\\Delta+V(c+(ac+2u)\\Delta,T-\\Delta)+O(\\Delta^2)\n",
    "$$\n",
    "$We\\ can\\ use\\ Taylor\\ series\\ to\\ relate\\ V(c+(ac+2u)\\Delta,T-\\Delta)\\ with\\ V(c,T),\\ J(y)\\ will\\ change\\ to$\n",
    "$$\n",
    "V(c,T)=\\min_u[(c^2+u^2)\\Delta+V(c,T)+\\frac{\\partial V}{\\partial c}(ac+2u)\\Delta-\\frac{\\partial V}{\\partial T}\\Delta+O(\\Delta^2)]\n",
    "$$\n",
    "$Ignoring\\ the\\ higher\\ order\\ terms\\ of\\ \\Delta,\\ we\\ have$\n",
    "$$\n",
    "\\frac{\\partial V}{\\partial T}=\\min_u[(c^2+u^2)+\\frac{\\partial V}{\\partial c}(ac+2u)]\n",
    "$$\n",
    "$When\\ T\\rightarrow\\infty,\\ V(c,T)\\ becomes\\ V(c)$, \n",
    "$$\n",
    "V(c)=\\min_u[(c^2+u^2)\\Delta+V(c+(ac+2u)\\Delta)] + O(\\Delta^2)\\\\\n",
    "0=\\min_u[(c^2+u^2)+\\dot{V}(c)(ac+2u)]\n",
    "$$\n",
    "\n",
    "$Take\\ the\\ derivative\\ respect\\ to\\ u\\ gives\\ 2u+2\\dot{V}(c)a=0,\\ so$\n",
    "\n",
    "$$\n",
    "u=-\\dot{V}(c)\\\\\n",
    "0=(c^2+(\\dot{V}(c))^2)+\\dot{V}(c)(ac-2\\dot{V}(c))\\\\\n",
    "\\dot{V}^2(c)-ac\\dot{V}(c)+c^2=0\\\\\n",
    "$$\n",
    "\n",
    "$ So\\ we\\ have\\ two\\ possibilities,\\ with\\ the\\ condition\\ V(0)=0,\\ we\\ can\\ obtain\\ two\\ possible\\ solutions:$\n",
    "\n",
    "$$\n",
    "V(c)=\\frac{a+\\sqrt{a^2+4}}{2} \\\\\n",
    "V(c)=\\frac{a-\\sqrt{a^2+4}}{2}\n",
    "$$\n",
    "\n",
    "$Since\\ V(c)\\geqslant0,\\ we\\ see\\ that\\ V(c)=\\frac{a+\\sqrt{a^2+4}}{2},\\ the\\ optimal\\ value\\ can\\ be\\ easily\\ obtained\\ as $\n",
    "\n",
    "$$\n",
    "u=-\\frac{a+\\sqrt{a^2+4}}{2} c\n",
    "$$\n",
    "\n",
    "$Since\\ y(0)=c,\\ so\\ we\\ have\\ u(0)=\\frac{a+\\sqrt{a^2+4}}{2}\\ y(0).\\ At\\ any\\ time\\ t,\\ we\\ will\\ have\\ the\\ control\\ law:$\n",
    "\n",
    "$$\n",
    "u(t)=-\\frac{a+\\sqrt{a^2+4}}{2} y(t)\n",
    "$$\n",
    "$The\\ results\\ from\\ two\\ method\\ are\\ same$\n"
   ]
  },
  {
   "cell_type": "markdown",
   "metadata": {},
   "source": [
    "<font face=\"Time new roman\" size = 7 align=center bold>Q2</font> \n"
   ]
  },
  {
   "cell_type": "markdown",
   "metadata": {},
   "source": [
    "$We\\ write\\ the\\ optimal\\ value\\ function\\ as$\n",
    "$$\n",
    "V_N(c)=\\min_{u_n}J_N(y,u)\n",
    "$$\n",
    "$After\\ u(0)\\ is\\ chosen,\\ the\\ new\\ state\\ of\\ the\\ system\\ is\\ y(1)=2c+au(0),\\ The\\ cost\\ function\\ takes\\ the\\ form$\n",
    "$$\n",
    "c^2+u^2(0)+\\sum_{n=1}^N(y^2(n)+u^2(n))\n",
    "$$\n",
    "$The\\ long\\ term\\ cost\\ can\\ be\\ expressed\\ as\\ optimal\\ value\\ starting\\ from\\ 2c+au(0)\\ withe\\ N-1\\ steps\\ left$\n",
    "$$\n",
    "\\sum_{n=1}^N(y^2(n)+u^2(n))=V_{N-1}(ac+2u(0))\n",
    "$$\n",
    "$Then$\n",
    "$$\n",
    "V_N(c)=\\min_{u(0)}[c^2+u^2(0)+V_{N-1}(ac+2u(0))]\n",
    "$$\n",
    "$For\\ the\\ continuous\\ case\\ we\\ have V(c,T)=c^2r(T)$\n",
    "\n",
    "$It\\ is\\ reasonable\\ to\\ guess\\ that$\n",
    "\n",
    "$$\n",
    "V_N(c)=c^2r_N\\\\\n",
    "c^2r_N=\\min_{u(0)}[c^2+u^2(0)+(ac+2u(0))^2r_{N-1}]\n",
    "$$\n",
    "$The\\ value\\ of\\ u(0)\\ that\\ minimizes\\ is\\ readily\\ obtained\\ by\\ differentiation$\n",
    "$$\n",
    "2u(0)+2a(2a+au(0))r_{N-1}=0\\\\\n",
    "u(0)=-\\frac{2acr_{N-1}}{1+4r_{N-1}}\n",
    "$$\n",
    "$Using\\ this\\ value,\\ we\\ obtain\\ the\\ recurrence\\ relation$\n",
    "$$\n",
    "r_N=1+\\frac{a^2r_{N-1}}{1+4r_{N-1}}\n",
    "$$\n",
    "$At\\ each\\ time\\ t=k,\\ the\\ input\\ control\\ is$\n",
    "$$\n",
    "u(k)=-\\frac{2acr_{N-k-1}y(k)}{1+4r_{N-k-1}}\n",
    "$$\n",
    "$When\\ N\\rightarrow\\infty,\\ let\\ r=\\lim\\limits_{N\\rightarrow\\infty}r_N,\\ then\\ r\\ is\\ the\\ positive\\ root\\ of\\ the\\ quadratic\\ equation$\n",
    "\n",
    "$$\n",
    "r=\\frac{(a^2+3)+\\sqrt{a^4+6a^2+25}}{8}\n",
    "$$\n",
    "\n",
    "$The\\ control\\ signal\\ will\\ change\\ to:$\n",
    "\n",
    "$$\n",
    "\\lim\\limits_{N\\rightarrow\\infty}u(0)=-\\frac{2acr}{1+4r}\\\\\n",
    "$$\n",
    "\n",
    "\n",
    "$$\\therefore\\ for\\ the\\ inftyite\\ time\\ process,\\ the\\ optimal\\ feedback\\ controller\\ is:$$\n",
    "\n",
    "$$\n",
    "u(k)=-\\frac{2ary(k)}{1+4r}\n",
    "$$\n",
    "\n",
    "\n",
    "<div STYLE=\"page-break-after: always;\"></div>\n"
   ]
  },
  {
   "cell_type": "markdown",
   "metadata": {},
   "source": [
    "<font face=\"Time new roman\" size = 7 align=center bold>Q3</font> "
   ]
  },
  {
   "cell_type": "markdown",
   "metadata": {},
   "source": [
    "\n",
    "$Assume\\ that\\ the\\ lifeguard\\ will\\ run\\ to\\ (a,0),\\ and\\ then\\ swim\\ to\\ the\\ swimmer.\\ The\\ parameter\\ we\\ can\\ get\\ from\\ question:\\ v_1=5m/s,\\;v_2=2m/s.\\ The\\ optimal\\ function\\ can\\ be\\ expressed\\ as:$\n",
    "$$\n",
    "T=\\min_a[(\\frac{\\sqrt{a^2+10^2}}{v_1})+(\\frac{\\sqrt{(20-a)^2+(-10)^2}}{v_2})]\n",
    "$$\n",
    "$Take\\ the\\ derivative\\ respect\\ to\\ a,\\ we\\ get$\n",
    "$$\n",
    "\\frac{29a^2}{100}-10a + 129=0\\\\\n",
    "a=\\frac{10}{0.58}=17.24\n",
    "$$\n",
    "$So,\\ the\\ shortest\\ time\\ path\\ is\\ that\\ lifeguard\\ run\\ to\\ (18.823,0)\\ and\\ then\\ swim\\ to\\ the\\ swimmer.\\ The\\ shortest\\ time\\ is:$\n",
    "$$\n",
    "t_{min}=\\frac{\\sqrt{a^2+10^2}}{v_1}+\\frac{\\sqrt{(20-a)^2+(-20)^2}}{v_2}=9.17s\n",
    "$$\n",
    "\n",
    "<div STYLE=\"page-break-after: always;\"></div>"
   ]
  },
  {
   "cell_type": "code",
   "execution_count": 1,
   "metadata": {},
   "outputs": [
    {
     "data": {
      "text/plain": [
       "9.173008873571147"
      ]
     },
     "execution_count": 1,
     "metadata": {},
     "output_type": "execute_result"
    }
   ],
   "source": [
    "import numpy as np\n",
    "np.sqrt(17.24**2+100)/5+np.sqrt((20-17.24)**2+100)/2"
   ]
  },
  {
   "cell_type": "markdown",
   "metadata": {},
   "source": [
    "<font face=\"Time new roman\" size = 7 align=center bold>Q4</font> \n"
   ]
  },
  {
   "cell_type": "markdown",
   "metadata": {},
   "source": [
    "Method1: Programming view"
   ]
  },
  {
   "cell_type": "markdown",
   "metadata": {},
   "source": [
    "$This\\ question\\ we\\ can\\ refer\\ to\\ Dijkstra,\\ Floyd\\ method.\\ It\\ has\\ the\\ same\\ principle\\ with\\ optimal\\ solution\\ method.$\n",
    "$The\\ basic\\ logic is:$\n",
    "$Based\\ on\\ the\\ algorism,\\ suppose\\ we\\ get\\ the\\ optimal\\ result\\ of\\ set\\ S,\\ S\\ includes\\ the\\ places\\ we\\ traveled.$\n",
    "$We\\ have\\ n\\ place,\\ suppose\\ we\\ traveled\\ k\\ places,\\ k< n\\ and\\ belongs\\ to\\ S,\\ the S(k)\\ should\\ also\\ be\\ optimal\\ result.$\n",
    "\n",
    "\n",
    "$We\\ can\\ put\\ all\\ attractions\\ and\\ hotel\\ in\\ the\\ x\\ y\\ plane\\ and\\ sort\\ them\\ by\\ x\\ coordinate\\ from\\ small\\ to\\ large\\ p_0,p_1,p_2,...,p_n. p_0\\ is\\ hotel$ \n",
    "\n",
    "\n",
    "$In\\ order\\ to\\ get\\ the\\ shortest\\ circle,\\ we\\ set\\ dist(i,j)=\\sqrt{(x_i-xj)^2+(y_i-y_j)^2}\\ as\\ the\\ distance\\ between\\ place\\ i\\ and\\ j.$\n",
    "\n",
    "$step1:Set\\ S\\ contains\\ only\\ the\\ source\\ point.\\ S={p_0},\\ and\\ the\\ distance\\ of\\ p_0\\ is\\ 0.\\ U\\ contains\\ vertices\\ other\\ than\\ places,\\ i.e.\\ U = { p_1, p_2...p_n },\\ and\\ we\\ can\\ calculate\\ all\\ the\\ distance\\ between\\ two\\ places.$\n",
    "\n",
    "$step2:\\ Select\\ a\\ vertex\\ p_k\\ from\\ U\\ with\\ the\\ smallest\\ distance\\ from\\ p_0\\ and\\ add\\ p_k\\ to\\ S\\ (the\\ selected\\ distance\\ is\\ the\\ shortest\\ path\\ length\\ from\\ p_0\\ to\\ p_k) $\n",
    "\n",
    "$step3: Take\\ k\\ as\\ the\\ newly\\ considered\\ intermediate\\ point\\ and\\ modify\\ the\\ distance\\ of\\ each\\ vertex\\ in\\ U;\\ If\\ the \\ distance\\ from\\ the\\ source\\ point\\ p_0\\ to\\ the\\ vertex\\ p_u\\ (through\\ the\\ vertex\\ p_k)\\ is\\ shorter\\ than\\ the\\ original\\ distance\\ (without\\ passing\\ through\\ the\\ vertex\\ p_k),\\ the\\ distance\\ value\\ of\\ the\\ vertex\\ p_u\\ is\\ modified,\\ and\\ the\\ modified\\ distance\\ value\\ is\\ the\\ distance\\ of\\ the\\ vertex\\ p_k\\ plus\\ the\\ distance\\ between\\ two\\ places.$\n",
    "\n",
    "$step4:Repeat\\ the\\ step2\\ and\\ step\\ 3\\ until\\ all\\ the\\ places\\ are\\ in\\ S\\ set.$\n",
    "\n"
   ]
  },
  {
   "cell_type": "markdown",
   "metadata": {},
   "source": [
    "Method2: Mathmatic view"
   ]
  },
  {
   "cell_type": "markdown",
   "metadata": {},
   "source": [
    "\n",
    "\n",
    "\n",
    "$First,\\ we\\ can\\ put\\ all\\ attractions\\ and\\ hotel\\ in\\ the\\ x\\ y\\ plane\\ and\\ sort\\ them\\ by\\ x\\ coordinate\\ from\\ small\\ to\\ large\\ p_0,p_1,p_2,...,p_n. p_0\\ is\\ hotel$ \n",
    "\n",
    "$Assume\\ that\\ V_{i,j}\\;(i\\leqslant j)\\ is\\ the\\ shortest\\ closed\\ curve\\ which\\ contain\\ p_0,p_1,...,p_n.$\n",
    "\n",
    "$This\\ path\\ goes\\ from\\ p_i\\ to\\ p_0,\\ and\\ then\\ goes\\ from\\ p_0\\ right\\ to\\ p_j. So,\\ V_{n,n}\\ is\\ what\\ we\\ want\\ in\\ this\\ topic.$\n",
    "\n",
    "$Assume\\ that\\ the\\ length\\ of\\ V_{i,j}\\ is\\ l(i,j),\\ the\\ distance\\ between\\ p_i\\ and\\ p_j\\ is\\ dist(i,j)=\\sqrt{(x_i-xj)^2+(y_i-y_j)^2}$\n",
    "\n",
    "$In\\ the\\ path\\ V_{i,j},\\ p_i\\ is\\ in\\ the\\ path\\ p_i\\rightarrow p_1,\\ p_j\\ is\\ in\\ the\\ path\\ p_1\\rightarrow p_j.\\ Now,\\ let's\\ talk\\ about\\ the\\ position\\ of\\ p_{j-1}$\n",
    "\n",
    "(1) $i<j-1$\n",
    "\n",
    "$Because\\ p_{j-1}\\ is\\ on\\ the\\ right\\ side\\ of\\ p_i,\\ so\\  p_{j-1}\\ is\\ in\\ the\\ path\\ p_1\\rightarrow p_j.$\n",
    "$Besides,\\ p_{j-1}\\ is\\ the\\ rightmost\\ point\\ except\\ p_j,\\ so\\ it\\ connect\\ to\\ p_j\\ directly.\\ We\\ can\\ get$\n",
    "$$\n",
    "l(i,j)=l(i,j-1)+dist(j-1,j)\n",
    "$$\n",
    "(2) $i=j-1$\n",
    "\n",
    "$In\\ this\\ case,\\ p_{j-1}\\ is\\ p_i,\\ so\\  p_{j-1}\\ is\\ in\\ the\\ path\\ p_i\\rightarrow p_1.\\ Any\\ point\\ from\\ p_1,p_2,...,p_{j-2}\\ can\\ connect\\ to\\ p+j.$\n",
    "\n",
    "$Assume\\ that\\ point\\ is\\ p_k(1\\leqslant k\\leqslant j-2).\\ We\\ need\\ to\\ chose\\ an\\ appropriate\\ point\\ p_k\\ so\\ that\\ we\\ can\\ get\\ the\\ shortest\\ l(i,j)$\n",
    "$$\n",
    "l(i,j)=\\min_{1\\leqslant k\\leqslant j-2}[l(k,j-1)+dist(k,j)]\n",
    "$$\n",
    "(3)$i=j$\n",
    "\n",
    "$This\\ only\\ happens\\ when\\ i=j=n.\\ In\\ this\\ case,\\ p_{n-1}\\ connect\\ to\\ p_n,\\ we\\ can\\ get:$\n",
    "$$\n",
    "l(n,n)=l(n-1,n)+dist(n-1,n)\n",
    "$$\n",
    "$In\\ conclusion\\ the\\ optimal\\ function\\ is:$\n",
    "$$\n",
    "l(i,j)=\n",
    "\\begin{cases}\n",
    "l(i,j-1)+dist(j-1,j),&i<j-1 \\\\\n",
    "\\min\\limits_{1 \\leqslant k\\leqslant j-2}[l(k,j-1)+dist(k,j)], & i=j-1 \\\\\n",
    "l(n-1,n)+dist(n-1,n),&i=j=n\n",
    "\\end{cases}\n",
    "$$\n",
    "$This\\ function\\ is\\ what\\ we\\ want.$\n"
   ]
  }
 ],
 "metadata": {
  "kernelspec": {
   "display_name": "Python 3 (ipykernel)",
   "language": "python",
   "name": "python3"
  },
  "language_info": {
   "codemirror_mode": {
    "name": "ipython",
    "version": 3
   },
   "file_extension": ".py",
   "mimetype": "text/x-python",
   "name": "python",
   "nbconvert_exporter": "python",
   "pygments_lexer": "ipython3",
   "version": "3.11.4"
  }
 },
 "nbformat": 4,
 "nbformat_minor": 4
}
