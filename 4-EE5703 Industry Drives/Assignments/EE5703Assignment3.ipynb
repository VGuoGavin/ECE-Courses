{
 "cells": [
  {
   "cell_type": "markdown",
   "id": "8b51a37f",
   "metadata": {},
   "source": [
    "## Steady State Model for Doubly Fed Induction Generator (EE5703 Assigment) \n",
    "1. The task for the Assigment is to model a Doubly Fed Induction Generator operating in steady state for a Wind Turbine Application. \n",
    "2. Develop the model for steady state from the space vector based equations. Assume that there is a rotor voltage space vector available. \n",
    "3. Find the expressions for the stator electrical power and rotor electrical power. \n",
    "4. The rotor voltage space vector can be controlled to have a magnitude from 0 to 1p.u. and any angle\n",
    "5. What would be the rotor current if the power delivered to the grid is -0.5 p.u ? \n",
    "6. Draw the curve of rotor current magnitude when the slip is varied between pull-out slip to zero slip\n",
    "7. What is the power factor at the stator and the power factor at rotor end connected to grid (assuming only sinusoidal quantities)? [An AC/DC converter connected to grid feeds a DC link, a DC to AC converter is connected to DC bus. The AC end of DC to AC converter is connected to the rotor terminals to provide $\\vec\n",
    "{v}_r$]\n",
    "8. Draw the curve of rotor power as the slip changes\n",
    "9. *Bonus Points* Draw the curve for change in rotor current and rotor power if the rotor voltage magnitude is changes with respect to stator voltage (which is fixed at grid voltage) \n",
    "\n",
    "\n",
    "Use the following normalized parameters of the motor "
   ]
  },
  {
   "cell_type": "code",
   "execution_count": 18,
   "id": "114565c8",
   "metadata": {},
   "outputs": [],
   "source": [
    "mach_ma = {\"rs\": 0.015, \"rr\": 0.04, \"lh\": 2.31, \"ls\": 2.35, \"lr\": 2.35, \"tmech\":596.9}"
   ]
  },
  {
   "cell_type": "markdown",
   "id": "f1286b06",
   "metadata": {},
   "source": [
    "## Submission\n",
    "1. Please submit the assignment in canvas folder by the **end of the week13 (Sunday 19 Nov 2023)**\n",
    "2. *Please rename the file as your  MatriNo_Name_Assn1**\n",
    "3. You may submit the jupyter notebook format or you can submit as pdf\n",
    "4. To generate pdf, in jupyter notebook go to File> Download as> and choose the format (.ipynb or .pdf)\n",
    "\n",
    "For more information on how to use Markdown cells in jupyter notebook (https://jupyter-notebook.readthedocs.io/en/stable/notebook.html), please refer to \n",
    "https://jupyter-notebook.readthedocs.io/en/stable/examples/Notebook/Working%20With%20Markdown%20Cells.html"
   ]
  },
  {
   "cell_type": "markdown",
   "id": "5d36b5f2",
   "metadata": {},
   "source": [
    "### How to write equations in Markdown? \n",
    "You can select a cell in jupyter notebook as Markdown. Equations can be written using latex syntax as below \n",
    "\n",
    "$$\\frac{dx}{dt} +  = y$$\n",
    "\n",
    "or \n",
    "\\begin{align}\n",
    "\\frac{dx_1}{d\\tau} & = -\\frac{1}{\\tau_1}x_1 + bx_2 + K_1u_1 \\\\\n",
    "\\frac{dx_2}{d\\tau} &= -\\frac{1}{\\tau_2}x_2 + b_2x_1 + k_2u_1\n",
    "\\end{align}"
   ]
  },
  {
   "cell_type": "markdown",
   "id": "2ff57757",
   "metadata": {},
   "source": [
    "### Solving complex circuits\n",
    "Suppolse an AC cicuit is made of 2 paralell branches given as complex impedance. We can solve this using python as a calculator"
   ]
  },
  {
   "cell_type": "code",
   "execution_count": 13,
   "id": "f0b8f9df",
   "metadata": {},
   "outputs": [
    {
     "name": "stdout",
     "output_type": "stream",
     "text": [
      "(0.01+3.5j)\n",
      "(1+3.6j)\n",
      "Parallel impedance = 0.24+1.81j\n",
      "The stator current is = 0.07-0.54j\n"
     ]
    }
   ],
   "source": [
    "z1 = complex(0.01, 3.5)\n",
    "print(z1)\n",
    "z2 = complex(1.0,3.6)\n",
    "print(z2)\n",
    "#The paralle combination is given as \n",
    "zp = z1*z2/(z1 + z2)\n",
    "print(\"Parallel impedance = {0:3.2f}\".format(zp))\n",
    "#If normalized voltage is 1 p.u., as a complex quantity can either be given as complex(1.0,0) or complex(0,1.0). \n",
    "#Find the totla current drawn\n",
    "v = complex(1.0,0)\n",
    "is1 = v/zp\n",
    "print(\"The stator current is = {0:3.2f}\".format(is1))"
   ]
  },
  {
   "cell_type": "code",
   "execution_count": 17,
   "id": "757797f9",
   "metadata": {},
   "outputs": [
    {
     "name": "stdout",
     "output_type": "stream",
     "text": [
      "Apparent Power S = 0.07-0.54j and real power is P = 0.07\n",
      "Power Factor is $cos phi$ = 0.132\n"
     ]
    }
   ],
   "source": [
    "import numpy as np\n",
    "#Real power \n",
    "S = np.conj(v)*is1\n",
    "P = S.real\n",
    "print(\"Apparent Power S = {0:3.2f} and real power is P = {1:3.2f}\".format(S,P))\n",
    "print(\"Power Factor is $cos phi$ = {0:3.3f}\".format(P/np.abs(S)))"
   ]
  },
  {
   "cell_type": "code",
   "execution_count": null,
   "id": "7de9f6ca",
   "metadata": {},
   "outputs": [],
   "source": []
  }
 ],
 "metadata": {
  "kernelspec": {
   "display_name": "Python 3",
   "language": "python",
   "name": "python3"
  },
  "language_info": {
   "codemirror_mode": {
    "name": "ipython",
    "version": 3
   },
   "file_extension": ".py",
   "mimetype": "text/x-python",
   "name": "python",
   "nbconvert_exporter": "python",
   "pygments_lexer": "ipython3",
   "version": "3.8.5"
  }
 },
 "nbformat": 4,
 "nbformat_minor": 5
}
