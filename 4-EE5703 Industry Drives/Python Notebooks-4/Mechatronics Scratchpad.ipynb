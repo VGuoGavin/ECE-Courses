{
 "cells": [
  {
   "cell_type": "code",
   "execution_count": 1,
   "id": "8565cb34",
   "metadata": {},
   "outputs": [],
   "source": [
    "import numpy as np\n",
    "import matplotlib.pyplot as plt\n",
    "import handcalcs.render\n",
    "%matplotlib inline"
   ]
  },
  {
   "cell_type": "markdown",
   "id": "00303b83",
   "metadata": {},
   "source": [
    "## Problem\n",
    "Crane motor $N_r = 16.67$, the moment of inertia of the motor $J_m = 6$[kgm m] "
   ]
  },
  {
   "cell_type": "code",
   "execution_count": 4,
   "id": "f58dc6fa",
   "metadata": {},
   "outputs": [
    {
     "data": {
      "text/latex": [
       "\\[\n",
       "\\begin{aligned}\n",
       "N_{r} &= 16.670 \\; \\;\\textrm{(1/sec)}\n",
       "\\\\[10pt]\n",
       "J_{m} &= 6 \\; \n",
       "\\\\[10pt]\n",
       "J_{g} &= 3.900 \\; \n",
       "\\\\[10pt]\n",
       "m_{o} &= 1000 \\; \\;\\textrm{(kg)}\n",
       "\\\\[10pt]\n",
       "m_{L} &= 5000 \\; \\;\\textrm{(kf)}\n",
       "\\\\[10pt]\n",
       "d_{c} &= 1.200 \\; \\;\\textrm{(m)}\n",
       "\\\\[10pt]\n",
       "R_{p} &= \\frac{ d_{c} }{ 2.0 }  = \\frac{ 1.200 }{ 2.0 } &= 0.600  \n",
       "\\\\[10pt]\n",
       "n_{g} &= 30 \\; \n",
       "\\\\[10pt]\n",
       "\\eta_{g} &= 0.920 \\; \n",
       "\\end{aligned}\n",
       "\\]"
      ],
      "text/plain": [
       "<IPython.core.display.Latex object>"
      ]
     },
     "metadata": {},
     "output_type": "display_data"
    }
   ],
   "source": [
    "%%render \n",
    "N_r = 16.67#1/sec\n",
    "J_m = 6#\n",
    "J_g = 3.9\n",
    "m_o = 1000#kg\n",
    "m_L = 5000#kf\n",
    "d_c = 1.2#m\n",
    "R_p = d_c/2.0\n",
    "n_g = 30\n",
    "eta_g = .92"
   ]
  },
  {
   "cell_type": "markdown",
   "id": "5c125e88",
   "metadata": {},
   "source": [
    "### Energy conservation at the pulley\n",
    "If the velocity of teh cage going up is $v$, then the angular velocity of the pulley $\\Omega_1$ is given as \n",
    "$$v = R_p\\Omega_1$$\n",
    "\n",
    "Kinetic of the cage \n",
    "$$\\frac{1}{2}(m_o + m_L)v^{2} =  \\frac{1}{2}J_{eq}\\Omega^{2}_1$$\n",
    "\n",
    "\\begin{align}\n",
    "\\frac{1}{2}(m_o + m_L)v^{2} &=  \\frac{1}{2}J_{eq}\\Omega^{2}_1 \\\\\n",
    "\\frac{1}{2}(m_o + m_L)(R_p\\Omega_1)^{2} &=  \\frac{1}{2}J_{eq}\\Omega^{2}_1 \\\\\n",
    "\\therefore J_{eq} &= (m_o + m_L)R^{2}_p\n",
    "\\end{align}\n",
    "\n",
    "\n"
   ]
  },
  {
   "cell_type": "code",
   "execution_count": 5,
   "id": "3f3874db",
   "metadata": {},
   "outputs": [
    {
     "data": {
      "text/latex": [
       "\\[\n",
       "\\begin{aligned}\n",
       "J_{eqo} &= 360.00 \\; \n",
       " &J_{eqL} &= 2160.00 \\;\n",
       "\\end{aligned}\n",
       "\\]"
      ],
      "text/plain": [
       "<IPython.core.display.Latex object>"
      ]
     },
     "metadata": {},
     "output_type": "display_data"
    }
   ],
   "source": [
    "%%render param 2\n",
    "J_eqo = m_o*R_p**2\n",
    "J_eqL = (m_o + m_L)*R_p**2"
   ]
  },
  {
   "cell_type": "markdown",
   "id": "8600f380",
   "metadata": {},
   "source": [
    "### At the gear energy \n",
    "$$\\frac{1}{2}J_{e1}\\Omega^{2}_1 = \\frac{1}{2}J_{e2}\\Omega^{2}_2 $$\n",
    "ABove equation is the case where there is no energy loss in the gear.\n",
    "Effciency of the gear\n",
    "\\begin{align}\n",
    "\\eta_g &= \\frac{\\text{Energy output}}{\\text{Energy Input}} \\\\\n",
    "       & = \\frac{\\frac{1}{2}J_{eq1}\\Omega^{2}_1}{\\frac{1}{2}J_{eq2}\\Omega^{2}_2} \\\\\n",
    "  J_{eq2} & = J_{eq1}(\\frac{\\Omega_1}{\\Omega_2})^{2}\\frac{1}{\\eta_g} \\\\\n",
    "  n_g & = \\frac{\\Omega_2}{\\Omega_1} \\\\\n",
    "  J_{eq2} & = J_{eq1}(\\frac{1}{n_g})^{2}\\frac{1}{\\eta_g} \\\\\n",
    "\\end{align}"
   ]
  },
  {
   "cell_type": "code",
   "execution_count": 6,
   "id": "256310f1",
   "metadata": {},
   "outputs": [
    {
     "data": {
      "text/latex": [
       "\\[\n",
       "\\begin{aligned}\n",
       "J_{eq2o} &= 0.43 \\; \n",
       " &J_{eq2L} &= 2.61 \\; \n",
       " &J_{To} &= 10.33 \\; \n",
       "\\\\[10pt]\n",
       " J_{TL} &= 12.51 \\;\n",
       "\\end{aligned}\n",
       "\\]"
      ],
      "text/plain": [
       "<IPython.core.display.Latex object>"
      ]
     },
     "metadata": {},
     "output_type": "display_data"
    }
   ],
   "source": [
    "%%render param 2\n",
    "J_eq2o = J_eqo*(1/n_g**2)*(1/eta_g)\n",
    "J_eq2L = J_eqL*(1/n_g**2)*(1/eta_g)\n",
    "J_To  = J_m + J_g + J_eq2o\n",
    "J_TL = J_m + J_g + J_eq2L"
   ]
  },
  {
   "cell_type": "markdown",
   "id": "3eb6ecec",
   "metadata": {},
   "source": [
    "## Operating Torque\n",
    "$$M_P = F_c*R_P$$\n",
    "Power balance at gear \n",
    "$$M_{e2}\\Omega_2 = M_{P}\\Omega_1\\frac{1}{\\eta_g}$$\n",
    "$$M_{e2} = M_{p}\\frac{1}{n_g\\eta_g}$$\n",
    "Empty \n",
    "$$M{e2o} = (m_o)gR_P\\frac{1}{n_g\\eta_g}$$\n",
    "Loaded\n",
    "$$M_{e2L} = (m_o + m_L)gR_p\\frac{1}{n_g\\eta_g}$$"
   ]
  },
  {
   "cell_type": "code",
   "execution_count": 7,
   "id": "2b497fe2",
   "metadata": {},
   "outputs": [
    {
     "data": {
      "text/latex": [
       "\\[\n",
       "\\begin{aligned}\n",
       "g &= 9.81 \\; \n",
       " &M_{e2o} &= 213.26 \\; \n",
       " &M_{e2L} &= 1279.57 \\; \n",
       "\\\\[10pt]\n",
       "\\end{aligned}\n",
       "\\]"
      ],
      "text/plain": [
       "<IPython.core.display.Latex object>"
      ]
     },
     "metadata": {},
     "output_type": "display_data"
    }
   ],
   "source": [
    "%%render params 2\n",
    "g = 9.81\n",
    "M_e2o = m_o*g*R_p*(1/(n_g*eta_g))\n",
    "M_e2L = (m_o + m_L)*g*R_p*(1/(n_g*eta_g))"
   ]
  },
  {
   "cell_type": "code",
   "execution_count": 8,
   "id": "81badcca",
   "metadata": {},
   "outputs": [],
   "source": [
    "def vfunc(v):\n",
    "    return v**3 + 2027*v - 101208"
   ]
  },
  {
   "cell_type": "code",
   "execution_count": 9,
   "id": "e1e91da0",
   "metadata": {},
   "outputs": [
    {
     "name": "stdout",
     "output_type": "stream",
     "text": [
      "    fjac: array([[-1.]])\n",
      "     fun: array([-2.91038305e-11])\n",
      " message: 'The solution converged.'\n",
      "    nfev: 10\n",
      "     qtf: array([-7.81059498e-07])\n",
      "       r: array([-5233.34479319])\n",
      "  status: 1\n",
      " success: True\n",
      "       x: array([32.69222733])\n"
     ]
    }
   ],
   "source": [
    "from scipy import optimize\n",
    "sol = optimize.root(vfunc, [10], method='hybr')\n",
    "print(sol)"
   ]
  },
  {
   "cell_type": "code",
   "execution_count": 12,
   "id": "61d58815",
   "metadata": {},
   "outputs": [
    {
     "data": {
      "text/latex": [
       "\\[\n",
       "\\begin{aligned}\n",
       "C &= 80 \\times 10 ^ {3} \\cdot 0.88 &= 70400.000  \n",
       "\\\\[10pt]\n",
       "B &= 1040 \\; \n",
       "\\\\[10pt]\n",
       "A &= 0.513 \\; \n",
       "\\end{aligned}\n",
       "\\]"
      ],
      "text/plain": [
       "<IPython.core.display.Latex object>"
      ]
     },
     "metadata": {},
     "output_type": "display_data"
    }
   ],
   "source": [
    "%%render\n",
    "C = 80e3*0.88\n",
    "B = 1040\n",
    "A = 0.513"
   ]
  },
  {
   "cell_type": "code",
   "execution_count": 13,
   "id": "51cb31aa",
   "metadata": {},
   "outputs": [],
   "source": [
    "def vfunc2(v):\n",
    "    return A*v**3 + B*v - C"
   ]
  },
  {
   "cell_type": "code",
   "execution_count": 17,
   "id": "73310ef9",
   "metadata": {},
   "outputs": [],
   "source": [
    "sol2 = optimize.root(vfunc2, [10], method='hybr')"
   ]
  },
  {
   "cell_type": "code",
   "execution_count": 18,
   "id": "d346753a",
   "metadata": {},
   "outputs": [
    {
     "name": "stdout",
     "output_type": "stream",
     "text": [
      "    fjac: array([[-1.]])\n",
      "     fun: array([1.45519152e-11])\n",
      " message: 'The solution converged.'\n",
      "    nfev: 11\n",
      "     qtf: array([2.89929449e-06])\n",
      "       r: array([-3359.8282241])\n",
      "  status: 1\n",
      " success: True\n",
      "       x: array([38.82475027])\n"
     ]
    }
   ],
   "source": [
    "print(sol2)"
   ]
  }
 ],
 "metadata": {
  "kernelspec": {
   "display_name": "Python 3 (ipykernel)",
   "language": "python",
   "name": "python3"
  },
  "language_info": {
   "codemirror_mode": {
    "name": "ipython",
    "version": 3
   },
   "file_extension": ".py",
   "mimetype": "text/x-python",
   "name": "python",
   "nbconvert_exporter": "python",
   "pygments_lexer": "ipython3",
   "version": "3.9.12"
  }
 },
 "nbformat": 4,
 "nbformat_minor": 5
}
