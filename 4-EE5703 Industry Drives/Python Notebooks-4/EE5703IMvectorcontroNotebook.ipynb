{
 "cells": [
  {
   "cell_type": "code",
   "execution_count": 2,
   "id": "6ec7130f",
   "metadata": {},
   "outputs": [],
   "source": [
    "import numpy as np\n",
    "from autograd.scipy.integrate import odeint\n",
    "from scipy import signal\n",
    "import matplotlib.pyplot as plt\n",
    "import itertools as iter\n",
    "import cmath\n",
    "%matplotlib inline"
   ]
  },
  {
   "cell_type": "markdown",
   "id": "576c5ea6",
   "metadata": {},
   "source": [
    "### Defining machine parameters as python dictionaries\n",
    "You can create your own machine dictionaries"
   ]
  },
  {
   "cell_type": "code",
   "execution_count": 3,
   "id": "a423d8f8",
   "metadata": {},
   "outputs": [],
   "source": [
    "#Defining Machine parameters \n",
    "\n",
    "mach_mc = {\"rs\": 0.009, \"rr\": 0.007, \"lh\": 4.14, \"ls\": 4.21, \"lr\": 4.21, \"tmech\":509.6}\n",
    "\n",
    "mach_mb = {\"rs\": 0.0185, \"rr\": 0.0132, \"lh\": 3.81, \"ls\": 3.9, \"lr\": 3.9, \"tmech\":397.31}\n",
    "\n",
    "mach_ma = {\"rs\": 0.015, \"rr\": 0.04, \"lh\": 2.31, \"ls\": 2.35, \"lr\": 2.35, \"tmech\":596.9}\n",
    "\n",
    "mach_BM = {\"rs\": 0.0426, \"rr\": 0.02113, \"lh\": 2.252, \"ls\": 2.252+0.078, \"lr\": 2.252+0.1052, \"tmech\":200.}"
   ]
  },
  {
   "cell_type": "markdown",
   "id": "1ff35d98",
   "metadata": {},
   "source": [
    "###  Machine parameters\n",
    "We use machine dictionaries to calculate the various parameters used in space vector based machine model This function is called mach_para(dict)\n",
    "\n",
    "This calculates all parameters needed for the machine model with state variables \n",
    "$$\\vec{i}_s, \\vec{\\psi}_r$$"
   ]
  },
  {
   "cell_type": "code",
   "execution_count": 4,
   "id": "f1bd6f05",
   "metadata": {},
   "outputs": [
    {
     "data": {
      "text/plain": [
       "(0.009,\n",
       " 0.007,\n",
       " 4.14,\n",
       " 4.21,\n",
       " 4.21,\n",
       " 0.03297769703398212,\n",
       " 0.9833729216152018,\n",
       " 601.4285714285714,\n",
       " 0.015769156120762125,\n",
       " 8.804282451758413,\n",
       " 509.6)"
      ]
     },
     "execution_count": 4,
     "metadata": {},
     "output_type": "execute_result"
    }
   ],
   "source": [
    "def mach_para(dict):\n",
    "    \"\"\"Takes in the dictionary containing machine parameters (normalized)\n",
    "       and returns various parameters that are used in space vector equations\n",
    "       \n",
    "       Takes arguement: machine dictionary\n",
    "       \"\"\"\n",
    "    rs = dict[\"rs\"]\n",
    "    rr = dict[\"rr\"]\n",
    "    lh = dict['lh']\n",
    "    ls = dict['ls']\n",
    "    lr = dict['lr']\n",
    "    sig= 1-(lh*lh)/(lr*ls)\n",
    "    kr=lh/lr\n",
    "    sigls=sig*ls\n",
    "    tr=lr/rr\n",
    "    rk=(rs+(kr)*(kr)*rr)\n",
    "    tk=sigls/(rs+(kr)*(kr)*rr)\n",
    "    tmech = dict['tmech']\n",
    "#     print(\"lh = {0:1.3f}\".format(lh))\n",
    "    return rs,rr,lh,ls,lr,sig,kr,tr,rk,tk,tmech\n",
    "\n",
    "mach_para(mach_mc)"
   ]
  },
  {
   "cell_type": "markdown",
   "id": "608f58cf",
   "metadata": {},
   "source": [
    "### Induction motor dynamics\n",
    "#### Dynamic model of Induction Machine\n",
    "To study the performance of Induction machine by simulation, we will need to develop the dynamic model of the induction machine that include the rotor inertia dynamics. We will choose 5 state variables. In effect, we are using only 3 state variables. However, out of the 3 state variables, the first 2 are complex state variables. Hence for simulation, we will decompose them into real and imaginary parts. These state variables as $i_{s\\alpha}, i_{s,\\beta}$,$\\psi_{r,\\alpha}, \\psi_{r,\\beta}$ and $\\omega$. The differential equations are given as\n",
    "\n",
    "\\begin{align}\n",
    "\\frac{di_{s\\alpha}}{d\\tau}&= -\\frac{1}{\\tau_k}i_{s\\alpha} + \\frac{k_r}{\\sigma l_s}\\frac{1}{\\tau_r}\\psi_{s\\alpha} + \\frac{k_r}{\\sigma ls}\\omega\\psi_{r\\beta} + \\frac{v_{s\\alpha}}{\\sigma ls}\\\\\n",
    "\\frac{di_{s\\beta}}{d\\tau}&= -\\frac{1}{\\tau_k}i_{s\\beta} + \\frac{k_r}{\\sigma l_s}\\frac{1}{\\tau_r}\\psi_{s\\beta} - \\frac{k_r}{\\sigma ls}\\omega\\psi_{r\\alpha} + \\frac{v_{s\\beta}}{\\sigma ls}\\\\\n",
    "\\frac{d\\psi_{r\\alpha}}{d\\tau}&= - \\omega\\psi_{r\\beta} -\\frac{1}{\\tau_r}\\psi_{r\\alpha} +\\frac{l_h}{\\tau_r}i_{s\\alpha}\\\\\n",
    "\\frac{d\\psi_{r\\beta}}{d\\tau}&= \\omega\\psi_{r\\alpha} -\\frac{1}{tau_r}\\psi_{r\\beta} +\\frac{l_h}{\\tau_r}i_{s\\beta}\\\\\n",
    "\\frac{\\omega}{d\\tau}&= \\frac{1}{\\tau_{mech}}\\left[m_e - m_l\\right]\n",
    "\\end{align}\n"
   ]
  },
  {
   "cell_type": "markdown",
   "id": "1bd68b53",
   "metadata": {},
   "source": [
    "### Converting dynamic equations at a partcular point into steady state\n",
    "\\begin{align}\n",
    "\\vec{v}_s &= r_s\\vec{i}_s + \\frac{d\\vec{\\psi}_s}{d\\tau}\\\\\n",
    "0 &= r_r\\vec{i}_r + \\frac{d\\vec{\\psi}_r}{d\\tau} - j\\omega\\vec{\\psi}_r \\\\\n",
    "\\frac{d\\omega}{d\\tau}&= \\frac{1}{\\tau_{mech}}\\left[m_e - m_l\\right]\n",
    "\\end{align}\n",
    "becomes\n",
    "\n",
    "\\begin{align}\n",
    "\\vec{v}_s &= r_s\\vec{i}_s + \\frac{d|\\psi_s|}{d\\tau}e^{j\\omega_s\\tau} + j\\omega_s\\vec{\\psi}_s\\\\\n",
    "\\end{align}\n",
    "as the magnitue does not change, we get \n",
    "\\begin{align}\n",
    "\\vec{v}_s &= r_s\\vec{i}_s  + j\\omega_s\\vec{\\psi}_s\\\\\n",
    "\\vec{v}_s &= r_s\\vec{i}_s + j\\omega_s(\\sigma l_s\\vec{i}_s + k_r\\vec{\\psi}_r) \\\\\n",
    "\\vec{v}_s &= r_s\\vec{i}_s + j\\omega_s\\sigma l_s\\vec{i}_s + j\\omega_sk_r\\vec{\\psi}_r\n",
    "\\end{align}\n",
    "\n",
    "Similarly rotor equation becomes\n",
    "\\begin{align}\n",
    "0 &= r_r\\vec{i}_r + \\frac{d|\\psi_r|e^{j\\omega_s\\tau}}{d\\tau} - j\\omega\\vec{\\psi}_r \\\\\n",
    "0 &= r_r\\vec{i}_r +  j\\omega_r\\vec{\\psi}_r \\\\\n",
    "0 &= \\frac{r_r}{l_r}\\left(\\vec{\\psi}_r - l_h\\vec{i}_s \\right) + j\\omega_r\\vec{\\psi}_r \\\\\n",
    "l_h\\vec{i}_s &= (1 + j\\omega_r\\tau_r)\\vec{\\psi}_r\n",
    "\\end{align}\n",
    "\n",
    "In rotor field coordinate system we can write the rotor equation as \n",
    "\n",
    "\\begin{align}\n",
    "l_h(i_{sd} + ji_{sq}) &= (1 + j\\omega_r\\tau_r)\\psi_r \\\\\n",
    "l_hi_{sd} &= \\psi_r \\\\\n",
    "l_hi_{sq}  &= \\omega_r\\tau_r\\psi_r\n",
    "\\end{align}\n"
   ]
  },
  {
   "cell_type": "markdown",
   "id": "fc441a19",
   "metadata": {},
   "source": [
    "## Function for machine model dynamic"
   ]
  },
  {
   "cell_type": "code",
   "execution_count": 5,
   "id": "8ed6679e",
   "metadata": {},
   "outputs": [],
   "source": [
    "def Im_dynamic(X,t,paraIM2):\n",
    "    isa =X[0]\n",
    "    isb = X[1]\n",
    "    psira  = X[2]\n",
    "    psirb  = X[3]\n",
    "    w =      X[4]\n",
    "    #paas on the machine parameters using params option\n",
    "    vsa,vsb,ml,rs,rr,lh,ls,lr,sig,kr,tr,rk,tk,tmech  = paraIM2\n",
    "    #\n",
    "    me = kr*(psira*isb - psirb*isa) \n",
    "    #define the RHS of the ODE\n",
    "    disadt = -(1/tk)*isa + (kr/(sig*ls*tr))*psira + (kr/(sig*ls))*w*psirb + vsa/(sig*ls)\n",
    "    disbdt = -(1/tk)*isb + (kr/(sig*ls*tr))*psirb - (kr/(sig*ls))*w*psira + vsb/(sig*ls)\n",
    "    dpsiradt = -w*psirb -(1/tr)*psira + (lh/tr)*isa\n",
    "    dpsirbdt = +w*psira -(1/tr)*psirb + (lh/tr)*isb\n",
    "    dwdt = (1/tmech)*(me - ml)\n",
    "    return [disadt,disbdt,dpsiradt,dpsirbdt,dwdt]\n"
   ]
  },
  {
   "cell_type": "markdown",
   "id": "404ea39a",
   "metadata": {},
   "source": [
    "## Rotor model based Rotor flux estimator"
   ]
  },
  {
   "cell_type": "code",
   "execution_count": 6,
   "id": "81864628",
   "metadata": {},
   "outputs": [],
   "source": [
    "def rotor_model(X,t,paramsmodel):\n",
    "    psira = X[0]\n",
    "    psirb = X[1]\n",
    "    lh,tr,w,isa,isb =paramsmodel\n",
    "    \n",
    "    dpsiradt = -w*psirb -(1/tr)*psira + (lh/tr)*isa\n",
    "    dpsirbdt = +w*psira -(1/tr)*psirb + (lh/tr)*isb\n",
    "    return [dpsiradt,dpsirbdt]\n",
    "    "
   ]
  },
  {
   "cell_type": "code",
   "execution_count": 7,
   "id": "70433912",
   "metadata": {},
   "outputs": [],
   "source": [
    "def PIcon(xe,y,dt,Kparams):\n",
    "    \"\"\"Pass on xe = [error[k], error[k-1]]\n",
    "       Pass on y  = [y[k-1]]\n",
    "       Pass on Parameters = [kp, Ti]\n",
    "    \"\"\"\n",
    "    kp, Ti = Kparams\n",
    "    xeo = xe[1]\n",
    "    xen = xe[0]\n",
    "#     print(xeo,xen,y,kp,Ti)\n",
    "    y1 = y\n",
    "    y2 = y1 + kp*(xen - xeo) + (kp/Ti)*(xen)*dt\n",
    "    return y2\n",
    "\n",
    "def PIconwithLim(xe,y,dt,Kparams):\n",
    "    \"\"\"Pass on xe = [error[k], error[k-1]]\n",
    "       Pass on y  = [y[k-1]]\n",
    "       Pass on Parameters = [kp, Ti]\n",
    "    \"\"\"\n",
    "    kp, Ti, uplim, dwnlim = Kparams\n",
    "    xeo = xe[1]\n",
    "    xen = xe[0]\n",
    "\n",
    "    y1 = y\n",
    "    yx = y1 + kp*(xen - xeo) + (kp/Ti)*(xen)*dt\n",
    "    if (yx > uplim):\n",
    "        yx = uplim\n",
    "    elif (yx < dwnlim):\n",
    "        yx = dwnlim\n",
    "    y2 = yx\n",
    "    return y2"
   ]
  },
  {
   "cell_type": "markdown",
   "id": "82f65276",
   "metadata": {},
   "source": [
    "## Time domain simulation\n",
    "1. To simulate the motor dynamic we will create a time series with real time in [s], with very small time step say 1e-6 [s]. Since the equations are in [p.u] will pass on normalized time when solving ODE\n",
    "2. We will create another time base say 512[$\\mu$s] to simulate the digital control system. So all values here will be updates in the sampling period \n"
   ]
  },
  {
   "cell_type": "code",
   "execution_count": 8,
   "id": "3a1ae2eb",
   "metadata": {},
   "outputs": [
    {
     "name": "stdout",
     "output_type": "stream",
     "text": [
      "125664 125664 125664 125664\n",
      "(125664, 2)\n"
     ]
    }
   ],
   "source": [
    "tend = 4#s\n",
    "tinc = 3.183098861837907e-05\n",
    "rt = np.arange(0,tend,tinc)\n",
    "#Solution variables and control variab;es\n",
    "u = np.zeros((len(rt),2)) #array for the voltage - u[0][0] - vsalpha(0) u[0][1] - vsbeta(0)\n",
    "mla = np.zeros(len(rt))  #load torque array\n",
    "soln = np.zeros((len(rt),5)) #array to store the solution values \n",
    "solm = np.zeros((len(rt),2))\n",
    "print(len(rt), len(u), len(mla), len(soln))\n",
    "print(np.shape(u))"
   ]
  },
  {
   "cell_type": "code",
   "execution_count": 9,
   "id": "b5fb5ff9",
   "metadata": {},
   "outputs": [
    {
     "name": "stdout",
     "output_type": "stream",
     "text": [
      "0.0185 0.03109779881656805\n"
     ]
    }
   ],
   "source": [
    "#generating voltages\n",
    "#defining the voltage and torque steps\n",
    "w_R = 2*np.pi*50\n",
    "a = 0.5\n",
    "for ii, item in enumerate(rt):\n",
    "    if(item < 3e-3):\n",
    "        u[ii] = [0,0]\n",
    "        mla[ii] = 0.5\n",
    "    elif(item <= 10e-3):\n",
    "        u[ii] = [a*np.cos(a*w_R*item), a*np.sin(a*w_R*item)] #vbyf = constant acheived \n",
    "        mla[ii] = 0.3  #\n",
    "    else:\n",
    "        u[ii] = [a*np.cos(a*w_R*item), a*np.sin(a*w_R*item)]\n",
    "        mla[ii] = 0.2  #Torque changed to 1.0\n",
    "#set machine parameters\n",
    "rs,rr,lh,ls,lr,sig,kr,tr,rk,tk,tmech = mach_para(mach_mb)\n",
    "print(rs,rk)"
   ]
  },
  {
   "cell_type": "markdown",
   "id": "576ea6c5",
   "metadata": {},
   "source": [
    "### Setting the PI controller using magnitude optimum"
   ]
  },
  {
   "cell_type": "code",
   "execution_count": 10,
   "id": "a5961221",
   "metadata": {},
   "outputs": [
    {
     "name": "stdout",
     "output_type": "stream",
     "text": [
      "V_DC 565.685424949238\n",
      "5.721404205248259 0.015 27.848447052241013\n",
      "4.0 5.721404205248259 0.015\n",
      "4.280164014857703 0.24 27.848447052241013\n"
     ]
    }
   ],
   "source": [
    "T_s = 3.183098861837907e-05#512e-6#sampling time\n",
    "########-----------------------------------\n",
    "V_LL = 400#V\n",
    "Vpnpeak = np.sqrt(2)*V_LL/np.sqrt(3)\n",
    "I_LL = 10.4#A\n",
    "V_DC = np.sqrt(2)*V_LL#V Peak value of line to line voltage\n",
    "print(\"V_DC\", V_DC)\n",
    "T_eq = 1.5*T_s\n",
    "# T_eq = T_s\n",
    "#Normalized time constant\n",
    "tau_eq = T_eq*w_R\n",
    "k_c = V_DC/(2*Vpnpeak)\n",
    "#\n",
    "k_is = 1/rk\n",
    "k_im = k_c*1/rk\n",
    "ac = 4.0\n",
    "T_i = tk\n",
    "T_i = tau_eq*ac**2\n",
    "print(tk, tau_eq, k_im)\n",
    "# k_pi = tk/(2*k_im*tau_eq)\n",
    "k_pi = tk/(0.8*ac*k_im*tau_eq)\n",
    "print(ac,tk,tau_eq)\n",
    "Kparams = [k_pi,T_i]\n",
    "Kparams2 = [k_pi,T_i, -1.0,1.0]\n",
    "print(k_pi, T_i, k_im)\n",
    "rs,rr,lh,ls,lr,sig,kr,tr,rk,tk,tmech = mach_para(mach_mb)\n",
    "#----------------------------\n"
   ]
  },
  {
   "cell_type": "code",
   "execution_count": 11,
   "id": "4230a54c",
   "metadata": {},
   "outputs": [],
   "source": [
    "\n",
    "usa = np.zeros(len(rt))\n",
    "usb = np.zeros(len(rt))\n",
    "sol1 = np.zeros((len(rt),5))\n",
    "sol2 = np.zeros((len(rt),2))\n",
    "FCangle = np.zeros(len(rt))\n",
    "# Field coordinate currents\n",
    "cosdelta = np.zeros(len(rt))\n",
    "sindelta = np.zeros(len(rt))\n",
    "isd = np.zeros(len(rt))\n",
    "isq = np.zeros(len(rt))\n",
    "usd = np.zeros(len(rt))\n",
    "usq = np.zeros(len(rt))\n",
    "eid = np.zeros(len(rt))\n",
    "eiq = np.zeros(len(rt))\n",
    "\n",
    "#Creating reference values for isd and isq\n",
    "isdrefval = 1/lh\n",
    "isdref = np.zeros(len(rt))\n",
    "isqref = np.zeros(len(rt))\n",
    "\n",
    "isqref1 = 0\n",
    "isqref2 = 0.5\n",
    "isqref3 = -0.35\n",
    "for ii, item in enumerate(rt):\n",
    "    isdref[ii] = isdrefval\n",
    "    if (item >= 15e-3):\n",
    "        isqref[ii] = isqref3\n",
    "    elif(item >= 5e-3):\n",
    "        isqref[ii]= isqref2\n",
    "    else:\n",
    "        isqref[ii]=isqref1\n",
    "\n",
    "\n",
    "\n",
    "\n",
    "psird = np.zeros(len(rt))\n",
    "psirq = np.zeros(len(rt))\n",
    "\n",
    "mL = 0.0\n",
    "me = np.zeros(len(rt))\n",
    "# x0 = [0.0,0.0,1.0,0,ws]\n",
    "rs,rr,lh,ls,lr,sig,kr,tr,rk,tk,tmech = mach_para(mach_mb)\n",
    "\n",
    "\n"
   ]
  },
  {
   "cell_type": "code",
   "execution_count": 12,
   "id": "bd3287e4",
   "metadata": {},
   "outputs": [],
   "source": [
    "ws = 0.4\n",
    "#Initialize\n",
    "X0 = [0.3,0.0,1.0,0.0,ws] #setting the inital conditions \n",
    "X0m = [1.0,0] \n",
    "# ODE solver parameters\n",
    "abserr = 1.0e-5\n",
    "relerr = 1.0e-3\n",
    "\n",
    "for ii, item in enumerate(rt):\n",
    "    if ii > 0:\n",
    "        eid[ii] = isdref[ii-1] - isd[ii-1]\n",
    "        PIed = [eid[ii],eid[ii-1]]\n",
    "        usd[ii] = PIcon(PIed, usd[ii-1], w_R*tinc,Kparams) #+ ws*sig*ls*isq[ii-1]\n",
    "#         usd[ii] = PIconwithLim(PIed,usd[ii-1],tinc,Kparams2)\n",
    "        eiq[ii] = isqref[ii-1] - isq[ii-1]\n",
    "        PIeq = [eiq[ii],eiq[ii-1]]\n",
    "        usq[ii] = PIcon(PIeq, usq[ii-1], w_R*tinc,Kparams) #- ws*sig*ls*isd[ii-1]\n",
    "#         usq[ii] = PIconwithLim(PIeq,usq[ii-1],tinc,Kparams2)\n",
    "    if ws>=1.0:\n",
    "        a = 1.0\n",
    "    else: \n",
    "        a = ws\n",
    "    #vector control transformation \n",
    "    usa[ii] = usd[ii-1]*cosdelta[ii-1] - usq[ii-1]*sindelta[ii-1]\n",
    "    usb[ii] = usq[ii-1]*cosdelta[ii-1] + usd[ii-1]*sindelta[ii-1]\n",
    "    #------------------------------------------------------------------------------------\n",
    "    #Model of the induction motor full\n",
    "    params = [usa[ii],usb[ii],0,rs,rr,lh,ls,lr,sig,kr,tr,rk,tk,tmech] #desired frequency , voltage components, load torque\n",
    "    #call odeint(dydt, Initial condition, [0,tinc], parameters)\n",
    "    solx = odeint(Im_dynamic,X0, [0,w_R*tinc], args = (params,), atol = abserr, rtol = relerr)\n",
    "    X0 = solx[-1] #\n",
    "    sol1[ii] = solx[-1] #\n",
    "    # lh,tr,w,isa,isb\n",
    "    #estimator uses only the variables that I can measure\n",
    "    paramsmodel = [lh,tr,sol1[ii,4],sol1[ii,0],sol1[ii,1],]\n",
    "    soly = odeint(rotor_model,X0m, [0,w_R*tinc], args = (paramsmodel,), atol = abserr, rtol = relerr)\n",
    "    X0m = soly[-1]\n",
    "    sol2[ii] = soly[-1]\n",
    "    #----------------------------------------\n",
    "    psircomp = complex(sol2[ii][0], sol2[ii][1])\n",
    "    FCangle[ii] = np.arccos(sol2[ii][0]/np.abs(psircomp))\n",
    "    cosdelta[ii] = sol2[ii][0]/np.abs(psircomp)\n",
    "    sindelta[ii] = sol2[ii][1]/np.abs(psircomp)\n",
    "    #Coordinate transformation \n",
    "    #Convert stator coordinate current to field coordinates\n",
    "    isd[ii] = sol1[ii][0]*cosdelta[ii] + sol1[ii][1]*sindelta[ii]\n",
    "    isq[ii] = sol1[ii][1]*cosdelta[ii] - sol1[ii][0]*sindelta[ii]\n",
    "    #Rotor flux in field coordinates Using estimator output as in practice\n",
    "    #actual flux will not be available for measurement\n",
    "    psird[ii] = sol2[ii][0]*cosdelta[ii] + sol2[ii][1]*sindelta[ii]\n",
    "    psirq[ii] = sol2[ii][1]*cosdelta[ii] - sol2[ii][0]*sindelta[ii]\n",
    "\n",
    "    \n",
    "isa = sol1[:, 0]\n",
    "isb = sol1[:, 1]\n",
    "psra = sol1[:, 2]\n",
    "psrb = sol1[:, 3]\n",
    "w = sol1[:,4]\n",
    "psiradash = sol2[:,0]\n",
    "psirbdash = sol2[:,1]\n",
    "\n",
    "\n",
    "\n",
    "me1 = kr*(psra*isb - psrb*isa)"
   ]
  },
  {
   "cell_type": "code",
   "execution_count": 13,
   "id": "34f3a070",
   "metadata": {},
   "outputs": [
    {
     "data": {
      "image/png": "[encoded data removed]",
      "text/plain": [
       "<Figure size 432x360 with 2 Axes>"
      ]
     },
     "metadata": {
      "needs_background": "light"
     },
     "output_type": "display_data"
    },
    {
     "data": {
      "image/png": "[encoded data removed]",
      "text/plain": [
       "<Figure size 288x205.2 with 1 Axes>"
      ]
     },
     "metadata": {
      "needs_background": "light"
     },
     "output_type": "display_data"
    }
   ],
   "source": [
    "dirfig = \"D:/tex/lec/drives/figures/\"\n",
    "dirfig2 = \"D:/tex/lec/drives/Drivesbook/figures/\"\n",
    "plt.figure(531, figsize = (6,5))\n",
    "plt.rc('font', size = 12)\n",
    "plt.subplot(2,1,1)\n",
    "plt.plot(rt/1e-3,  isa, 'r',lw =2) \n",
    "plt.plot(rt/1e-3,isb ,'purple' ,lw =2)\n",
    "# plt.plot(rt, psra, 'skyblue')\n",
    "t1w = 1e-3#np.pi*2*45\n",
    "t2w = 20e-3#tend#7e-3#np.pi*2*60\n",
    "plt.xlim(t1w/1e-3,t2w/1e-3)\n",
    "plt.ylim(-1.01,1.01)\n",
    "plt.xticks(np.linspace(t1w/1e-3,t2w/1e-3,5))\n",
    "plt.ylabel(r'$i_{s\\alpha}, \\i_{s\\beta}$' )\n",
    "# plt.xticks(np.linspace(t1w,t2w,5))\n",
    "ax1 = plt.subplot(2,1,2)\n",
    "ax1.plot(rt/1e-3, isq, 'purple', lw =2, label = r'$i_{sq}$')\n",
    "# ax1.plot(rt/1e-3, eiq, 'r', lw =1, label = r'$e_{sq}$')\n",
    "ax1.plot(rt/1e-3,isqref,ls=\"-.\", c= 'purple', lw =1, label = r'$i^{*}_{sq}$')\n",
    "ax1 = plt.subplot(2,1,2)\n",
    "ax1.plot(rt/1e-3, isd, 'tomato', lw =2, label = r'$i_{sd}$')\n",
    "ax1.plot(rt/1e-3,isdref,ls=\"-.\", c= 'tomato', lw =1, label = r'$i^{*}_{sd}$')\n",
    "ax1.plot(rt/1e-3,psird, 'magenta', lw=2)\n",
    "ax1.set_ylabel(r'$i_{sd}, \\i_{sq}$' )\n",
    "ax1.set_xlabel(r'$t$ [ms]')\n",
    "\n",
    "plt.rcParams['legend.fontsize']=9\n",
    "ax1.legend(loc = 'upper right')\n",
    "\n",
    "# ax1.axhline(0, c = 'k')\n",
    "#pl.axhline(-1.0)\n",
    "\n",
    "# t1w = 0#np.pi*2*45\n",
    "# t2w = tend#np.pi*2*60\n",
    "ax1.set_xlim(t1w/1e-3,t2w/1e-3)\n",
    "ax1.set_xticks(np.linspace(t1w/1e-3,t2w/1e-3,5))\n",
    "# ax1.set_yticks(np.linspace(-0.5,1.0,4))\n",
    "ax1.set_ylim(-1.2,1.2)\n",
    "# ax2.set_ylim(0,3.14)\n",
    "#Change name\n",
    "# plt.savefig(dirfig2 + \"FOCcurrentsvst2.pdf\", bbox_inches = 'tight', transparent = True)\n",
    "\n",
    "plt.figure(5341, figsize = (4,2.85))\n",
    "plt.plot(rt/1e-3, isq, 'crimson', lw =2, label = r'$i_{sq}$')\n",
    "# ax1.plot(rt/1e-3, eiq, 'r', lw =1, label = r'$e_{sq}$')\n",
    "plt.plot(rt/1e-3,isqref,ls=\"-.\", c= 'r', lw =1, label = r'$i^{*}_{sq}$')\n",
    "t1w = 4.8e-3#np.pi*2*45\n",
    "t2w = 7e-3#tend#7e-3#np.pi*2*60\n",
    "plt.xlim(t1w/1e-3,t2w/1e-3)\n",
    "plt.ylim(-0.1)\n",
    "plt.ylabel(r'$i^{*}_{sq}, \\i_{sq}$' )\n",
    "plt.xlabel(r'$t$ [ms]')\n",
    "plt.legend(loc = 'lower right', fontsize = 10)\n",
    "plt.minorticks_on()\n",
    "plt.grid(which = 'major', c = 'skyblue', lw = 0.5)\n",
    "plt.grid(which = 'minor', c = 'grey', lw = 0.2)\n",
    "plt.axvline(5.0512, c ='k', lw = 1.0)\n",
    "plt.show()"
   ]
  },
  {
   "cell_type": "code",
   "execution_count": 14,
   "id": "661127d6",
   "metadata": {},
   "outputs": [
    {
     "data": {
      "image/png": "[encoded data removed]",
      "text/plain": [
       "<Figure size 432x360 with 3 Axes>"
      ]
     },
     "metadata": {
      "needs_background": "light"
     },
     "output_type": "display_data"
    },
    {
     "data": {
      "image/png": "[encoded data removed]",
      "text/plain": [
       "<Figure size 216x216 with 1 Axes>"
      ]
     },
     "metadata": {
      "needs_background": "light"
     },
     "output_type": "display_data"
    },
    {
     "name": "stdout",
     "output_type": "stream",
     "text": [
      "0.26247100277617025 -0.3499509531071158\n"
     ]
    }
   ],
   "source": [
    "plt.figure(535, figsize = (6,5))\n",
    "plt.rc('font', size = 12)\n",
    "plt.subplot(2,1,1)\n",
    "plt.plot(rt/1e-3,  w, 'b', lw =2, label = '$\\omega$')\n",
    "plt.plot(rt/1e-3,me1 ,'brown' ,lw =2, label = '$m_e$')\n",
    "t1w = 1e-3#np.pi*2*45\n",
    "t2w = 20e-3#tend#7e-3#np.pi*2*60\n",
    "plt.xlim(t1w/1e-3,t2w/1e-3)\n",
    "# plt.xlim(0,tend)\n",
    "plt.axvline(942.5)\n",
    "plt.axhline(0, c= 'gray')\n",
    "plt.ylabel(r'$\\omega, m_e$' )\n",
    "plt.xticks(np.linspace(t1w/1e-3,t2w/1e-3,5))\n",
    "plt.yticks(np.linspace(-1.0,1.0,5))\n",
    "plt.rcParams['legend.fontsize']=9\n",
    "plt.legend(loc = 'lower left')\n",
    "\n",
    "ax1 = plt.subplot(2,1,2)\n",
    "ax1.plot(rt/1e-3,psra, 'tomato', lw =1, label = r'$i_{sd}$')\n",
    "ax1.plot(rt/1e-3,psrb, 'purple', lw =1, label = r'$i_{sq}$')\n",
    "# ax1.plot(rt1/e-3,psird, 'magenta', lw=2)\n",
    "ax1.set_ylabel(r'$\\psi_{r\\alpha}, \\psi_{r\\beta}$' )\n",
    "ax1.set_xlabel(r'$t$[mS]')\n",
    "ax2 = ax1.twinx()\n",
    "ax2.plot(rt/1e-3,FCangle, 'olive', lw =1, label = '$\\delta$')\n",
    "ax2.set_ylabel(r'$\\delta$' )\n",
    "plt.rcParams['legend.fontsize']= 9 \n",
    "ax2.legend(loc = 'lower center')\n",
    "t1w = 1e-3\n",
    "t2w = 100e-3\n",
    "ax1.set_xlim(t1w/1e-3,t2w/1e-3)\n",
    "ax1.set_xticks(np.linspace(t1w/1e-3,t2w/1e-3,3))\n",
    "# ax1.set_yticks(np.linspace(-1.0,1.0,5))\n",
    "# ax1.set_ylim(-1.05,1.05)\n",
    "# ax2.set_ylim(0,3.14)\n",
    "\n",
    "# plt.savefig(dirfig2 + \"FOCcSpeedTorquesvst2.pdf\", bbox_inches = 'tight', transparent = True)\n",
    "\n",
    "\n",
    "\n",
    "plt.figure(533, figsize = (3,3))\n",
    "plt.rc('font', size = 12)\n",
    "plt.rcParams['axes.titlesize']=12\n",
    "plt.plot(isd,isq,'purple', lw =2, label = 'Field currents')\n",
    "# plt.plot(usd, usq, 'skyblue', lw =2 , label = \"Voltage\")\n",
    "# plt.axhline(0)\n",
    "#plt.axvline(0)\n",
    "plt.arrow(0,0,psird[-1],psirq[-1], fc = 'magenta', ec = 'magenta',  head_width = 0.05\\\n",
    "         ,length_includes_head = True, lw =3)\n",
    "plt.arrow(0,0,isd[-1],isq[-1], fc = 'crimson', ec = 'crimson',  head_width = 0.05\\\n",
    "         ,length_includes_head = True, lw =3)\n",
    "plt.arrow(0,0,usd[-1],usq[-1], fc = 'navy', ec = 'navy',  head_width = 0.05\\\n",
    "         ,length_includes_head = True, lw =3)\n",
    "plt.arrow(0,0,usd[1000],usq[1000], fc = 'blue', ec = 'blue',  head_width = 0.05\\\n",
    "         ,length_includes_head = True, lw =3)\n",
    "plt.arrow(0,0,isd[-1],0, fc = 'coral', ec = 'coral',  head_width = 0.05\\\n",
    "         ,length_includes_head = True, lw =3)\n",
    "plt.arrow(isd[-1],0,0,isq[-1], fc = 'coral', ec = 'coral',  head_width = 0.05\\\n",
    "         ,length_includes_head = True, lw =3)\n",
    "# plt.text(psird[-1]-0.1, psirq[-1]+0.08, r'$\\vec{\\psi}_r$', fontsize = 16)\n",
    "# plt.text(isd[-1], isq[-1]-0.09, r'$\\vec{i}_{s}$', fontsize = 16)\n",
    "# plt.text(usd[-1], usq[-1]-0.09, r'$\\vec{v}_{s}$', fontsize = 16)\n",
    "plt.xlabel(r'$d$')\n",
    "plt.ylabel(r'$q$')\n",
    "plt.xlim(-0.1,1.0)\n",
    "plt.ylim(-1.0,1.0)\n",
    "plt.xticks(np.linspace(0,1.0,5))\n",
    "# plt.axis('equal')\n",
    "plt.rcParams['legend.fontsize']=9\n",
    "# plt.legend(loc = 'lower left', bbox_to_anchor = (0.8,0))\n",
    "plt.title('Field Coordinates')\n",
    "#Change name\n",
    "# plt.savefig(dirfig2 + \"FOCcXYvectors2.pdf\", bbox_inches = 'tight', transparent = True)\n",
    "plt.show()\n",
    "print(isd[-1], isq[-1])"
   ]
  },
  {
   "cell_type": "markdown",
   "id": "27bbb4fd",
   "metadata": {},
   "source": [
    "## Fluxing (Creating initial flux) and inner current control "
   ]
  },
  {
   "cell_type": "code",
   "execution_count": 39,
   "id": "4263f17e",
   "metadata": {},
   "outputs": [
    {
     "name": "stdout",
     "output_type": "stream",
     "text": [
      "157080 157080 157080 157080\n",
      "(157080, 2)\n"
     ]
    }
   ],
   "source": [
    "tend = 5#s\n",
    "tinc = 3.183098861837907e-05\n",
    "rt = np.arange(0,tend,tinc)\n",
    "#Solution variables and control variab;es\n",
    "u = np.zeros((len(rt),2)) #array for the voltage - u[0][0] - vsalpha(0) u[0][1] - vsbeta(0)\n",
    "mla = np.zeros(len(rt))  #load torque array\n",
    "soln = np.zeros((len(rt),5)) #array to store the solution values \n",
    "solm = np.zeros((len(rt),2))\n",
    "print(len(rt), len(u), len(mla), len(soln))\n",
    "print(np.shape(u))"
   ]
  },
  {
   "cell_type": "code",
   "execution_count": 40,
   "id": "c7ab63e7",
   "metadata": {},
   "outputs": [
    {
     "name": "stdout",
     "output_type": "stream",
     "text": [
      "V_DC 565.685424949238\n",
      "5.721404205248259 0.015 27.848447052241013\n",
      "4.0 5.721404205248259 0.015\n",
      "4.280164014857703 0.24 27.848447052241013\n"
     ]
    }
   ],
   "source": [
    "T_s = 3.183098861837907e-05#512e-6#sampling time\n",
    "########-----------------------------------\n",
    "V_LL = 400#V\n",
    "Vpnpeak = np.sqrt(2)*V_LL/np.sqrt(3)\n",
    "I_LL = 10.4#A\n",
    "V_DC = np.sqrt(2)*V_LL#V Peak value of line to line voltage\n",
    "print(\"V_DC\", V_DC)\n",
    "T_eq = 1.5*T_s\n",
    "# T_eq = T_s\n",
    "#Normalized time constant\n",
    "tau_eq = T_eq*w_R\n",
    "k_c = V_DC/(2*Vpnpeak)\n",
    "#\n",
    "k_is = 1/rk\n",
    "k_im = k_c*1/rk\n",
    "# k_im = 1.0#test\n",
    "ac = 4.0\n",
    "#T_i = tk\n",
    "T_i = tau_eq*ac**2\n",
    "print(tk, tau_eq, k_im)\n",
    "#k_pi = tk/(2*k_im*tau_eq)\n",
    "k_pi = tk/(0.8*ac*k_im*tau_eq)\n",
    "# k_pi = 0.5\n",
    "# T_i = 100.0\n",
    "print(ac,tk,tau_eq)\n",
    "Kparams = [k_pi,T_i]\n",
    "Kparams2 = [k_pi,T_i, -1.0,1.0]\n",
    "print(k_pi, T_i, k_im)\n",
    "rs,rr,lh,ls,lr,sig,kr,tr,rk,tk,tmech = mach_para(mach_mb)"
   ]
  },
  {
   "cell_type": "code",
   "execution_count": 41,
   "id": "6da7a777",
   "metadata": {},
   "outputs": [],
   "source": [
    "\n",
    "usa = np.zeros(len(rt))\n",
    "usb = np.zeros(len(rt))\n",
    "sol1 = np.zeros((len(rt),5))\n",
    "sol2 = np.zeros((len(rt),2))\n",
    "FCangle = np.zeros(len(rt))\n",
    "# Field coordinate currents\n",
    "cosdelta = np.zeros(len(rt))\n",
    "sindelta = np.zeros(len(rt))\n",
    "isd = np.zeros(len(rt))\n",
    "isq = np.zeros(len(rt))\n",
    "usd = np.zeros(len(rt))\n",
    "usq = np.zeros(len(rt))\n",
    "eid = np.zeros(len(rt))\n",
    "eiq = np.zeros(len(rt))\n",
    "psirref = np.zeros(len(rt))\n",
    "\n",
    "#Creating reference values for isd and isq\n",
    "isdrefval = 1/lh\n",
    "isdref = np.zeros(len(rt))\n",
    "isqref = np.zeros(len(rt))\n",
    "psirval = 1.0\n",
    "isqref1 = 0\n",
    "isqref2 = 0.5\n",
    "isqref3 = -0.35\n",
    "for ii, item in enumerate(rt):\n",
    "    if (item >= 3):\n",
    "        isqref[ii] = isqref3\n",
    "        psirref[ii] = psirval\n",
    "    elif(item >= 2):\n",
    "        isqref[ii]= isqref2\n",
    "        psirref[ii] = psirval\n",
    "    elif(item >= 0.5e-3):\n",
    "         psirref[ii] = psirval\n",
    "    else:\n",
    "        isqref[ii]=isqref1\n",
    "\n",
    "\n",
    "\n",
    "\n",
    "psird = np.zeros(len(rt))\n",
    "psirq = np.zeros(len(rt))\n",
    "\n",
    "mL = 0.0\n",
    "me = np.zeros(len(rt))\n",
    "# x0 = [0.0,0.0,1.0,0,ws]\n",
    "rs,rr,lh,ls,lr,sig,kr,tr,rk,tk,tmech = mach_para(mach_mb)\n",
    "\n",
    "epsir = np.zeros(len(rt)) #error in flux controller\n",
    "ew = np.zeros(len(rt))    #error in speed controller\n",
    "\n",
    "kpf = 10.2\n",
    "Tif = 1.0e1\n",
    "# Kparams2 = [k_pi,T_i, -1.0,1.0]\n",
    "KfluxcontrolLim = [kpf,Tif,0.8,0]\n",
    "Kfluxcontrol = [kpf,Tif]\n",
    "X0 = [0.0,0.0,0.0,0.0,ws] #setting the inital conditions \n",
    "X0m = [0.0,0] "
   ]
  },
  {
   "cell_type": "code",
   "execution_count": 42,
   "id": "c0fde205",
   "metadata": {},
   "outputs": [],
   "source": [
    "ws = 0.1\n",
    "X0 = [0.1,0.0,0.0,0.0,ws] #setting the inital conditions \n",
    "X0m = [0.1,0] \n",
    "for ii, tnow in enumerate(rt):\n",
    "    #Start controller after first step\n",
    "    psird[0]=0.0\n",
    "    if ii > 0:\n",
    "        #-------------------------------------------\n",
    "        #flux controller\n",
    "        epsir[ii] = psirref[ii-1] - psird[ii-1]\n",
    "        PIpsr = [epsir[ii], epsir[ii-1]]\n",
    "#         isdref[ii] = PIcon(PIpsr,isdref[ii-1], w_R*tinc, Kfluxcontrol)\n",
    "        isdref[ii] = PIconwithLim(PIpsr,isdref[ii-1], w_R*tinc, KfluxcontrolLim)\n",
    "        #---------------------------------------------------------------\n",
    "        eid[ii] = isdref[ii-1] - isd[ii-1]\n",
    "        PIed = [eid[ii],eid[ii-1]]\n",
    "        usd[ii] = PIcon(PIed, usd[ii-1], w_R*tinc,Kparams) #+ ws*sig*ls*isq[ii-1]\n",
    "#         usd[ii] = PIconwithLim(PIed,usd[ii-1],tinc,Kparams2)\n",
    "        eiq[ii] = isqref[ii-1] - isq[ii-1]\n",
    "        PIeq = [eiq[ii],eiq[ii-1]]\n",
    "        usq[ii] = PIcon(PIeq, usq[ii-1], tinc,Kparams) #- ws*sig*ls*isd[ii-1]\n",
    "#         usq[ii] = PIconwithLim(PIeq,usq[ii-1],tinc,Kparams2)\n",
    "    if ws>=1.0:\n",
    "        a = 1.0\n",
    "    else: \n",
    "        a = ws\n",
    "    #vector control transformation \n",
    "    usa[ii] = usd[ii-1]*cosdelta[ii-1] - usq[ii-1]*sindelta[ii-1]\n",
    "    usb[ii] = usq[ii-1]*cosdelta[ii-1] + usd[ii-1]*sindelta[ii-1]\n",
    "    #------------------------------------------------------------------------------------\n",
    "    #Model of the induction motor full\n",
    "    params = [usa[ii],usb[ii],0,rs,rr,lh,ls,lr,sig,kr,tr,rk,tk,tmech] #desired frequency , voltage components, load torque\n",
    "    #call odeint(dydt, Initial condition, [0,tinc], parameters)\n",
    "    solx = odeint(Im_dynamic,X0, [0,w_R*tinc], args = (params,), atol = abserr, rtol = relerr)\n",
    "    X0 = solx[-1] #\n",
    "    sol1[ii] = solx[-1] #\n",
    "    # lh,tr,w,isa,isb\n",
    "    #estimator uses only the variables that I can measure\n",
    "    paramsmodel = [lh,tr,sol1[ii,4],sol1[ii,0],sol1[ii,1],]\n",
    "    soly = odeint(rotor_model,X0m, [0,w_R*tinc], args = (paramsmodel,), atol = abserr, rtol = relerr)\n",
    "    X0m = soly[-1]\n",
    "    sol2[ii] = soly[-1]\n",
    "    #----------------------------------------\n",
    "    psircomp = complex(sol2[ii][0], sol2[ii][1])\n",
    "    FCangle[ii] = cmath.phase(psircomp)#np.arccos(sol2[ii][0]/np.abs(psircomp))\n",
    "    cosdelta[ii] = sol2[ii][0]/np.abs(psircomp)\n",
    "    sindelta[ii] = sol2[ii][1]/np.abs(psircomp)\n",
    "    #Coordinate transformation \n",
    "    #Convert stator coordinate current to field coordinates\n",
    "    isd[ii] = sol1[ii][0]*cosdelta[ii] + sol1[ii][1]*sindelta[ii]\n",
    "    isq[ii] = sol1[ii][1]*cosdelta[ii] - sol1[ii][0]*sindelta[ii]\n",
    "    #Rotor flux in field coordinates Using estimator output as in practice\n",
    "    #actual flux will not be available for measurement\n",
    "    psird[ii] = sol2[ii][0]*cosdelta[ii] + sol2[ii][1]*sindelta[ii]\n",
    "    psirq[ii] = sol2[ii][1]*cosdelta[ii] - sol2[ii][0]*sindelta[ii]\n",
    "\n",
    "    \n",
    "isa = sol1[:, 0]\n",
    "isb = sol1[:, 1]\n",
    "psra = sol1[:, 2]\n",
    "psrb = sol1[:, 3]\n",
    "w = sol1[:,4]\n",
    "psiradash = sol2[:,0]\n",
    "psirbdash = sol2[:,1]\n",
    "\n",
    "\n",
    "\n",
    "me1 = kr*(psra*isb - psrb*isa)"
   ]
  },
  {
   "cell_type": "code",
   "execution_count": 43,
   "id": "f45fc779",
   "metadata": {},
   "outputs": [
    {
     "data": {
      "image/png": "[encoded data removed]",
      "text/plain": [
       "<Figure size 432x360 with 2 Axes>"
      ]
     },
     "metadata": {
      "needs_background": "light"
     },
     "output_type": "display_data"
    }
   ],
   "source": [
    "dirfig = \"D:/tex/lec/drives/figures/\"\n",
    "dirfig2 = \"D:/tex/lec/drives/Drivesbook/figures/\"\n",
    "plt.figure(531, figsize = (6,5))\n",
    "plt.rc('font', size = 12)\n",
    "plt.subplot(2,1,1)\n",
    "plt.plot(rt,  isa, 'r',lw =1) \n",
    "plt.plot(rt,isb ,'blue' ,lw =1)\n",
    "plt.plot(rt, psra, 'skyblue')\n",
    "t1w = 1#np.pi*2*45\n",
    "t2w = tend#7e-3#np.pi*2*60\n",
    "plt.xlim(t1w,t2w)\n",
    "plt.ylim(-1.2,1.2)\n",
    "# plt.xticks(np.linspace(t1w/1e-3,t2w/1e-3,5))\n",
    "plt.ylabel(r'$i_{s\\alpha}, \\i_{s\\beta}$' )\n",
    "# plt.xticks(np.linspace(t1w,t2w,5))\n",
    "ax1 = plt.subplot(2,1,2)\n",
    "ax1.plot(rt, isq, 'purple', lw =2, label = r'$i_{sq}$')\n",
    "ax1.plot(rt,isqref,ls=\"-.\", c= 'purple', lw =1, label = r'$i^{*}_{sq}$')\n",
    "ax1 = plt.subplot(2,1,2)\n",
    "ax1.plot(rt, isd, 'tomato', lw =2, label = r'$i_{sd}$')\n",
    "ax1.plot(rt,isdref,ls=\"-.\", c= 'tomato', lw =1, label = r'$i^{*}_{sd}$')\n",
    "ax1.plot(rt,psird, 'magenta', lw=2, label= r\"$\\psi_{rd}$\")\n",
    "ax1.set_ylabel(r'$i_{sd}, \\i_{sq}$' )\n",
    "ax1.set_xlabel(r'$t$ [s]')\n",
    "\n",
    "plt.rcParams['legend.fontsize']=9\n",
    "ax1.legend(loc = 'upper right')\n",
    "\n",
    "# ax1.axhline(0, c = 'k')\n",
    "#pl.axhline(-1.0)\n",
    "\n",
    "# t1w = 0#np.pi*2*45\n",
    "# t2w = tend#np.pi*2*60\n",
    "# ax1.set_xlim(t1w/1e-3,t2w/1e-3)\n",
    "ax1.set_xlim(0,t2w)\n",
    "# ax1.set_xticks(np.linspace(t1w/1e-3,t2w/1e-3,5))\n",
    "# ax1.set_yticks(np.linspace(-0.5,1.0,4))\n",
    "ax1.set_ylim(-1.2,1.2)\n",
    "# ax2.set_ylim(0,3.14)\n",
    "#Change name\n",
    "# plt.savefig(dirfig2 + \"FOCcurrentsvst2.pdf\", bbox_inches = 'tight', transparent = True)\n",
    "plt.show()"
   ]
  },
  {
   "cell_type": "code",
   "execution_count": 38,
   "id": "65e0b61a",
   "metadata": {},
   "outputs": [
    {
     "data": {
      "image/png": "[encoded data removed]",
      "text/plain": [
       "<Figure size 432x360 with 3 Axes>"
      ]
     },
     "metadata": {
      "needs_background": "light"
     },
     "output_type": "display_data"
    }
   ],
   "source": [
    "plt.figure(536, figsize = (6,5))\n",
    "plt.rc('font', size = 12)\n",
    "plt.subplot(2,1,1)\n",
    "plt.plot(rt,  w, 'b', lw =2, label = '$\\omega$')\n",
    "plt.plot(rt,me1 ,'brown' ,lw =2, label = '$m_e$')\n",
    "t1w = 0#np.pi*2*45\n",
    "t2w = tend#7e-3#np.pi*2*60\n",
    "# plt.xlim(t1w/1e-3,t2w/1e-3)\n",
    "plt.xlim(0,t2w)\n",
    "plt.axvline(942.5)\n",
    "plt.axhline(0, c= 'gray')\n",
    "plt.ylabel(r'$\\omega, m_e$' )\n",
    "# plt.xticks(np.linspace(t1w/1e-3,t2w/1e-3,5))\n",
    "plt.yticks(np.linspace(-1.0,1.0,5))\n",
    "plt.rcParams['legend.fontsize']=9\n",
    "plt.legend(loc = 'lower left')\n",
    "\n",
    "ax1 = plt.subplot(2,1,2)\n",
    "ax1.plot(rt,psird, 'magenta', lw=2, label= r\"$\\psi_{rd}$\")\n",
    "ax1.plot(rt,psirq, 'purple', lw =1, label = r'$\\psi_{sq}$')\n",
    "# ax1.plot(rt1/e-3,psird, 'magenta', lw=2)\n",
    "ax1.set_ylabel(r'$\\psi_{rd}, \\psi_{rq}$' )\n",
    "ax1.set_xlabel(r'$t$[s]')\n",
    "ax2 = ax1.twinx()\n",
    "# ax2.plot(rt/1e-3,FCangle, 'olive', lw =1, label = '$\\delta$')\n",
    "ax1.set_ylabel(r'$\\psi_r$' )\n",
    "plt.rcParams['legend.fontsize']= 9 \n",
    "ax1.legend(loc = 'center')\n",
    "t1w = 0\n",
    "t2w = tend\n",
    "# ax1.set_xlim(t1w/1e-3,t2w/1e-3)\n",
    "# ax1.set_xticks(np.linspace(t1w/1e-3,t2w/1e-3,3))\n",
    "# ax1.set_yticks(np.linspace(-1.0,1.0,5))\n",
    "# ax1.set_ylim(-1.05,1.05)\n",
    "# ax2.set_ylim(0,3.14)\n",
    "ax1.set_xlim(0,t2w)\n",
    "plt.show()"
   ]
  },
  {
   "cell_type": "markdown",
   "id": "ca41d90e",
   "metadata": {},
   "source": [
    "#### Speed Control\n",
    "\n",
    "Try to build one for the speed controller"
   ]
  }
 ],
 "metadata": {
  "kernelspec": {
   "display_name": "Python 3",
   "language": "python",
   "name": "python3"
  },
  "language_info": {
   "codemirror_mode": {
    "name": "ipython",
    "version": 3
   },
   "file_extension": ".py",
   "mimetype": "text/x-python",
   "name": "python",
   "nbconvert_exporter": "python",
   "pygments_lexer": "ipython3",
   "version": "3.8.5"
  }
 },
 "nbformat": 4,
 "nbformat_minor": 5
}
