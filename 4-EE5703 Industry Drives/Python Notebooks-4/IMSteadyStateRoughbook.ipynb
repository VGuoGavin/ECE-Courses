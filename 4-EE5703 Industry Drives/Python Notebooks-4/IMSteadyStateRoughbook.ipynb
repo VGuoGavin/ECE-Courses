{
 "cells": [
  {
   "cell_type": "code",
   "execution_count": 2,
   "id": "66987a07",
   "metadata": {},
   "outputs": [],
   "source": [
    "import numpy as np\n",
    "from math import pi,sin,cos\n",
    "from scipy.integrate import odeint\n",
    "import matplotlib.pyplot as plt\n",
    "import handcalcs.render\n",
    "import sympy as sym"
   ]
  },
  {
   "cell_type": "markdown",
   "id": "9beceaca",
   "metadata": {},
   "source": [
    "### Second approximate Model of IM"
   ]
  },
  {
   "cell_type": "code",
   "execution_count": 3,
   "id": "1e91ff66",
   "metadata": {},
   "outputs": [
    {
     "name": "stdout",
     "output_type": "stream",
     "text": [
      "0.0185\n"
     ]
    }
   ],
   "source": [
    "# Machine parameters\n",
    "\n",
    "#Dictionary - one of the data structures used in Python \n",
    "#Name of_dictionary = {'name of variable': value, \"nameof2ndvariable\": value2}\n",
    "mach_mc = {\"rs\": 0.009, \"rr\": 0.007, \"lh\": 4.14, \"ls\": 4.21, \"lr\": 4.21, \"tmech\":509.6}\n",
    "\n",
    "mach_mb = {\"rs\": 0.0185, \"rr\": 0.0132, \"lh\": 3.81, \"ls\": 3.9, \"lr\": 3.9, \"tmech\":397.31}\n",
    "\n",
    "mach_ma = {\"rs\": 0.015, \"rr\": 0.04, \"lh\": 2.31, \"ls\": 2.35, \"lr\": 2.35, \"tmech\":596.9}\n",
    "\n",
    "#mach_my = {\"rs\": 0.016, \"rr\": 0.05, \"lh\": 2.31, \"ls\": 2.35, \"lr\": 2.35, \"tmech\":596.9}\n",
    "\n",
    "mach_BM = {\"rs\": 0.0426, \"rr\": 0.02113, \"lh\": 2.252, \"ls\": 2.252+0.078, \"lr\": 2.252+0.1052, \"tmech\":200.}\n",
    "\n",
    "print(mach_mb[\"rs\"])\n",
    "\n",
    "#defining parmeters for a T-equivalent circuit\n",
    "def mach_Tpara(dict):\n",
    "    rs = dict[\"rs\"]\n",
    "    rr = dict[\"rr\"]\n",
    "    lh = dict[\"lh\"]\n",
    "    ls = dict[\"ls\"]\n",
    "    lr = dict[\"lr\"]\n",
    "    sig= 1-(lh*lh)/(lr*ls)\n",
    "    kr=lh/lr\n",
    "    sigs= ls- lh\n",
    "    sigr = lr - lh\n",
    "    lsigss = sigs*lh\n",
    "    lsigrr = sigr*lh\n",
    "#     print(ls)\n",
    "    return rs,rr,lh,ls,lr,sig,lsigss,lsigrr"
   ]
  },
  {
   "cell_type": "code",
   "execution_count": 6,
   "id": "3ff358eb",
   "metadata": {},
   "outputs": [],
   "source": [
    "def SSIMapprox2(mach_dict,vs,ws,s):\n",
    "    rs,rr,lh,ls,lr,sig,lsigss,lsigrr = mach_Tpara(mach_dict)\n",
    "    #Impedance on rotor \n",
    "    zr = complex(rr/s,(ws*(lsigss + lsigrr)))\n",
    "    ir = complex(0,vs)/zr\n",
    "    irmag = np.abs(ir)\n",
    "    pag = irmag**2*rr/s\n",
    "    me = pag/ws\n",
    "    w = ws*(1-s)\n",
    "    return me,w,irmag"
   ]
  },
  {
   "cell_type": "code",
   "execution_count": 42,
   "id": "279a9e97",
   "metadata": {},
   "outputs": [],
   "source": [
    "svar = np.arange(-0.0001,1.0,0.01)\n",
    "mes = np.zeros(len(svar))\n",
    "irs = np.zeros(len(svar))\n",
    "w_s = np.zeros(len(svar))\n",
    "\n",
    "for ii,sn in enumerate(svar):\n",
    "    yy = SSIMapprox2(mach_BM,1.0,1.0,sn)\n",
    "    mes[ii] = yy[0]\n",
    "    w_s[ii] = yy[1]\n",
    "    irs[ii] = yy[2]"
   ]
  },
  {
   "cell_type": "code",
   "execution_count": 43,
   "id": "854b2135",
   "metadata": {},
   "outputs": [
    {
     "data": {
      "text/plain": [
       "Text(0.5, 0, '$m_e$')"
      ]
     },
     "execution_count": 43,
     "metadata": {},
     "output_type": "execute_result"
    },
    {
     "data": {
      "image/png": "[encoded data removed]",
      "text/plain": [
       "<Figure size 288x504 with 2 Axes>"
      ]
     },
     "metadata": {
      "needs_background": "light"
     },
     "output_type": "display_data"
    }
   ],
   "source": [
    "plt.figure(101, figsize = (4,7))\n",
    "plt.rc('font', size = 12)\n",
    "plt.subplot(2,1,1)\n",
    "plt.plot(mes,w_s,'r',lw = 2, label = \"speed-Torque\")\n",
    "# plt.ylim(0,1.1)\n",
    "plt.ylabel('$\\omega$')\n",
    "plt.xlabel('$m_e$')\n",
    "# plt.xlim(0)\n",
    "plt.subplot(2,1,2)\n",
    "plt.plot(mes,irs,'dodgerblue',lw = 2, label = \"current-Torque\")\n",
    "plt.ylabel('$|i_r|$')\n",
    "plt.xlabel('$m_e$')\n"
   ]
  }
 ],
 "metadata": {
  "kernelspec": {
   "display_name": "Python 3",
   "language": "python",
   "name": "python3"
  },
  "language_info": {
   "codemirror_mode": {
    "name": "ipython",
    "version": 3
   },
   "file_extension": ".py",
   "mimetype": "text/x-python",
   "name": "python",
   "nbconvert_exporter": "python",
   "pygments_lexer": "ipython3",
   "version": "3.8.5"
  }
 },
 "nbformat": 4,
 "nbformat_minor": 5
}
