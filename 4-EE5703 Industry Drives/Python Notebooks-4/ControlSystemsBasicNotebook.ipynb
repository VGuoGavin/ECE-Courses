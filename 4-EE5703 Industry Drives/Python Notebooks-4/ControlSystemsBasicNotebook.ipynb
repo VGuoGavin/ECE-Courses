{
 "cells": [
  {
   "cell_type": "code",
   "execution_count": 97,
   "id": "f519820b",
   "metadata": {},
   "outputs": [],
   "source": [
    "import numpy as np\n",
    "from scipy.integrate import solve_ivp, odeint\n",
    "import sympy as sy\n",
    "import handcalcs.render\n",
    "import matplotlib.pyplot as plt"
   ]
  },
  {
   "cell_type": "code",
   "execution_count": 98,
   "id": "354abb37",
   "metadata": {},
   "outputs": [],
   "source": [
    "from scipy import signal\n",
    "import sympy as sy\n",
    "\n",
    "sy.init_printing()  # LaTeX like pretty printing for IPython\n",
    "s = sy.Symbol('s')\n",
    "\n",
    "\n",
    "def lti_to_sympy(lsys, symplify=True):\n",
    "    \"\"\" Convert Scipy's LTI instance to Sympy expression \"\"\"\n",
    "    s = sy.Symbol('s')\n",
    "    G = sy.Poly(lsys.num, s) / sy.Poly(lsys.den, s)\n",
    "    return sy.simplify(G) if symplify else G\n",
    "\n",
    "\n",
    "def sympy_to_lti(xpr, s=sy.Symbol('s')):\n",
    "    \"\"\" Convert Sympy transfer function polynomial to Scipy LTI \"\"\"\n",
    "    num, den = sy.simplify(xpr).as_numer_denom()  # expressions\n",
    "    p_num_den = sy.poly(num, s), sy.poly(den, s)  # polynomials\n",
    "    c_num_den = [sy.Poly(p).all_coeffs() for p in p_num_den]  # coefficients\n",
    "    l_num, l_den = [sy.lambdify((), c)() for c in c_num_den]  # convert to floats\n",
    "    return signal.lti(l_num, l_den)\n",
    "\n",
    "\n",
    "pG, pH, pGH, pIGH = sy.symbols(\"G, H, GH, IGH\")  # only needed for displaying\n"
   ]
  },
  {
   "cell_type": "markdown",
   "id": "ce32b6a7",
   "metadata": {},
   "source": [
    "## Time domain decription of dynamics of a system\n",
    "\n",
    "\\begin{align}\\label{eq:sysODE}\n",
    "a_nx^{n} + a_{n-1}x^{n-1}+ \\cdots + a_1\\dot{x} + a_0x =& \\\\\n",
    " & b_my^{m} + b_{m-1}y^{m-1} + \\cdots + b_1\\dot{y} + b_0y   \n",
    "\\end{align}\n",
    "\n",
    "where \n",
    "$$m \\le n$$\n",
    "means the index of the output is less than that of input\n",
    "\n",
    "\n",
    "\n",
    "\n",
    "### Transfer function \n",
    "\n",
    "Tasking Laplace transfrom of the above time domain equation we get \n",
    "\n",
    "\\begin{align}\n",
    "(s^na_n+ s^{n-1}a_{n-1}+ \\cdots + sa_1 + a_0)x(s) &= (s^mb_m + s^{m-1}b_{m-1} + \\cdots + sb_1 + b_0)y(s)\\\\\n",
    "\\frac{x(s)}{y(s)} &= \\frac{(s^mb_m +  s^{m-1}b_{m-1}+ \\cdots + sb_1 + b_0)}{(s^na_n+ + s^{n-1}a_{n-1} \\cdots + sa_1 + a_0)}\n",
    "\\end{align}\n",
    "\n",
    "### First order system\n",
    "\\begin{align}\n",
    "a_1\\dot{x} + a_0x &= b_0y   \n",
    "\\end{align}\n",
    "\n",
    "Taking Laplace transform, we get \n",
    "\n",
    "$$a_1sx(s) + a_0x(s) =  b_0y(s)$$\n",
    "Therefore the output to input ratio is \n",
    "\n",
    "$$\\frac{x(s)}{y(s)} = \\frac{b_0}{(sa_1 + a_0)}$$\n",
    "\n",
    "\n",
    "For steady state, $d/dt = 0$. Hence from differential equation we get \n",
    "\n",
    "\\begin{align}\n",
    "a_1\\dot{x} + a_0x &= b_0y   \\\\\n",
    "a_0x &= b_0y\n",
    "\\end{align}\n",
    "Taking Laplace transforms, we get \n",
    "\n",
    "$$k_{p} = \\frac{b_0}{a_0}$$\n",
    "\n"
   ]
  },
  {
   "cell_type": "markdown",
   "id": "49280e70",
   "metadata": {},
   "source": [
    "### First order step response"
   ]
  },
  {
   "cell_type": "code",
   "execution_count": 99,
   "id": "d22c27a0",
   "metadata": {},
   "outputs": [],
   "source": [
    "# First order\n",
    "kp = 1.0 \n",
    "T1 = 0.3\n",
    "num1 = np.array([kp])\n",
    "den1 = np.array([T1 , 1.0])\n",
    "F1 = signal.lti(num1,den1)"
   ]
  },
  {
   "cell_type": "code",
   "execution_count": 100,
   "id": "034bf1c1",
   "metadata": {},
   "outputs": [],
   "source": [
    "#Step resonse\n",
    "ts = np.arange(0,2,0.01)\n",
    "y1 = signal.lti.step(F1, T = ts)"
   ]
  },
  {
   "cell_type": "code",
   "execution_count": 102,
   "id": "e837d084",
   "metadata": {},
   "outputs": [
    {
     "data": {
      "image/png": "[encoded data removed]",
      "text/plain": [
       "<Figure size 216x158.4 with 1 Axes>"
      ]
     },
     "metadata": {
      "needs_background": "light"
     },
     "output_type": "display_data"
    }
   ],
   "source": [
    "plt.figure(101,figsize = (3,2.2))\n",
    "plt.rc('font', size = 12)\n",
    "plt.plot(y1[0],y1[1], c = 'crimson', lw =2)\n",
    "plt.xlim(y1[0][0],y1[0][-1])\n",
    "plt.xticks(np.linspace(y1[0][0],y1[0][-1],3))\n",
    "plt.minorticks_on()\n",
    "plt.axvline(T1, c='k', lw = 0.5)\n",
    "plt.axhline(0.636, c = 'k', lw = 0.5)\n",
    "plt.xlabel('t [s]')\n",
    "plt.text(1.5,0.3,r\"$\\frac{k_p}{1 + T_1s}$\",fontsize = 18)\n",
    "plt.grid()\n",
    "plt.grid()\n",
    "# plt.savefig(dirfig2 + 'PT1step.pdf', bbox_inches = 'tight', transparent = True)\n",
    "plt.show()"
   ]
  },
  {
   "cell_type": "markdown",
   "id": "1407bf38",
   "metadata": {},
   "source": [
    "### Second Order System"
   ]
  },
  {
   "cell_type": "code",
   "execution_count": 103,
   "id": "f73bec20",
   "metadata": {},
   "outputs": [],
   "source": [
    "#Second order\n",
    "kp = 1\n",
    "D = 0.45\n",
    "wn = 1\n",
    "num2 = np.array([kp])\n",
    "den2 = np.array([1/wn**2, 2*D/wn, 1])\n",
    "F2 = signal.lti(num2,den2)"
   ]
  },
  {
   "cell_type": "code",
   "execution_count": 104,
   "id": "62298659",
   "metadata": {},
   "outputs": [],
   "source": [
    "y2 = signal.lti.step(F2)"
   ]
  },
  {
   "cell_type": "code",
   "execution_count": 105,
   "id": "1fdcc6e6",
   "metadata": {},
   "outputs": [
    {
     "data": {
      "image/png": "[encoded data removed]",
      "text/plain": [
       "<Figure size 216x158.4 with 1 Axes>"
      ]
     },
     "metadata": {
      "needs_background": "light"
     },
     "output_type": "display_data"
    }
   ],
   "source": [
    "plt.figure(102,figsize = (3,2.2))\n",
    "plt.rc('font', size = 12)\n",
    "plt.plot(y2[0],y2[1], c = 'crimson', lw =2)\n",
    "plt.xlim(y2[0][0],y2[0][-1])\n",
    "plt.xticks(np.linspace(y2[0][0],y2[0][-1],3))\n",
    "plt.minorticks_on()\n",
    "# plt.axvline(0.5, c='k', lw = 0.5)\n",
    "# plt.axhline(0.636, c = 'k', lw = 0.5)\n",
    "plt.xlabel('t [s]')\n",
    "plt.text(5,0.4,r\"$\\frac{k_p}{\\frac{s^2}{\\omega^2_n} + \\frac{2D}{\\omega_n}s + 1}$\",fontsize = 18)\n",
    "plt.grid()\n",
    "# plt.savefig(dirfig2 + 'PT2step.pdf', bbox_inches = 'tight', transparent = True)\n",
    "plt.show()"
   ]
  },
  {
   "cell_type": "markdown",
   "id": "713efc13",
   "metadata": {},
   "source": [
    "### Differential + low pass DT1"
   ]
  },
  {
   "cell_type": "code",
   "execution_count": 106,
   "id": "f63dd728",
   "metadata": {},
   "outputs": [],
   "source": [
    "#DT1\n",
    "Kd = 1\n",
    "T1 = 0.5\n",
    "numdt1 = np.array([Kd,0])\n",
    "dendt1 = np.array([T1,1])\n",
    "FDT1 = signal.lti(numdt1,dendt1)"
   ]
  },
  {
   "cell_type": "code",
   "execution_count": 107,
   "id": "7ec198b0",
   "metadata": {},
   "outputs": [],
   "source": [
    "ydt1 = signal.lti.step(FDT1)"
   ]
  },
  {
   "cell_type": "code",
   "execution_count": 108,
   "id": "b7b4f578",
   "metadata": {},
   "outputs": [
    {
     "data": {
      "image/png": "[encoded data removed]",
      "text/plain": [
       "<Figure size 216x158.4 with 1 Axes>"
      ]
     },
     "metadata": {
      "needs_background": "light"
     },
     "output_type": "display_data"
    }
   ],
   "source": [
    "plt.figure(103,figsize = (3,2.2))\n",
    "plt.rc('font', size = 12)\n",
    "plt.plot(ydt1[0],ydt1[1], c = 'crimson', lw =2)\n",
    "plt.xlim(ydt1[0][0],ydt1[0][-1])\n",
    "plt.xticks(np.linspace(ydt1[0][0],ydt1[0][-1],3))\n",
    "plt.minorticks_on()\n",
    "plt.axvline(0.5, c='k', lw = 0.5)\n",
    "plt.axhline(0.636, c = 'k', lw = 0.5)\n",
    "plt.xlabel('t [s]')\n",
    "plt.text(1.5,1,r\"$\\frac{k_Ds}{1 + T_1s}$\",fontsize = 18)\n",
    "plt.grid()\n",
    "# plt.savefig(dirfig2 + 'DT1step.pdf', bbox_inches = 'tight', transparent = True)\n",
    "plt.show()"
   ]
  },
  {
   "cell_type": "markdown",
   "id": "4e1c4887",
   "metadata": {},
   "source": [
    "## Lag - lead system PDT1"
   ]
  },
  {
   "cell_type": "code",
   "execution_count": 109,
   "id": "937ff68e",
   "metadata": {},
   "outputs": [],
   "source": [
    "Kd = 1\n",
    "T1 = 0.5\n",
    "Td = 1.0\n",
    "Td2 = 0.25\n",
    "numpdt1 = np.array([Kd*Td,Kd])\n",
    "numpdt2 = np.array([Kd*Td2,Kd])\n",
    "denpdt1 = np.array([T1,1])\n",
    "FPDT1 = signal.lti(numpdt1,denpdt1)\n",
    "FPDT2 = signal.lti(numpdt2,denpdt1)"
   ]
  },
  {
   "cell_type": "code",
   "execution_count": 110,
   "id": "10b260da",
   "metadata": {},
   "outputs": [],
   "source": [
    "ypdt1 = signal.lti.step(FPDT1)\n",
    "ypdt2 = signal.lti.step(FPDT2)"
   ]
  },
  {
   "cell_type": "code",
   "execution_count": 111,
   "id": "2e8410b7",
   "metadata": {},
   "outputs": [
    {
     "data": {
      "image/png": "[encoded data removed]",
      "text/plain": [
       "<Figure size 216x158.4 with 1 Axes>"
      ]
     },
     "metadata": {
      "needs_background": "light"
     },
     "output_type": "display_data"
    }
   ],
   "source": [
    "plt.figure(113,figsize = (3,2.2))\n",
    "tfont = {'color' : 'navy'}\n",
    "tfont2 = {'color' : 'darkred'}\n",
    "plt.rc('font', size = 12)\n",
    "plt.plot(ypdt1[0],ypdt1[1], c = 'crimson', lw =2)\n",
    "plt.plot(ypdt2[0],ypdt2[1], c = 'dodgerblue', lw =2)\n",
    "plt.xlim(ypdt1[0][0],ypdt1[0][-1])\n",
    "plt.xticks(np.linspace(ypdt1[0][0],ypdt1[0][-1],3))\n",
    "plt.minorticks_on()\n",
    "plt.axvline(0.5, c='k', lw = 0.5)\n",
    "plt.axhline(0.636, c = 'k', lw = 0.5)\n",
    "plt.ylim(0,2.2)\n",
    "plt.xlabel('t [s]')\n",
    "plt.text(1.5,1.5,r\"$\\frac{k_p(sT_d + 1)}{(1 + T_1s)}$\",fontsize = 18)\n",
    "plt.text(1.75,0.5, \"$T_d < T_1$\", fontdict = tfont)\n",
    "plt.text(0.3,1.5, \"$T_d > T_1$\", fontdict = tfont2)\n",
    "plt.grid()\n",
    "# plt.savefig(dirfig2 + 'PDT1step.pdf', bbox_inches = 'tight', transparent = True)\n",
    "plt.show()"
   ]
  },
  {
   "cell_type": "markdown",
   "id": "8264e71a",
   "metadata": {},
   "source": [
    "## PI block"
   ]
  },
  {
   "cell_type": "code",
   "execution_count": 112,
   "id": "2774274b",
   "metadata": {},
   "outputs": [],
   "source": [
    "#PI block\n",
    "Kp = 1.0\n",
    "Ti = 10.0\n",
    "numPI = Kp*np.array([Ti,1])\n",
    "denPI = np.array([Ti,0])\n",
    "Fpi = signal.lti(numPI,denPI)"
   ]
  },
  {
   "cell_type": "code",
   "execution_count": 113,
   "id": "104aac8f",
   "metadata": {},
   "outputs": [],
   "source": [
    "ypi = signal.lti.step(Fpi)"
   ]
  },
  {
   "cell_type": "code",
   "execution_count": 114,
   "id": "14c32bf0",
   "metadata": {},
   "outputs": [
    {
     "data": {
      "image/png": "[encoded data removed]",
      "text/plain": [
       "<Figure size 216x158.4 with 1 Axes>"
      ]
     },
     "metadata": {
      "needs_background": "light"
     },
     "output_type": "display_data"
    }
   ],
   "source": [
    "plt.figure(104,figsize = (3,2.2))\n",
    "plt.rc('font', size = 12)\n",
    "plt.plot(ypi[0],ypi[1], c = 'crimson', lw =2)\n",
    "plt.xlim(ypi[0][0],ypi[0][-1])\n",
    "plt.ylim(0,3)\n",
    "plt.xticks(np.linspace(ypi[0][0],ypi[0][-1],3))\n",
    "plt.minorticks_on()\n",
    "# plt.axvline(0.5, c='k', lw = 0.5)\n",
    "# plt.axhline(0.636, c = 'k', lw = 0.5)\n",
    "plt.xlabel('t [s]')\n",
    "plt.text(1.5,2,r\"$k_p\\frac{1+ T_is}{T_is}$\",fontsize = 18)\n",
    "plt.grid()\n",
    "# plt.savefig(dirfig2+ 'PIstep.pdf', bbox_inches = 'tight', transparent = True)\n",
    "plt.show()"
   ]
  },
  {
   "cell_type": "markdown",
   "id": "690ce716",
   "metadata": {},
   "source": [
    "## Integrator block"
   ]
  },
  {
   "cell_type": "code",
   "execution_count": 115,
   "id": "a451f05c",
   "metadata": {},
   "outputs": [],
   "source": [
    "#I Controller\n",
    "Kp = 1.0\n",
    "Ti = 5.0\n",
    "numI = np.array([1])\n",
    "denI = np.array([Ti,0])\n",
    "Fi = signal.lti(numI,denI)"
   ]
  },
  {
   "cell_type": "code",
   "execution_count": 116,
   "id": "d5bffdc6",
   "metadata": {},
   "outputs": [],
   "source": [
    "yi = signal.lti.step(Fi)"
   ]
  },
  {
   "cell_type": "code",
   "execution_count": 117,
   "id": "7ee83a5f",
   "metadata": {},
   "outputs": [
    {
     "data": {
      "image/png": "[encoded data removed]",
      "text/plain": [
       "<Figure size 216x158.4 with 1 Axes>"
      ]
     },
     "metadata": {
      "needs_background": "light"
     },
     "output_type": "display_data"
    }
   ],
   "source": [
    "plt.figure(106,figsize = (3,2.2))\n",
    "plt.rc('font', size = 12)\n",
    "plt.plot(yi[0],yi[1], c = 'crimson', lw =2)\n",
    "plt.xlim(yi[0][0],yi[0][-1])\n",
    "plt.ylim(0,3)\n",
    "plt.xticks(np.linspace(yi[0][0],yi[0][-1],3))\n",
    "plt.minorticks_on()\n",
    "# plt.axvline(0.5, c='k', lw = 0.5)\n",
    "# plt.axhline(0.636, c = 'k', lw = 0.5)\n",
    "plt.xlabel('t [s]')\n",
    "plt.text(1.5,2,r\"$k_p\\frac{1}{T_is}$\",fontsize = 18)\n",
    "plt.grid()\n",
    "# plt.savefig(dirfig2+ 'Istep.pdf', bbox_inches = 'tight', transparent = True)\n",
    "plt.show()"
   ]
  },
  {
   "cell_type": "markdown",
   "id": "5ccf6a62",
   "metadata": {},
   "source": [
    "## Second order system with changing damping"
   ]
  },
  {
   "cell_type": "code",
   "execution_count": 118,
   "id": "f88215b0",
   "metadata": {},
   "outputs": [
    {
     "name": "stdout",
     "output_type": "stream",
     "text": [
      "(2, 2000)\n"
     ]
    }
   ],
   "source": [
    "kp = 1.0\n",
    "D = 0.5\n",
    "w_n = 40\n",
    "denPT2 = np.array([1, 2*D*wn, wn**2])\n",
    "numPT2 = np.array([1])\n",
    "PT2 = signal.lti(numPT2,denPT2)\n",
    "d = [0.1,0.25,0.5,0.707,1.0]\n",
    "tx = np.arange(0,20,0.01)\n",
    "ypt2 =  signal.lti.step(PT2, T= tx)\n",
    "print(np.shape(ypt2))"
   ]
  },
  {
   "cell_type": "code",
   "execution_count": 119,
   "id": "f2a742f0",
   "metadata": {},
   "outputs": [],
   "source": [
    "ypt2x = np.zeros((len(d),2,len(tx)))\n",
    "for ii,dn in enumerate(d):\n",
    "    PT2x = signal.lti(1, [1, 2*dn*wn, wn**2])\n",
    "    ypt2x[ii,:] = signal.lti.step(PT2x, T= tx)"
   ]
  },
  {
   "cell_type": "code",
   "execution_count": 120,
   "id": "8d2cfc36",
   "metadata": {},
   "outputs": [
    {
     "data": {
      "image/png": "[encoded data removed]",
      "text/plain": [
       "<Figure size 216x158.4 with 1 Axes>"
      ]
     },
     "metadata": {
      "needs_background": "light"
     },
     "output_type": "display_data"
    }
   ],
   "source": [
    "import matplotlib.patches as patches\n",
    "\n",
    "plt.figure(107,figsize = (3,2.2))\n",
    "plt.rc('font', size = 12)\n",
    "plt.plot(ypt2[0],ypt2[1], c = 'crimson', lw =2)\n",
    "plt.plot(ypt2x[0,0],ypt2x[0,1],ls = \"-.\", lw =1)\n",
    "plt.plot(ypt2x[1,0],ypt2x[1,1],ls = \"-.\", c = 'tomato',lw =1)\n",
    "plt.plot(ypt2x[3,0],ypt2x[3,1],ls = \"-.\", c = 'darkred',lw =1)\n",
    "plt.plot(ypt2x[4,0],ypt2x[4,1],ls = \"-.\", c = 'navy',lw =1)\n",
    "plt.xlim(ypt2[0][0],ypt2[0][-1])\n",
    "plt.ylim(0,2.0)\n",
    "plt.xticks(np.linspace(ypt2[0][0],ypt2[0][-1],3))\n",
    "plt.minorticks_on()\n",
    "# plt.arrow(1.0,1.8,2.8,-1.0, fc ='k', ec = 'k', length_includes_head = True, head_width = 0.5, head_length = 0.8)\n",
    "# plt.axvline(0.5, c='k', lw = 0.5)\n",
    "# plt.axhline(0.636, c = 'k', lw = 0.5)\n",
    "plt.xlabel('t [s]')\n",
    "plt.text(3,0.3,r\"$\\frac{1}{s^2 + 2D\\omega_n + \\omega^2_n}$\",fontsize = 18)\n",
    "plt.grid()\n",
    "# plt.savefig(dirfig2+ 'PT2step.pdf', bbox_inches = 'tight', transparent = True)\n",
    "plt.show()"
   ]
  },
  {
   "cell_type": "markdown",
   "id": "87047608",
   "metadata": {},
   "source": [
    "## Setting of controller"
   ]
  },
  {
   "cell_type": "code",
   "execution_count": 121,
   "id": "c36c5013",
   "metadata": {},
   "outputs": [
    {
     "name": "stdout",
     "output_type": "stream",
     "text": [
      "[-2.27420702+0.j         -0.56289649+0.35051569j -0.56289649-0.35051569j]\n"
     ]
    }
   ],
   "source": [
    "#Second order\n",
    "kp = 1\n",
    "D2 = 1.7\n",
    "wn = 1\n",
    "num22 = np.array([kp])\n",
    "den22 = np.array([1/wn**2, 2*D2/wn, 3,1])\n",
    "F22 = signal.lti(num22,den22)\n",
    "z22,p22,k22 = signal.tf2zpk(num22,den22)\n",
    "print(p22)"
   ]
  },
  {
   "cell_type": "code",
   "execution_count": 122,
   "id": "60f0d49f",
   "metadata": {},
   "outputs": [],
   "source": [
    "T_g = 3.4\n",
    "T_u = 0.9\n",
    "k_ps = 1.0\n",
    "tx = np.arange(0,50,0.001)\n",
    "sh = signal.lti(num22,den22)\n",
    "kpp = T_g/(T_u*k_ps)\n",
    "PInum = np.array([3.0*T_u,1])\n",
    "PIden = np.array([3.0*T_u,0])\n",
    "PIreg = signal.lti(0.42*kpp*PInum,PIden)\n",
    "\n",
    "Gsh = lti_to_sympy(sh)\n",
    "GPIreg = lti_to_sympy(PIreg)\n",
    "GPIol = Gsh*GPIreg\n",
    "GPIcl = GPIol/(1+GPIol)\n",
    "FcPIreg = sympy_to_lti(GPIcl)\n",
    "\n",
    "ypireg = signal.lti.step(FcPIreg, T = tx)"
   ]
  },
  {
   "cell_type": "code",
   "execution_count": 123,
   "id": "6bb48058",
   "metadata": {},
   "outputs": [],
   "source": [
    "y22 = signal.lti.step(F22)"
   ]
  },
  {
   "cell_type": "code",
   "execution_count": 124,
   "id": "02b996ee",
   "metadata": {},
   "outputs": [
    {
     "data": {
      "image/png": "[encoded data removed]",
      "text/plain": [
       "<Figure size 216x158.4 with 1 Axes>"
      ]
     },
     "metadata": {
      "needs_background": "light"
     },
     "output_type": "display_data"
    }
   ],
   "source": [
    "plt.figure(107,figsize = (3,2.2))\n",
    "plt.rc('font', size = 12)\n",
    "yend = 25\n",
    "plt.plot(ypireg[0],ypireg[1], c = 'crimson', lw =2)\n",
    "plt.plot(y22[0],y22[1],ls = \"-.\", c= 'navy', lw =1)\n",
    "plt.xlim(ypireg[0][0],yend)\n",
    "# plt.ylim(0,3)\n",
    "plt.xticks(np.linspace(ypireg[0][0],yend,3))\n",
    "plt.minorticks_on()\n",
    "plt.axvline(3.01, c='k', lw = 0.5)\n",
    "plt.axhline(1.2,ls= '-.', c = 'b', lw = 0.5)\n",
    "plt.plot(3.01,1.0,'b.')\n",
    "plt.xlabel('t [s]')\n",
    "plt.text(10,0.3,r'$k_{pi} = 0.4\\frac{T_g}{T_uk_{ps}}$')\n",
    "plt.text(3.1,0.55,r\"$t_r = 3.0$\",fontsize = 10)\n",
    "# plt.savefig(dirfig2 + 'PIstepclkp2.pdf', bbox_inches = 'tight', transparent = True)\n",
    "plt.grid()"
   ]
  },
  {
   "cell_type": "markdown",
   "id": "0da76e14",
   "metadata": {},
   "source": [
    "## Frequency response"
   ]
  },
  {
   "cell_type": "code",
   "execution_count": 125,
   "id": "e50e4878",
   "metadata": {},
   "outputs": [],
   "source": [
    "kp = 1.0\n",
    "D = 0.1\n",
    "w_n = 40\n",
    "denPT2 = np.array([1, 2*D*wn, wn**2])\n",
    "numPT2 = np.array([1])\n",
    "PT2 = signal.lti(numPT2,denPT2)"
   ]
  },
  {
   "cell_type": "code",
   "execution_count": 126,
   "id": "dfb46eaa",
   "metadata": {},
   "outputs": [],
   "source": [
    "w,H = signal.freqresp(PT2)"
   ]
  },
  {
   "cell_type": "code",
   "execution_count": 127,
   "id": "c381141b",
   "metadata": {},
   "outputs": [
    {
     "data": {
      "image/png": "[encoded data removed]",
      "text/plain": [
       "<Figure size 288x288 with 1 Axes>"
      ]
     },
     "metadata": {
      "needs_background": "light"
     },
     "output_type": "display_data"
    }
   ],
   "source": [
    "plt.figure(2002, figsize = (4,4))\n",
    "plt.rc('font', size = 12)\n",
    "plt.plot(H.real, H.imag, \"crimson\", lw =2)\n",
    "plt.plot(H.real, -H.imag, ls = '--',c= \"tomato\", lw =2)\n",
    "plt.minorticks_on()\n",
    "plt.grid(which = 'major', c= 'skyblue', lw = 0.5)\n",
    "plt.axvline(0,c = 'k', lw = 1)\n",
    "plt.axhline(0,c = 'k', lw = 0.5)\n",
    "plt.plot(-1,0, 'ro')\n",
    "plt.plot(H.real[0],H.imag[0], 'ko')\n",
    "plt.plot(H.real[-1],H.imag[-1], 'bo')\n",
    "plt.arrow(0,0, 2.0,-4.3, ec = 'dodgerblue', lw= 1.0, length_includes_head = True, head_width = 0.1, head_length = 0.2)\n",
    "plt.plot(2.0,-4.3,'co')\n",
    "plt.text(0.5,-1.2, \"$|G(j\\omega_1)|$\")\n",
    "plt.text(0.2,-0.3,r\"$-\\varphi$\")\n",
    "# plt.savefig(dirfig2 + \"FrequencyOrtskuve.pdf\", bbox_inches = 'tight', transparent = True)\n",
    "# plt.savefig(dirfig2E + \"FrequencyOrtskuve.pdf\", bbox_inches = 'tight', transparent = True)\n",
    "plt.show()"
   ]
  },
  {
   "cell_type": "markdown",
   "id": "f86110a2",
   "metadata": {},
   "source": [
    "## Control of DC motors\n",
    "### Define parameters of the motor"
   ]
  },
  {
   "cell_type": "code",
   "execution_count": 128,
   "id": "9cb827ab",
   "metadata": {},
   "outputs": [],
   "source": [
    "#Normalization of Sep Excited DC machine parameters\n",
    "Pr = 22e3 #Watts Nominal power\n",
    "Var = 400.0  #Nominal Voltage\n",
    "Iar = 54.0 #Nominal Current\n",
    "Nr = 3000.0 #rpm\n",
    "Ra = 0.2178 #ohm\n",
    "La = 3.4e-3 #H\n",
    "J = 243.63 #kgm^2\n",
    "#angular scale\n",
    "wr = 2*np.pi*3000/60.0"
   ]
  },
  {
   "cell_type": "markdown",
   "id": "82a1a5d9",
   "metadata": {},
   "source": [
    "## Normalization"
   ]
  },
  {
   "cell_type": "code",
   "execution_count": 129,
   "id": "716bb8bf",
   "metadata": {},
   "outputs": [
    {
     "name": "stdout",
     "output_type": "stream",
     "text": [
      "0.029403 0.1441991027997715 4.904230956017124 68.75493541569878 32.731688041731616 1113.2091297395373\n"
     ]
    }
   ],
   "source": [
    "mr = Var*Iar/wr\n",
    "Isc = Var/Ra\n",
    "Msc = mr*Isc/Iar\n",
    "ra = Ra*Iar/Var\n",
    "la = wr*La*Iar/Var\n",
    "ta = la/ra\n",
    "tj = J*wr/mr #calculation of the inertial time constant\n",
    "tm = ra*tj   \n",
    "print(ra,la, ta, mr, tm, tj)\n",
    "# print(Isc, Iar)\n",
    "#New machine definition\n",
    "#ra normalize\n",
    "#Ta = La/Ra\n",
    "#Tj = seconds\n",
    "mach_DCnew = {'ra':0.0294,'la':la, 'Ta' : ta, 'Tj':tj}"
   ]
  },
  {
   "cell_type": "code",
   "execution_count": 130,
   "id": "5220c119",
   "metadata": {},
   "outputs": [
    {
     "data": {
      "text/latex": [
       "\\[\n",
       "\\begin{aligned}\n",
       "V_{ar} &= 400.0 \\; \\;\\textrm{(V)}\n",
       "\\\\[10pt]\n",
       "I_{ar} &= 54 \\; \\;\\textrm{(A)}\n",
       "\\\\[10pt]\n",
       "R_{a} &= 2.178 \\times 10 ^ {-1 } \\; \\;\\textrm{(ohm)}\n",
       "\\\\[10pt]\n",
       "Z_{b} &= \\frac{ V_{ar} }{ I_{ar} }  = \\frac{ 400.0 }{ 54 } &= 7.407 \\; \\;\\textrm{(ohms)}\n",
       "\\\\[10pt]\n",
       "r_{a} &= \\frac{ R_{a} }{ Z_{b} }  = \\frac{ 2.178 \\times 10 ^ {-1 } }{ 7.407 } &= 2.940 \\times 10 ^ {-2 }  \n",
       "\\end{aligned}\n",
       "\\]"
      ],
      "text/plain": [
       "<IPython.core.display.Latex object>"
      ]
     },
     "metadata": {},
     "output_type": "display_data"
    }
   ],
   "source": [
    "%%render \n",
    "V_ar = 400.0#V\n",
    "I_ar = 54#A\n",
    "R_a = 0.2178 #ohm\n",
    "Z_b = V_ar/I_ar#ohms\n",
    "r_a = R_a/Z_b"
   ]
  },
  {
   "cell_type": "code",
   "execution_count": 131,
   "id": "e29b5940",
   "metadata": {},
   "outputs": [],
   "source": [
    "#normalized parameters of a DC machines\n",
    "mach_DC = {'ra': 0.0294, 'la':0.1442,'tj': 199.755  } #dictionary \n",
    "mach_DCss = {'ra': 0.0294, 'la':0.1442,'tj': 50.755  }\n",
    "mach_DCs = {'ra': 0.0294, 'la':0.1442,'tj': 100.55  }\n",
    "mach_DCM1 = {'ra': 0.0294, 'la':0.1442, 'tj': 5.862}# in notes \n",
    "mach_DCM4ta = {'ra': 0.0294, 'la':0.1442, 'tj': tj} #machine which Tm > 4Ta\n",
    "def mach_paraDC(mach_dict):\n",
    "    ra = mach_dict['ra']\n",
    "    la = mach_dict['la']\n",
    "    ta = la/ra\n",
    "    tm = mach_dict['tj']\n",
    "    return ra,la,ta,tm\n",
    "\n",
    "#\n",
    "def mach_paraDC2(mach_dict):\n",
    "    ra = mach_dict['ra']\n",
    "    Ta = mach_dict['Ta']\n",
    "    Tj = mach_dict['Tj']\n",
    "    return ra,ta,tj"
   ]
  },
  {
   "cell_type": "markdown",
   "id": "037fe13a",
   "metadata": {},
   "source": [
    "### Dynamic equations for a Separately Excited DC machine\n",
    "We will you normalized equations for the DC motor. The normalization process has been described above. We will assume that the flux is constant and hence we will neglect the dynamics of the field excitation winding. \n",
    "\n",
    "The armature voltage equation can be written as \n",
    "\n",
    "\\begin{align}\n",
    "v_a & = r_ai_a + l_a\\frac{di_a}{d\\tau} + \\frac{d\\psi_f}{d\\tau}\\\\\n",
    "v_a & = r_ai_a + l_a\\frac{di_a}{d\\tau} + \\omega\\psi_f \\\\\n",
    "\\frac{di_a}{d\\tau} &= -\\frac{1}{\\tau_a}i_a - \\frac{\\omega\\psi_f}{l_a} + \\frac{v_a}{l_a}\\\\\n",
    "\\frac{di_a}{d\\tau} &= -\\frac{1}{\\tau_a}i_a + \\frac{v_a - v_i}{l_a}\n",
    "\\end{align}\n",
    "\n",
    "We can write the mechanical dynamics as \n",
    "\\begin{align}\n",
    "m_e & = \\psi_fi_a\\\\\n",
    "\\frac{d\\omega}{d\\tau} &= \\frac{m_e - m_L}{\\tau_m}\n",
    "\\end{align}\n",
    "\n",
    "Simplified equations\n",
    "\n",
    "\\begin{align}\n",
    "\\frac{di_a}{dt}&= -\\frac{1}{T_a}i_a + \\frac{1}{l_a}(v_a - \\omega)\\\\\n",
    "\\frac{d\\omega}{dt} &= \\frac{i_a - m_L}{T_j}\n",
    "\\end{align}\n"
   ]
  },
  {
   "cell_type": "markdown",
   "id": "1a5dbe81",
   "metadata": {},
   "source": [
    "## Transferfunctions \n",
    "\\begin{equation}\\label{eq:currentTF}\n",
    "    i_a(s)=\\frac{sT_j}{(s^2T_mT_a+sT_m+1)}v_a(s)+\\frac{1}{(s^2T_mT_a+sT_m+1)}m_L(s)\n",
    "\\end{equation}\n",
    "\n",
    "and \n",
    "\n",
    "\\begin{equation}\\label{eq:speedTF}\n",
    "    \\omega(s)=\\frac{1}{(s^2T_mT_a+sT_m+1)}v_a(s)-\\frac{(sT_a+1)r_a}{(s^2T_mT_a+sT_m+1)}m_L(s)\n",
    "\\end{equation}"
   ]
  },
  {
   "cell_type": "code",
   "execution_count": 132,
   "id": "54d3bd21",
   "metadata": {},
   "outputs": [],
   "source": [
    "ra,la,Ta,Tj = mach_paraDC(mach_DCM1)"
   ]
  },
  {
   "cell_type": "code",
   "execution_count": 133,
   "id": "2df99535",
   "metadata": {},
   "outputs": [
    {
     "name": "stdout",
     "output_type": "stream",
     "text": [
      "[1, 0.20388349514563106, 1.1830113886140359]\n"
     ]
    }
   ],
   "source": [
    "Tm = Tj*ra\n",
    "den = [1, 1/Ta , 1/(Tm*Ta)]\n",
    "numiava = [Tj,0]\n",
    "numiaml = [1]\n",
    "numwsva = [1]\n",
    "numwsml = -ra*np.array([Ta,1])\n",
    "print(den)"
   ]
  },
  {
   "cell_type": "code",
   "execution_count": 134,
   "id": "81b31d8b",
   "metadata": {},
   "outputs": [],
   "source": [
    "Fiava = signal.lti(numiava,den)\n",
    "Fwsva = signal.lti(numwsva,den)"
   ]
  },
  {
   "cell_type": "code",
   "execution_count": 135,
   "id": "0377dff6",
   "metadata": {},
   "outputs": [],
   "source": [
    "ts1 = np.arange(0,100.01,0.01)\n",
    "yia = signal.step(Fiava, T = ts1)\n",
    "yws = signal.step(Fwsva, T = ts1)"
   ]
  },
  {
   "cell_type": "code",
   "execution_count": 136,
   "id": "f264222d",
   "metadata": {},
   "outputs": [
    {
     "data": {
      "image/png": "[encoded data removed]",
      "text/plain": [
       "<Figure size 288x180 with 1 Axes>"
      ]
     },
     "metadata": {
      "needs_background": "light"
     },
     "output_type": "display_data"
    },
    {
     "data": {
      "image/png": "[encoded data removed]",
      "text/plain": [
       "<Figure size 288x180 with 1 Axes>"
      ]
     },
     "metadata": {
      "needs_background": "light"
     },
     "output_type": "display_data"
    }
   ],
   "source": [
    "plt.figure(210, figsize = (4,2.5))\n",
    "plt.rc('font', size =12)\n",
    "plt.plot(yia[0], yia[1], c = 'r', lw =2)\n",
    "plt.xlim(yia[0][0], yia[0][-1])\n",
    "plt.minorticks_on()\n",
    "plt.grid()\n",
    "plt.xlabel('t[s]')\n",
    "plt.ylabel('$i_a$ [p.u]')\n",
    "plt.figure(212, figsize = (4,2.5))\n",
    "plt.plot(yws[0], yws[1], c ='magenta', lw =2)\n",
    "plt.xlim(yws[0][0], yws[0][-1])\n",
    "plt.minorticks_on()\n",
    "plt.grid()\n",
    "plt.xlabel('t[s]')\n",
    "plt.ylabel('$\\omega$ [p.u]')\n",
    "plt.show()"
   ]
  },
  {
   "cell_type": "code",
   "execution_count": 137,
   "id": "bd54bce6",
   "metadata": {},
   "outputs": [],
   "source": [
    "#function which calculates the derivatives of the system equation\n",
    "#dx/dt\n",
    "#X is vector consisting of 2 state variables X[0] = ia, X[1] = w\n",
    "def DCModel(X,t,paramsdc):\n",
    "    x0 = X[0] #ia\n",
    "    x1 = X[1] #w\n",
    "    \n",
    "    psf,ml,va, ta,tj = paramsdc\n",
    "    me = x0*psf\n",
    "    # diffs - right hand side of the differential equation that describe the system\n",
    "    dx0dt = -(1/ta)*x0 - x1*psf/(la) + va/(la)\n",
    "    dx1dt = (me - ml)/tj\n",
    "    return [dx0dt,dx1dt]"
   ]
  },
  {
   "cell_type": "markdown",
   "id": "2c487c37",
   "metadata": {},
   "source": [
    "### Voltage step response of the DC machine\n",
    "In this part we will apply a voltage step and simulate the dynamics to see how the speed and the current change. We will also create a load torque step, which acts as a disturbance, on the system and see how the response is on the speed"
   ]
  },
  {
   "cell_type": "code",
   "execution_count": 138,
   "id": "aebacb34",
   "metadata": {},
   "outputs": [],
   "source": [
    "tstart = 0\n",
    "tend = 0.2*wr\n",
    "# tend = 100.0\n",
    "tinc = 0.01 #Time step - critical parameter - determines the accuracy of simuation. \n",
    "ts = np.arange(tstart,tend,tinc)\n",
    "\n",
    "#some arrays to store the resukt\n",
    "sol = np.zeros((len(ts),2)) #array that has of lenth equal to time series x 2 state variables-  X \n",
    "iaref = np.zeros(len(ts))  #array of length equal to time series \n",
    "ia = np.zeros(len(ts))\n",
    "w = np.zeros(len(ts))\n",
    "eia = np.zeros(len(ts))\n",
    "# Initial conditions\n",
    "w0 = 0.0 \n",
    "ml = np.zeros(len(ts))\n",
    "v = np.zeros(len(ts))\n",
    "#creating a voltage steps or voltage signals \n",
    "\n",
    "for ii,tn in enumerate(ts):\n",
    "    if (tn>10):\n",
    "        v[ii] = 1.0            #voltage remains same\n",
    "        ml[ii] = 0.0           #load torque step \n",
    "    elif (tn >=0.15):\n",
    "        v[ii] = 0.0           #voltage step \n",
    "    else:\n",
    "        v[ii] = 0              #initial voltage\n",
    "        \n",
    "psf = 1.0 #field \n",
    "# kp = 5e-1\n",
    "# Ti = 3.0e2\n",
    "# uplim = 1.0\n",
    "# dwnlim = -1.0\n",
    "# Kparams = [kp,Ti,uplim,dwnlim]"
   ]
  },
  {
   "cell_type": "code",
   "execution_count": 139,
   "id": "bf9cde10",
   "metadata": {},
   "outputs": [],
   "source": [
    "# set inital conditions\n",
    "x0 = [0,w0] #Initial conditions of 2 variable {ia=0,w=0}\n",
    "# Starting the simuklation \n",
    "for ii,tn in enumerate(ts):\n",
    "    ra,la,Ta,Tj = mach_paraDC(mach_DCM1)\n",
    "    paramsdc = [1.0,ml[ii],v[ii],Ta,Tj]\n",
    "    solx = odeint(DCModel, x0, [0,tinc], args = (paramsdc,),)  #Calling Odeint function from Scipy\n",
    "    sol[ii] = solx[-1]   #Saving last result in the solution array\n",
    "    x0 = solx[-1]        #re-initializing for next iteration \n",
    "    ia[ii] = sol[ii][0]  #saving results in array\n",
    "    w[ii] = sol[ii][1]   #saving results in array\n",
    "    \n",
    "# Torque calculation\n",
    "me = psf*ia"
   ]
  },
  {
   "cell_type": "code",
   "execution_count": 140,
   "id": "67421bd4",
   "metadata": {},
   "outputs": [
    {
     "data": {
      "image/png": "[encoded data removed]",
      "text/plain": [
       "<Figure size 288x288 with 4 Axes>"
      ]
     },
     "metadata": {
      "needs_background": "light"
     },
     "output_type": "display_data"
    }
   ],
   "source": [
    "plt.figure(207, figsize=(4,4))\n",
    "plt.rc('font',size = 12)\n",
    "ax1=plt.subplot(2,1,1)\n",
    "ax1.plot(ts,ia, 'crimson', lw =2, label = r\"$i_a$\")\n",
    "ax1.set_ylabel('$i_a$')\n",
    "# ax1.set_yticks(np.linspace(-0.5,0.5,5))\n",
    "ax2 = ax1.twinx()\n",
    "ax2.plot(ts,v, 'slateblue', lw =2, label = r\"$v_a$\")\n",
    "ax2.set_ylabel('$v_a$')\n",
    "ax2.set_xticks(np.linspace(tstart, tend,5))\n",
    "ax2.set_xlim(tstart,tend)\n",
    "ax1.legend(loc= \"lower right\", fontsize = 10)\n",
    "ax2.legend(loc= \"upper right\", fontsize = 10)\n",
    "# ax2.set_yticks(np.linspace(-0.02,0.02,5))\n",
    "\n",
    "ax3 = plt.subplot(2,1,2)\n",
    "ax3.plot(ts,me, 'tomato', lw =2, label = '$m_e$')\n",
    "ax3.set_ylabel('$m_e$ [p.u.]')\n",
    "ax4 = ax3.twinx()\n",
    "ax4.plot(ts,w, 'purple', lw =2, label = \"$\\omega$\")\n",
    "ax4.set_ylabel('$\\omega$')\n",
    "ax4.set_xticks(np.linspace(tstart, tend,5))\n",
    "ax3.set_xlim(tstart,tend)\n",
    "ax3.set_xlabel('$\\omega t$')\n",
    "ax3.legend(loc = 'lower left')\n",
    "ax4.legend(loc = 'upper right')\n",
    "# plt.savefig(dirfig2 + 'Voltagestepresponse.pdf', bbox_inches = 'tight', transparent = True)\n",
    "plt.show()"
   ]
  },
  {
   "cell_type": "markdown",
   "id": "5d798c8d",
   "metadata": {},
   "source": [
    "## Machine with $T_m > 4T_a$"
   ]
  },
  {
   "cell_type": "code",
   "execution_count": 141,
   "id": "ee97aa80",
   "metadata": {},
   "outputs": [],
   "source": [
    "sol = np.zeros((len(ts),2))\n",
    "iaref = np.zeros(len(ts))\n",
    "ia = np.zeros(len(ts))\n",
    "w = np.zeros(len(ts))\n",
    "eia = np.zeros(len(ts))\n",
    "w0 = 0.0\n",
    "ml = np.zeros(len(ts))\n",
    "v = np.zeros(len(ts))\n",
    "\n",
    "for ii,tn in  enumerate(ts):\n",
    "    if (tn > 50):\n",
    "        v[ii] = -1.0            #voltage remains same\n",
    "        ml[ii] = 0.0           #load torque step \n",
    "    elif (tn >=0.15):\n",
    "        v[ii] = 1.0           #voltage step \n",
    "    else:\n",
    "        v[ii] = 0              #initial voltage\n",
    "        \n",
    "psf = 1.0"
   ]
  },
  {
   "cell_type": "code",
   "execution_count": 142,
   "id": "2aed5cca",
   "metadata": {},
   "outputs": [],
   "source": [
    "\n",
    "x0 = [0,w0]\n",
    "for ii, tn in enumerate(ts):\n",
    "    ra,Ta,Tj = mach_paraDC2(mach_DCnew)\n",
    "    paramsdc = [psf,ml[ii],v[ii],Ta,Tj]\n",
    "    solx = odeint(DCModel, x0, [0,tinc], args = (paramsdc,),)  #Calling Odeint function from Scipy\n",
    "    sol[ii] = solx[-1]   #Saving last result in the solution array\n",
    "    x0 = solx[-1]        #re-initializing for next iteration \n",
    "    ia[ii] = sol[ii][0]  #saving results in array\n",
    "    w[ii] = sol[ii][1]   #saving results in array\n",
    "    \n",
    "# Torque calculation\n",
    "me = psf*ia"
   ]
  },
  {
   "cell_type": "code",
   "execution_count": 143,
   "id": "e46cbb1c",
   "metadata": {},
   "outputs": [
    {
     "data": {
      "image/png": "[encoded data removed]",
      "text/plain": [
       "<Figure size 288x288 with 4 Axes>"
      ]
     },
     "metadata": {
      "needs_background": "light"
     },
     "output_type": "display_data"
    }
   ],
   "source": [
    "plt.figure(201, figsize=(4,4))\n",
    "plt.rc('font',size = 14)\n",
    "ax1=plt.subplot(2,1,1)\n",
    "ax1.plot(ts,ia, 'crimson', lw =2)\n",
    "ax1.set_ylabel('$i_a$')\n",
    "# ax1.set_yticks(np.linspace(-0.5,0.5,5))\n",
    "ax2 = ax1.twinx()\n",
    "ax2.plot(ts,v, 'slateblue', lw =2)\n",
    "ax2.set_ylabel('$v_a$')\n",
    "ax2.set_xticks(np.linspace(tstart, tend,5))\n",
    "ax2.set_xlim(tstart,tend)\n",
    "# ax2.set_yticks(np.linspace(-0.02,0.02,5))\n",
    "\n",
    "ax3 = plt.subplot(2,1,2)\n",
    "ax3.plot(ts,me, 'tomato', lw =2, label = '$m_e$')\n",
    "ax3.set_ylabel('$m_e$ [p.u.]')\n",
    "ax4 = ax3.twinx()\n",
    "ax4.plot(ts,w, 'purple', lw =2)\n",
    "ax4.set_ylabel('$\\omega$')\n",
    "ax4.set_xticks(np.linspace(tstart, tend,5))\n",
    "ax3.set_xlim(tstart,tend)\n",
    "ax3.set_xlabel('$\\omega t$')\n",
    "ax3.legend(loc = 'lower left')\n",
    "# pl.savefig('VoltagestepresponseDCM4ta.pdf', bbox_inches = 'tight', transparent = True)\n",
    "plt.show()"
   ]
  },
  {
   "cell_type": "markdown",
   "id": "3b8384db",
   "metadata": {},
   "source": [
    "## Controller setting of DC motor"
   ]
  },
  {
   "cell_type": "code",
   "execution_count": 144,
   "id": "a80c3c23",
   "metadata": {},
   "outputs": [],
   "source": [
    "ra,la,ta,tm = mach_paraDC(mach_DCM4ta)\n",
    "# ra,la,ta,tm = mach_paraDC(mach_DCnew)\n",
    "tj = tm/ra\n",
    "# ra,la,ta,tm = mach_paraDC(mach_DCss)\n",
    "# ra,la,ta,tm = mach_paraDC(mach_DCM1)\n",
    "#Transfer functions\n",
    "numiava = [tj, 0]\n",
    "deniav = [tm*ta, tm, 1 ]\n",
    "numwa = [1]"
   ]
  },
  {
   "cell_type": "markdown",
   "id": "3b0b236f",
   "metadata": {},
   "source": [
    "#### Poles of the transfer functions "
   ]
  },
  {
   "cell_type": "code",
   "execution_count": 147,
   "id": "ab4bb310",
   "metadata": {},
   "outputs": [
    {
     "name": "stdout",
     "output_type": "stream",
     "text": [
      "zeros of the system [0.]\n",
      "poles of the system [-0.2029812 -0.0009023]\n",
      "gain of the system 6.934812760055479\n",
      "[-0.2029812 -0.0009023]\n"
     ]
    }
   ],
   "source": [
    "zx,px,kx = signal.tf2zpk(numiava,deniav)\n",
    "print('zeros of the system', zx)\n",
    "print('poles of the system', px)\n",
    "print('gain of the system', kx)\n",
    "print(px)"
   ]
  },
  {
   "cell_type": "code",
   "execution_count": 148,
   "id": "def9a780",
   "metadata": {},
   "outputs": [
    {
     "data": {
      "image/png": "[encoded data removed]",
      "text/plain": [
       "<Figure size 288x288 with 1 Axes>"
      ]
     },
     "metadata": {
      "needs_background": "light"
     },
     "output_type": "display_data"
    }
   ],
   "source": [
    "plt.figure(302,figsize = (4,4))\n",
    "plt.rc('font', size =12)\n",
    "ax =plt.subplot(111)\n",
    "ax.yaxis.tick_right()\n",
    "\n",
    "ax.plot(zx.real,zx.imag,'co')\n",
    "ax.plot(px.real,px.imag, 'rx')\n",
    "\n",
    "ax.set_xlim(-0.25,xmax=0.01)\n",
    "ax.minorticks_on()\n",
    "ax.set_yticks(np.linspace(-0.5,0.5,5))\n",
    "# pl.axhline(0, c = 'k')\n",
    "plt.xlabel('$\\sigma$')\n",
    "ax.set_ylabel('$j\\omega$')\n",
    "plt.grid(True, which = 'major', lw =0.5, c = 'grey')\n",
    "plt.grid(True, which = 'minor', lw =0.2, c = 'lightgrey')\n",
    "# pl.text(ppx[1][0]-0.05,-0.15, \"$s_1 = ${0:0.3f}\".format(ppx[1][0]))\n",
    "# pl.text(ppx[1][1]-0.05, 0.15, \"$s_2 = ${0:0.3f}\".format(ppx[1][1]))\n",
    "\n",
    "# plt.savefig(\"poleplotDC4ta.pdf\", bbox_inches = 'tight', transparent = True)\n",
    "plt.show()"
   ]
  },
  {
   "cell_type": "code",
   "execution_count": 149,
   "id": "8bb53f74",
   "metadata": {},
   "outputs": [],
   "source": [
    "from sympy import init_printing\n",
    "init_printing()"
   ]
  },
  {
   "cell_type": "code",
   "execution_count": 150,
   "id": "3b55b9ce",
   "metadata": {},
   "outputs": [
    {
     "name": "stdout",
     "output_type": "stream",
     "text": [
      "4.92656467193145 1108.2825650676057\n"
     ]
    }
   ],
   "source": [
    "Ts = -1/px[0]\n",
    "Tl = -1/px[1]\n",
    "\n",
    "print(Ts,Tl)"
   ]
  },
  {
   "cell_type": "code",
   "execution_count": 151,
   "id": "d6034a16",
   "metadata": {},
   "outputs": [
    {
     "name": "stdout",
     "output_type": "stream",
     "text": [
      "[6.93481276 0.        ]\n",
      "[1.00000000e+00 2.03883495e-01 1.83149320e-04]\n",
      "6.93481276005548*s/(1.0*s**2 + 0.203883495145631*s + 0.000183149320014412)\n"
     ]
    }
   ],
   "source": [
    "#Transfer function ia/va Giv\n",
    "Giv = signal.lti(numiava, deniav)\n",
    "DGiv = lti_to_sympy(Giv)\n",
    "print(Giv.num)\n",
    "print(Giv.den)\n",
    "print(DGiv)"
   ]
  },
  {
   "cell_type": "code",
   "execution_count": 152,
   "id": "956c97fd",
   "metadata": {},
   "outputs": [
    {
     "data": {
      "image/png": "[encoded data removed]",
      "text/plain": [
       "<Figure size 432x360 with 2 Axes>"
      ]
     },
     "metadata": {
      "needs_background": "light"
     },
     "output_type": "display_data"
    }
   ],
   "source": [
    "#Open loop transfer function \n",
    "\n",
    "# w = np.arange(0.001,10e5,0.1)\n",
    "w = np.logspace(-5,3,1000)\n",
    "wiv,magiv, phaseiv = signal.bode(Giv,w)\n",
    "plt.figure(401,figsize = (6,5))\n",
    "plt.rc('font', size = 12)\n",
    "plt.subplot(2,1,1)\n",
    "plt.semilogx(w,magiv, 'crimson', lw =2)\n",
    "plt.minorticks_on()\n",
    "plt.grid(True, which = 'major', lw =0.5, c = 'blue')\n",
    "plt.grid(True, which = 'minor', lw =0.2, c = 'skyblue')\n",
    "plt.xlim(w[0],w[-1])\n",
    "plt.ylabel(\"|Mag|\")\n",
    "\n",
    "plt.subplot(2,1,2)\n",
    "plt.semilogx(w,phaseiv, 'tomato', lw =2)\n",
    "plt.minorticks_on()\n",
    "plt.grid(True, which = 'major', lw =0.5, c = 'blue')\n",
    "plt.grid(True, which = 'minor', lw =0.2, c = 'skyblue')\n",
    "plt.xlabel('$\\omega$ [rad/s]')\n",
    "plt.xlim(w[0],w[-1])\n",
    "plt.ylabel(\"phase [deg]\")\n",
    "# plt.savefig(dirfig2+\"CurrentForwardBode.pdf\", bbox_inches = 'tight', transparent = True)\n",
    "plt.show()"
   ]
  },
  {
   "cell_type": "code",
   "execution_count": 153,
   "id": "825d210b",
   "metadata": {},
   "outputs": [
    {
     "name": "stdout",
     "output_type": "stream",
     "text": [
      "zeros of the system [0.]\n",
      "poles of the system [-0.2029812 -0.0009023]\n",
      "gain of the system 6.934812760055479\n",
      "0.2029811981759598\n"
     ]
    }
   ],
   "source": [
    "#Current transfer function \n",
    "Giv\n",
    "zx,px,kx = signal.tf2zpk(numiava,deniav)\n",
    "print('zeros of the system', zx)\n",
    "print('poles of the system', px)\n",
    "print('gain of the system', kx)\n",
    "print(-px[0])"
   ]
  },
  {
   "cell_type": "markdown",
   "id": "c874d8fa",
   "metadata": {},
   "source": [
    "### Setting PI controller using Magnitude Optimum"
   ]
  },
  {
   "cell_type": "code",
   "execution_count": 154,
   "id": "f8499294",
   "metadata": {},
   "outputs": [],
   "source": [
    "#Pi Transfer function\n",
    "Ti = -px[0]\n",
    "kpa = Ti/(2*kx*(-px[1]))\n",
    "numPIpoly = np.array([kpa*Ti,kpa])\n",
    "denPI = np.array([Ti,0])\n",
    "numPI = numPIpoly\n",
    "GPIc = signal.lti(numPI,denPI)"
   ]
  },
  {
   "cell_type": "code",
   "execution_count": 155,
   "id": "c62036b2",
   "metadata": {},
   "outputs": [
    {
     "name": "stdout",
     "output_type": "stream",
     "text": [
      "16.2196537064938 + 79.9071729413744/s\n",
      "6.93481276005548*s*(16.2196537064938 + 79.9071729413744/s)/(1.0*s**2 + 0.203883495145631*s + 0.000183149320014412)\n",
      "DGCiv\n",
      "(112.480261487474*s + 554.141282533803)/(1.0*s**2 + 112.68414498262*s + 554.141465683123)\n"
     ]
    }
   ],
   "source": [
    "DGPIc = lti_to_sympy(GPIc)\n",
    "print(DGPIc)\n",
    "#Open loop TF or Feedforward TF\n",
    "DGOIV = DGPIc*DGiv\n",
    "#Closed loop system\n",
    "DGCiv = DGOIV/(1 + DGOIV)\n",
    "#Feedforward TF\n",
    "Goiv = sympy_to_lti(DGOIV)\n",
    "#Closed loop TF\n",
    "Gciv = sympy_to_lti(DGCiv)\n",
    "print(DGOIV)\n",
    "xpr = DGOIV\n",
    "num, den = sy.simplify(xpr).as_numer_denom()  # expressions\n",
    "p_num_den = sy.poly(num, s), sy.poly(den, s)  # polynomials\n",
    "print(\"DGCiv\")\n",
    "print(sy.simplify(DGCiv))"
   ]
  },
  {
   "cell_type": "code",
   "execution_count": 156,
   "id": "e7a10bdb",
   "metadata": {},
   "outputs": [
    {
     "name": "stdout",
     "output_type": "stream",
     "text": [
      "[-0.2029812 -0.0009023]\n",
      "[-4.92656467]\n",
      "[-107.530818     -5.15332698]\n",
      "[-4.92656467]\n"
     ]
    }
   ],
   "source": [
    "zoiv,poiv,koiv = signal.tf2zpk(Goiv.num, Goiv.den)\n",
    "print(poiv)\n",
    "print(zoiv)\n",
    "zciv,pciv,kciv = signal.tf2zpk(Gciv.num, Gciv.den)\n",
    "print(pciv)\n",
    "print(zciv)"
   ]
  },
  {
   "cell_type": "code",
   "execution_count": 157,
   "id": "95deaadc",
   "metadata": {},
   "outputs": [
    {
     "data": {
      "image/png": "[encoded data removed]",
      "text/plain": [
       "<Figure size 288x288 with 1 Axes>"
      ]
     },
     "metadata": {
      "needs_background": "light"
     },
     "output_type": "display_data"
    }
   ],
   "source": [
    "plt.figure(302,figsize = (4,4))\n",
    "plt.rc('font', size =12)\n",
    "ax =plt.subplot(111)\n",
    "ax.yaxis.tick_right()\n",
    "# ax.plot(ppx[1][0].real,ppx[1][0].imag, 'rx')\n",
    "# ax.plot(ppx[1][1].real,ppx[1][1].imag, 'bx')\n",
    "# ax.plot(ppx[1].real,ppx[1].imag, 'rx')\n",
    "# ax.plot(ppx[0].real,ppx[0].imag,'bo')\n",
    "ax.plot(zciv.real,zciv.imag,'o', c = 'skyblue')\n",
    "ax.plot(pciv.real,pciv.imag,'x', c = 'red')\n",
    "\n",
    "\n",
    "# ax.plot(poiv.real,poiv.imag,'x', c = 'darkred')\n",
    "# ax.plot(zoiv.real,zoiv.imag,'o', c = 'navy')\n",
    "\n",
    "# ax.set_xlim(-0.25,xmax=0.01)\n",
    "ax.minorticks_on()\n",
    "ax.set_yticks(np.linspace(-0.5,0.5,5))\n",
    "# pl.axhline(0, c = 'k')\n",
    "plt.xlabel('$\\sigma$')\n",
    "ax.set_ylabel('$j\\omega$')\n",
    "plt.grid(True, which = 'major', lw =0.5, c = 'grey')\n",
    "plt.grid(True, which = 'minor', lw =0.2, c = 'lightgrey')\n",
    "# pl.text(ppx[1][0]-0.05,-0.15, \"$s_1 = ${0:0.3f}\".format(ppx[1][0]))\n",
    "# pl.text(ppx[1][1]-0.05, 0.15, \"$s_2 = ${0:0.3f}\".format(ppx[1][1]))\n",
    "\n",
    "# plt.savefig(\"poleplotDC4ta.pdf\", bbox_inches = 'tight', transparent = True)\n",
    "plt.show()"
   ]
  },
  {
   "cell_type": "code",
   "execution_count": 158,
   "id": "94fc4308",
   "metadata": {},
   "outputs": [
    {
     "data": {
      "image/png": "[encoded data removed]",
      "text/plain": [
       "<Figure size 288x180 with 1 Axes>"
      ]
     },
     "metadata": {
      "needs_background": "light"
     },
     "output_type": "display_data"
    }
   ],
   "source": [
    "#Step response\n",
    "yciv = signal.lti.step(Gciv, T = np.arange(0,0.5,0.001))\n",
    "plt.figure(301,figsize = (4,2.5))\n",
    "plt.rc('font', size =12)\n",
    "plt.plot(yciv[0],yciv[1], 'crimson', lw =2)\n",
    "plt.minorticks_on()\n",
    "# plt.grid(True, which = 'major', lw =0.5, c = 'blue')\n",
    "# plt.grid(True, which = 'minor', lw =0.2, c = 'skyblue')\n",
    "plt.axhline(1.0,ls = \"-.\", c = 'b', lw = 0.5)\n",
    "# plt.xticks(np.linspace(0,1.6,5))\n",
    "plt.xlim(0,0.5)\n",
    "plt.ylim(0,1.2)\n",
    "plt.xlabel('$\\omega$t')\n",
    "plt.ylabel(r\"$i_a$ [p.u.]\")\n",
    "plt.axhline(1.05, ls = \"-.\", c = \"darkred\", lw = 1.0)\n",
    "# plt.savefig(dirfig2+\"StepResponseInnerCurrent.pdf\", bbox_inches = 'tight', transparent = True)\n",
    "\n",
    "plt.show()"
   ]
  },
  {
   "cell_type": "code",
   "execution_count": 159,
   "id": "f45ee1e4",
   "metadata": {},
   "outputs": [
    {
     "data": {
      "image/png": "[encoded data removed]",
      "text/latex": [
       "$\\displaystyle \\frac{112.480261487474 s + 554.141282533803}{1.0 s^{2} + 112.68414498262 s + 554.141465683123}$"
      ],
      "text/plain": [
       "    112.480261487474⋅s + 554.141282533803    \n",
       "─────────────────────────────────────────────\n",
       "     2                                       \n",
       "1.0⋅s  + 112.68414498262⋅s + 554.141465683123"
      ]
     },
     "metadata": {},
     "output_type": "display_data"
    }
   ],
   "source": [
    "DGciv = lti_to_sympy(Gciv)\n",
    "display(DGciv)\n",
    "K1 = Gciv.num\n",
    "Den = Gciv.den\n",
    "Te = 1/Den[1]\n",
    "ke = K1[0]/Den[1]"
   ]
  },
  {
   "cell_type": "code",
   "execution_count": 160,
   "id": "007f9fe2",
   "metadata": {},
   "outputs": [
    {
     "name": "stdout",
     "output_type": "stream",
     "text": [
      "Te= 0.00887, ke = 0.99819\n",
      "37864.256113589705 0.008874362938585872 0.9981906638668869\n",
      "[0.00297062]\n",
      "[  1.         112.68414498   0.        ]\n"
     ]
    }
   ],
   "source": [
    "#equivalent closed loop tranfer function\n",
    "tnum = [ke] #numerator\n",
    "tden = [Te,1] #denominator\n",
    "print(\"Te= {0:3.5f}, ke = {1:3.5f}\".format(Te,ke))\n",
    "TGciv = signal.lti(tnum,tden)\n",
    "#Speed part 1/sTj\n",
    "Gs = signal.lti(1,[tj,0])\n",
    "Tdgciv = lti_to_sympy(TGciv)\n",
    "TGs = lti_to_sympy(Gs)\n",
    "DGsf = Tdgciv*TGs\n",
    "Gsf = sympy_to_lti(DGsf)\n",
    "# display(DGs)\n",
    "print(tj,Te,ke)\n",
    "print(Gsf.num)\n",
    "print(Gsf.den)"
   ]
  },
  {
   "cell_type": "code",
   "execution_count": 161,
   "id": "cb3c728a",
   "metadata": {},
   "outputs": [
    {
     "data": {
      "image/png": "[encoded data removed]",
      "text/plain": [
       "<Figure size 432x360 with 2 Axes>"
      ]
     },
     "metadata": {
      "needs_background": "light"
     },
     "output_type": "display_data"
    }
   ],
   "source": [
    "w2 = np.logspace(-3,6,1000)\n",
    "ws2, mags,phases = signal.bode(Gsf,w2)\n",
    "\n",
    "plt.figure(403,figsize = (6,5))\n",
    "plt.rc('font', size = 12)\n",
    "plt.subplot(2,1,1)\n",
    "plt.semilogx(ws2,mags, 'crimson', lw =2)\n",
    "plt.minorticks_on()\n",
    "plt.grid(True, which = 'major', lw =0.5, c = 'blue')\n",
    "plt.grid(True, which = 'minor', lw =0.2, c = 'skyblue')\n",
    "plt.xlim(w2[0],w2[-1])\n",
    "plt.ylabel(\"|Mag|\")\n",
    "\n",
    "plt.subplot(2,1,2)\n",
    "plt.semilogx(ws2,phases, 'purple', lw =2)\n",
    "plt.minorticks_on()\n",
    "plt.grid(True, which = 'major', lw =0.5, c = 'blue')\n",
    "plt.grid(True, which = 'minor', lw =0.2, c = 'skyblue')\n",
    "plt.xlabel('$\\omega$ [rad/s]')\n",
    "plt.ylabel(\"phase [deg]\")\n",
    "plt.xlim(w2[0],w2[-1])\n",
    "# plt.savefig(dirfig2+\"SpeedOpenLoopBode.pdf\", bbox_inches= 'tight', transparent = True)\n",
    "plt.show()"
   ]
  },
  {
   "cell_type": "markdown",
   "id": "6b69660c",
   "metadata": {},
   "source": [
    "## Symmetrical Optimum"
   ]
  },
  {
   "cell_type": "code",
   "execution_count": 162,
   "id": "5c7241fb",
   "metadata": {},
   "outputs": [
    {
     "data": {
      "image/png": "[encoded data removed]",
      "text/plain": [
       "<Figure size 432x360 with 2 Axes>"
      ]
     },
     "metadata": {
      "needs_background": "light"
     },
     "output_type": "display_data"
    }
   ],
   "source": [
    "#Speed open loop transfer function \n",
    "a = 2.0\n",
    "kps = tj/(a*ke*Te)\n",
    "b1pi = Te*a**2 \n",
    "numpi = [b1pi*kps,1*kps]\n",
    "#Transfer function of Symmetrical optimum speed PI\n",
    "GPi = signal.lti(numpi,[b1pi,0])\n",
    "#For display\n",
    "DGPi = lti_to_sympy(GPi)\n",
    "#Multiply the sympy transfer function \n",
    "DGsos = DGsf*DGPi\n",
    "#in Sympy\n",
    "# display(DGsos)\n",
    "#Convert back lti from sympy\n",
    "Gsos = sympy_to_lti(DGsos)\n",
    "\n",
    "#Symmetrical optimum bode plot\n",
    "\n",
    "ws = np.logspace(-5,6,1000)\n",
    "wso, magso,phaseso = signal.bode(Gsos,ws)\n",
    "wlow = 1e-1\n",
    "whigh = 10000\n",
    "plt.figure(401,figsize = (6,5))\n",
    "plt.rc('font', size = 12)\n",
    "plt.subplot(2,1,1)\n",
    "plt.semilogx(wso,magso, 'crimson', lw =2)\n",
    "plt.axvline(10, c= 'r', lw = 1)\n",
    "plt.axvline(1/(Te*a**2), c = 'r', lw =1)\n",
    "plt.axvline(1/Te, c = 'r', lw = 1)\n",
    "plt.yticks(np.linspace(-100,100,5))\n",
    "plt.ylim(-100,100)\n",
    "plt.minorticks_on()\n",
    "plt.grid(True, which = 'major', lw =0.5, c = 'blue')\n",
    "plt.grid(True, which = 'minor', lw =0.2, c = 'skyblue')\n",
    "plt.xlim(wlow,whigh)\n",
    "plt.ylabel(\"|Mag|\")\n",
    "\n",
    "plt.subplot(2,1,2)\n",
    "plt.semilogx(wso,phaseso, 'purple', lw =2)\n",
    "plt.minorticks_on()\n",
    "plt.axvline(10, c = 'r', lw = 1)\n",
    "plt.grid(True, which = 'major', lw =0.5, c = 'blue')\n",
    "plt.grid(True, which = 'minor', lw =0.2, c = 'skyblue')\n",
    "plt.xlabel('$\\omega$ [rad/s]')\n",
    "plt.ylabel(\"phase [deg]\")\n",
    "plt.axvline(10, c= 'r', lw = 1)\n",
    "plt.axvline(1/(Te*a**2), c = 'r', lw =1)\n",
    "plt.axvline(1/Te, c = 'r', lw = 1)\n",
    "# pl.xlim(wso[0],wso[-1])\n",
    "plt.xlim(wlow,whigh)\n",
    "plt.yticks(np.linspace(-180,-140,5))\n",
    "# plt.savefig(dirfig2 +\"SpeedSymmetricalPIBode.pdf\", bbox_inches= 'tight', transparent = True)\n",
    "plt.show()\n"
   ]
  },
  {
   "cell_type": "code",
   "execution_count": 163,
   "id": "84a18ace",
   "metadata": {},
   "outputs": [
    {
     "data": {
      "image/png": "[encoded data removed]",
      "text/plain": [
       "<Figure size 288x216 with 1 Axes>"
      ]
     },
     "metadata": {
      "needs_background": "light"
     },
     "output_type": "display_data"
    }
   ],
   "source": [
    "#Step response Symmetrical optimum\n",
    "#For any arithmetic operation on transfer function use the tf in sympy\n",
    "DGcos = DGsos/(1+DGsos)\n",
    "#Then convert back to lti\n",
    "Gcos = sympy_to_lti(DGcos)\n",
    "#Step response of the closed loop transfer function \n",
    "yss = signal.lti.step(Gcos, T = np.arange(0,0.5,0.001))\n",
    "#plot\n",
    "plt.figure(301,figsize = (4,3))\n",
    "plt.rc('font', size =14)\n",
    "plt.plot(yss[0],yss[1], 'crimson', lw =2)\n",
    "plt.minorticks_on()\n",
    "plt.grid(True, which = 'major', lw =0.5, c = 'blue')\n",
    "plt.grid(True, which = 'minor', lw =0.2, c = 'skyblue')\n",
    "# pl.xticks(np.linspace(0,yss[0][-1],5))\n",
    "plt.xlim(0,0.5)\n",
    "plt.axhline(1.434, ls = \"-.\",c = 'b', lw = 1.0)\n",
    "plt.xlabel('$\\omega$t')\n",
    "plt.ylabel('$\\omega$')\n",
    "# plt.savefig(dirfig2+\"StepResponseSpeedSymmOpt.pdf\", bbox_inches = 'tight', transparent = True)\n",
    "\n",
    "plt.show()"
   ]
  },
  {
   "cell_type": "code",
   "execution_count": 164,
   "id": "52559297",
   "metadata": {},
   "outputs": [
    {
     "data": {
      "image/png": "[encoded data removed]",
      "text/plain": [
       "<Figure size 288x216 with 1 Axes>"
      ]
     },
     "metadata": {
      "needs_background": "light"
     },
     "output_type": "display_data"
    }
   ],
   "source": [
    "#Changing value of a\n",
    "\n",
    "#Speed open loop transfer function \n",
    "a = 3.0\n",
    "kps = tj/(a*ke*Te)\n",
    "b1pi = Te*a**2 \n",
    "numpi2 = [b1pi*kps,1*kps]\n",
    "GPi2 = signal.TransferFunction(numpi2,[b1pi,0])\n",
    "DGPi2 = lti_to_sympy(GPi2)\n",
    "DGsos2 = DGsf*DGPi2\n",
    "# display(DGsos)\n",
    "Gsos2 = sympy_to_lti(DGsos2)\n",
    "\n",
    "a = 4.0\n",
    "kps = tj/(a*ke*Te)\n",
    "b1pi3 = Te*a**2 \n",
    "numpi3 = [b1pi3*kps,1*kps]\n",
    "GPi3 = signal.TransferFunction(numpi3,[b1pi3,0])\n",
    "DGPi3 = lti_to_sympy(GPi3)\n",
    "DGsos3 = DGsf*DGPi3\n",
    "# display(DGsos)\n",
    "Gsos3 = sympy_to_lti(DGsos3)\n",
    "\n",
    "#Step response\n",
    "#Step response Symmetrical optimum\n",
    "DGcos2 = DGsos2/(1+DGsos2)\n",
    "Gcos2 = sympy_to_lti(DGcos2)\n",
    "yss2 = signal.lti.step(Gcos2, T = ts)\n",
    "\n",
    "DGcos3 = DGsos3/(1+DGsos3)\n",
    "Gcos3 = sympy_to_lti(DGcos3)\n",
    "yss3 = signal.lti.step(Gcos3, T = ts)\n",
    "\n",
    "\n",
    "plt.figure(302,figsize = (4,3))\n",
    "plt.rc('font', size =14)\n",
    "plt.plot(yss[0],yss[1],'-.', c='darkred', lw =1, label = 'a = 2')\n",
    "plt.plot(yss2[0],yss2[1], 'crimson', lw =2, label = 'a =3')\n",
    "plt.plot(yss3[0],yss3[1],\"-.\", c=  'tomato', lw =1, label = 'a =4')\n",
    "plt.minorticks_on()\n",
    "plt.grid(True, which = 'major', lw =0.5, c = 'blue')\n",
    "plt.grid(True, which = 'minor', lw =0.05, c = 'skyblue')\n",
    "# plt.xticks(np.linspace(0,yss[0][-1],5))\n",
    "plt.xlim(0,0.6)\n",
    "plt.axhline(1.434,ls = \"-.\", c = 'b', lw = 1.0)\n",
    "\n",
    "plt.xlabel('$\\omega$t')\n",
    "plt.ylabel('$\\omega$')\n",
    "plt.legend(loc = 'lower right', fontsize = 10)\n",
    "# plt.savefig(dirfig2+\"StepResponseSpeedSymmOpta3.pdf\", bbox_inches = 'tight', transparent = True)\n",
    "plt.show()"
   ]
  },
  {
   "cell_type": "markdown",
   "id": "ae073f71",
   "metadata": {},
   "source": [
    "## Time domain Simulation"
   ]
  },
  {
   "cell_type": "code",
   "execution_count": 165,
   "id": "d2bdc86a",
   "metadata": {},
   "outputs": [],
   "source": [
    "def PIcon(xe,y,dt,Kparams):\n",
    "    \"\"\"Pass on xe = [error[k], error[k-1]]\n",
    "       Pass on y  = [y[k-1]]\n",
    "       Pass on Parameters = [kp, Ti]\n",
    "    \"\"\"\n",
    "    kp, Ti = Kparams\n",
    "    xeo = xe[1]\n",
    "    xen = xe[0]\n",
    "#     print(xeo,xen,y,kp,Ti)\n",
    "    y1 = y\n",
    "    y2 = y1 + kp*(xen - xeo) + (kp/Ti)*(xen)*dt\n",
    "    return y2\n",
    "\n",
    "def PIconwithLim(xe,y,dt,Kparams):\n",
    "    \"\"\"Pass on xe = [error[k], error[k-1]]\n",
    "       Pass on y  = [y[k-1]]\n",
    "       Pass on Parameters = [kp, Ti]\n",
    "    \"\"\"\n",
    "    kp, Ti, uplim, dwnlim = Kparams\n",
    "    xeo = xe[1]\n",
    "    xen = xe[0]\n",
    "#     print(xeo,xen,y,kp,Ti)\n",
    "#     y2 = y1 + kp*(xen - xeo) + (kp/Ti)*(xen)\n",
    "#     print(xeo,xen,y,kp,Ti)\n",
    "    y1 = y\n",
    "    yx = y1 + kp*(xen - xeo) + (kp/Ti)*(xen)*dt\n",
    "    if (yx > uplim):\n",
    "        yx = uplim\n",
    "    elif (yx < dwnlim):\n",
    "        yx = dwnlim\n",
    "    y2 = yx\n",
    "    return y2"
   ]
  },
  {
   "cell_type": "code",
   "execution_count": 166,
   "id": "e444f1cc",
   "metadata": {},
   "outputs": [
    {
     "name": "stdout",
     "output_type": "stream",
     "text": [
      "4.904761904761905 19.61904761904762 1113.2091297395373 37864.256113589705\n",
      "poles of the Giv [-0.2029812 -0.0009023]\n",
      "6.934812760055479\n",
      "Tl = 0.2029811981759598\n",
      "Ts = 0.0009022969696712675\n"
     ]
    }
   ],
   "source": [
    "# Select the machine\n",
    "# ra, la, ta, tm = mach_paraDC(mach_DC)\n",
    "#\n",
    "# ra,la,ta,txx = mach_paraDC(mach_DCM4ta)\n",
    "ra,ta,tj = mach_paraDC2(mach_DCnew)\n",
    "numiava = [tj, 0]\n",
    "tm = tj*ra\n",
    "deniav = [tm*ta, tm, 1 ]\n",
    "numwa = [1]\n",
    "print(ta,4*ta,tm,tj)\n",
    "Giv = signal.lti(numiava, deniav)\n",
    "zx, px,kx = signal.tf2zpk(Giv.num,Giv.den)\n",
    "print(\"poles of the Giv\",px)\n",
    "print(kx)\n",
    "\n",
    "Tl = -px[0]\n",
    "Ts = -px[1]\n",
    "print(\"Tl =\",Tl)\n",
    "print(\"Ts =\",Ts)\n",
    "Ti = Tl\n",
    "kpi = Tl/(2*kx*Ts)"
   ]
  },
  {
   "cell_type": "code",
   "execution_count": 167,
   "id": "97e81806",
   "metadata": {},
   "outputs": [
    {
     "name": "stdout",
     "output_type": "stream",
     "text": [
      "[112.48026149 554.14128253]\n",
      "[  1.         112.68414498 554.14146568]\n",
      "0.008874362938585872 0.9981906638668869\n",
      "0.07986926644727285\n",
      "1424811.7385490395\n"
     ]
    }
   ],
   "source": [
    "# Setting the speed loop parameters\n",
    "GPIc = signal.lti([kpi*Ti,kpi],[Ti,0])\n",
    "DGPIc = lti_to_sympy(GPIc)\n",
    "DGiv = lti_to_sympy(Giv)\n",
    "DGoiv = DGiv*DGPIc\n",
    "Goiv = sympy_to_lti(DGoiv)\n",
    "DGciv = DGoiv/(1 + DGoiv)\n",
    "Gciv = sympy_to_lti(DGciv)\n",
    "numciv = Gciv.num\n",
    "denciv = Gciv.den\n",
    "print(numciv)\n",
    "print(denciv)\n",
    "Te = 1/denciv[1]\n",
    "ke = numciv[0]/denciv[1]\n",
    "print(Te,ke)\n",
    "a = 3.0\n",
    "kpw = tj/(a*ke*Te)\n",
    "Tiw = Te*a**2\n",
    "print(Tiw)\n",
    "print(kpw)"
   ]
  },
  {
   "cell_type": "code",
   "execution_count": 168,
   "id": "f77096c4",
   "metadata": {},
   "outputs": [],
   "source": [
    "tstart = 0\n",
    "tend = 0.5*wr\n",
    "# tend = 100.0\n",
    "tinc = 0.01\n",
    "ts = np.arange(tstart,tend,tinc)\n",
    "\n",
    "\n",
    "\n",
    "sol = np.zeros((len(ts),2))\n",
    "iaref = np.zeros(len(ts))\n",
    "ia = np.zeros(len(ts))\n",
    "w = np.zeros(len(ts))\n",
    "eia = np.zeros(len(ts))\n",
    "w0 = 0.0\n",
    "ml = np.zeros(len(ts))\n",
    "v = np.zeros(len(ts))\n",
    "for ii,tn in enumerate(ts):\n",
    "    if (tn>50):\n",
    "        iaref[ii] = -0.2\n",
    "        ml[ii] = 0.0\n",
    "    elif (tn>=0.05):\n",
    "        iaref[ii] = 0.5\n",
    "    else:\n",
    "        iaref[ii] = 0\n",
    "        \n",
    "psf = 1.0\n",
    "#Magnitude optimum for inner current PI-controller\n",
    "\n",
    "uplim = 1.0\n",
    "dwnlim = -1.0\n",
    "KparamsL = [kpi,Ti,uplim,dwnlim]\n",
    "Kparams = [kpi,Ti]"
   ]
  },
  {
   "cell_type": "code",
   "execution_count": 169,
   "id": "b35733d4",
   "metadata": {},
   "outputs": [],
   "source": [
    "x0 = [0,w0]\n",
    "for ii,tn in enumerate(ts):\n",
    "    if (ii > 0): \n",
    "        eia[ii] = iaref[ii] - ia[ii-1]\n",
    "        PIea = [eia[ii], eia[ii-1]]\n",
    "#         v[ii] = PIconwithLim(PIea,v[ii-1],tinc,KparamsL)\n",
    "        v[ii] = PIcon(PIea,v[ii-1],tinc,Kparams)\n",
    "    ra,ta,tj = mach_paraDC2(mach_DCnew)\n",
    "    paramsdc = [psf,ml[ii],v[ii],ta,tj]\n",
    "    solx = odeint(DCModel, x0, [0,ts[1]], args = (paramsdc,),)\n",
    "    sol[ii] = solx[-1]\n",
    "    x0 = solx[-1]\n",
    "    ia[ii] = sol[ii][0]\n",
    "    w[ii] = sol[ii][1]\n",
    "    \n",
    "\n",
    "me = psf*ia\n"
   ]
  },
  {
   "cell_type": "code",
   "execution_count": 170,
   "id": "a3736ba4",
   "metadata": {},
   "outputs": [
    {
     "data": {
      "image/png": "[encoded data removed]",
      "text/plain": [
       "<Figure size 288x288 with 4 Axes>"
      ]
     },
     "metadata": {
      "needs_background": "light"
     },
     "output_type": "display_data"
    }
   ],
   "source": [
    "plt.figure(202, figsize=(4,4))\n",
    "plt.rc('font',size = 12)\n",
    "ax1=plt.subplot(2,1,1)\n",
    "ax1.plot(ts,ia, 'crimson', lw =2, label = \"$i_a$\")\n",
    "ax1.plot(ts,iaref,'tomato',lw=2, label = \"$i^{*}_{a}$\")\n",
    "# ax1.set_yticks(np.linspace(-12,12,5))\n",
    "# ax1.set_ylim(-12,12)\n",
    "ax1.set_yticks(np.linspace(-0.5,0.5,5))\n",
    "ax2 = ax1.twinx()\n",
    "ax2.plot(ts,v, 'slateblue', lw =2, label = \"$v_a$\")\n",
    "ax2.set_xlim(tstart,tend)\n",
    "ax2.set_ylabel('$v_a$')\n",
    "ax1.set_ylabel('$i_a$')\n",
    "ax1.minorticks_on()\n",
    "ax1.grid(which = 'minor',c = 'skyblue', lw = 0.3)\n",
    "ax1.grid(which = 'major',c = 'blue', lw = 0.5)\n",
    "ax1.legend(loc = \"upper right\", fontsize = 10)\n",
    "ax2.legend(loc = \"lower left\", fontsize = 10)\n",
    "# ax2.set_yticks(np.linspace(-8,8.0,5))\n",
    "# ax2.set_yticks(np.linspace(-0.02,0.02,5))\n",
    "\n",
    "ax3 = plt.subplot(2,1,2)\n",
    "ax3.plot(ts,me, 'tomato', lw =2, label = '$m_e$')\n",
    "ax3.set_ylabel('$m_e$ [p.u.]')\n",
    "ax4 = ax3.twinx()\n",
    "ax4.plot(ts,w, 'purple', lw =2, label = \"$\\omega$\")\n",
    "ax4.set_ylabel('$\\omega$')\n",
    "ax4.set_xticks(np.linspace(tstart, tend,5))\n",
    "ax3.set_xlim(tstart,tend)\n",
    "ax3.set_xlabel('$\\omega t$')\n",
    "ax3.legend(loc = 'lower left')\n",
    "ax4.legend(loc = \"upper right\")\n",
    "# plt.savefig(dirfig2 + \"StepresponseCurrentloopwithPIlim.pdf\", bbox_inches = 'tight', transparent = True)\n",
    "plt.show()"
   ]
  },
  {
   "cell_type": "markdown",
   "id": "01ccb0f1",
   "metadata": {},
   "source": [
    "## Speed Control of DC motor"
   ]
  },
  {
   "cell_type": "code",
   "execution_count": 174,
   "id": "344c429d",
   "metadata": {},
   "outputs": [
    {
     "name": "stdout",
     "output_type": "stream",
     "text": [
      "5550\n",
      "0.008874362938585872\n",
      "0.07986926644727285\n",
      "37864.256113589705\n"
     ]
    }
   ],
   "source": [
    "tend = 4*wr\n",
    "tinc = 0.01\n",
    "ts = np.arange(tstart,tend,tinc)\n",
    "\n",
    "sol = np.zeros((len(ts),2))\n",
    "iaref = np.zeros(len(ts))\n",
    "ia = np.zeros(len(ts))\n",
    "w = np.zeros(len(ts))\n",
    "eia = np.zeros(len(ts))\n",
    "ew = np.zeros(len(ts))\n",
    "wref = np.zeros(len(ts))\n",
    "w0 = 0.0\n",
    "ml = np.zeros(len(ts))\n",
    "v = np.zeros(len(ts))\n",
    "for ii in range(len(ts)):\n",
    "    if (ts[ii]>2.5*wr):\n",
    "        wref[ii] = -0.2\n",
    "        ml[ii] = 0.3\n",
    "    elif (ts[ii]>=0.1*wr):\n",
    "        wref[ii] = 0.5\n",
    "    else:\n",
    "        wref[ii] = 0\n",
    "        \n",
    "psf = 0.9\n",
    "kp = 5.0e-1\n",
    "Ti = 3.0e2\n",
    "uplim = 1.0\n",
    "dwnlim = -1.0\n",
    "KparamsL = [kp,Ti,uplim,dwnlim]\n",
    "Kparams = [kp,Ti]\n",
    "\n",
    "kps = 5550\n",
    "Tiw = 1e3\n",
    "uplimw = 1.0\n",
    "dwnlimw = -1.0\n",
    "KparamswL = [kpw,Tiw,uplimw,dwnlimw]\n",
    "Kparamsw = [kps,Tiw]\n",
    "print(kps)\n",
    "print(Te)\n",
    "print(b1pi)\n",
    "print(tj)"
   ]
  },
  {
   "cell_type": "code",
   "execution_count": 175,
   "id": "80bd04ca",
   "metadata": {},
   "outputs": [],
   "source": [
    "x0 = [0,w0]\n",
    "for ii,tn in enumerate(ts):\n",
    "    if (ii > 0):\n",
    "        ew[ii] = wref[ii] - w[[ii-1]]\n",
    "        PIw = [ew[ii], ew[ii-1]]\n",
    "#         iaref[ii] = PIconwithLim(PIw, iaref[ii-1], tinc, KparamswL)\n",
    "        iaref[ii] = PIcon(PIw, iaref[ii-1], tinc, Kparamsw)\n",
    "        eia[ii] = iaref[ii] - ia[ii-1]\n",
    "        PIea = [eia[ii], eia[ii-1]]\n",
    "#         v[ii] = PIconwithLim(PIea,v[ii-1],tinc,KparamsL)\n",
    "        v[ii] = PIcon(PIea,v[ii-1],tinc,Kparams)\n",
    "    ra,la,ta,tm = mach_paraDC(mach_DCM4ta)\n",
    "    paramsdc = [psf,ml[ii],v[ii],ta,tm]\n",
    "    solx = odeint(DCModel, x0, [0,tinc], args = (paramsdc,),)\n",
    "    sol[ii] = solx[-1]\n",
    "    x0 = solx[-1]\n",
    "    ia[ii] = sol[ii][0]\n",
    "    w[ii] = sol[ii][1]\n",
    "    \n",
    "\n",
    "me = psf*ia"
   ]
  },
  {
   "cell_type": "code",
   "execution_count": 176,
   "id": "dd5fe3dd",
   "metadata": {},
   "outputs": [
    {
     "data": {
      "image/png": "[encoded data removed]",
      "text/plain": [
       "<Figure size 288x324 with 4 Axes>"
      ]
     },
     "metadata": {
      "needs_background": "light"
     },
     "output_type": "display_data"
    }
   ],
   "source": [
    "plt.figure(203, figsize=(4,4.5))\n",
    "plt.rc('font',size = 12)\n",
    "ax1=plt.subplot(2,1,1)\n",
    "ax1.plot(ts,ia, 'crimson', lw =2, label = \"$i_a$\")\n",
    "# ax1.plot(ts,iaref, 'tomato', lw =2, label = \"$i^{*}_a$\")\n",
    "# ax1.set_yticks(np.linspace(-12,12,5))\n",
    "# ax1.set_ylim(-20,20)\n",
    "# ax1.set_yticks(np.linspace(-0.5,0.5,5))\n",
    "ax2 = ax1.twinx()\n",
    "ax2.plot(ts,v, 'slateblue', lw =2, label = \"$v_a$\")\n",
    "ax2.set_xticks(np.linspace(tstart, tend,5))\n",
    "ax2.set_xlim(tstart,tend)\n",
    "ax2.set_ylabel('$v_a$')\n",
    "ax1.set_ylabel('$i_a$')\n",
    "ax1.legend(loc = 'lower right', fontsize =10)\n",
    "plt.legend(loc = 'lower left', fontsize =10)\n",
    "# ax2.set_yticks(np.linspace(-8,8.0,5))\n",
    "\n",
    "ax3 = plt.subplot(2,1,2)\n",
    "ax3.plot(ts,me, 'tomato', lw =2, label = '$m_e$')\n",
    "ax3.plot(ts,ml,ls=\"-.\",c = 'navy' ,lw =1, label = '$m_L$')\n",
    "# ax3.set_yticks(np.linspace(-12,12,5))\n",
    "# ax3.set_ylim(-20,20)\n",
    "ax3.set_ylabel('$m_e$ [p.u]')\n",
    "# ax3.plot(ts,ml, 'peru', lw =2)\n",
    "ax4 = ax3.twinx()\n",
    "\n",
    "ax4.plot(ts,wref,'skyblue', lw =2, label = \"$\\omega^{*}$\")\n",
    "ax4.plot(ts,w, 'purple', lw =2, label = \"$\\omega$\")\n",
    "ax4.set_yticks(np.linspace(-0.8,0.8,5))\n",
    "ax4.set_ylim(-0.8,0.8)\n",
    "ax4.set_ylabel('$\\omega$')\n",
    "ax4.set_xticks(np.linspace(tstart, tend,5))\n",
    "ax3.set_xlim(30,40)\n",
    "ax3.set_xlabel('$\\omega t$')\n",
    "ax3.legend(loc = 'lower left', fontsize = 10)\n",
    "ax4.legend(loc = 'upper right', fontsize = 10)\n",
    "# plt.savefig(dirfig2 + \"StepresponseSpeedloopwithPIlim.pdf\", bbox_inches = 'tight', transparent = True)\n",
    "plt.show()"
   ]
  }
 ],
 "metadata": {
  "kernelspec": {
   "display_name": "Python 3",
   "language": "python",
   "name": "python3"
  },
  "language_info": {
   "codemirror_mode": {
    "name": "ipython",
    "version": 3
   },
   "file_extension": ".py",
   "mimetype": "text/x-python",
   "name": "python",
   "nbconvert_exporter": "python",
   "pygments_lexer": "ipython3",
   "version": "3.8.5"
  }
 },
 "nbformat": 4,
 "nbformat_minor": 5
}
