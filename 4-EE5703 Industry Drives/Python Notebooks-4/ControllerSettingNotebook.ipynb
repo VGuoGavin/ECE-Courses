{
 "cells": [
  {
   "cell_type": "code",
   "execution_count": 325,
   "id": "12bf50f1",
   "metadata": {},
   "outputs": [],
   "source": [
    "from math import pi,sin,cos\n",
    "import numpy as np\n",
    "import control as ct\n",
    "import matplotlib.pyplot as plt\n",
    "import handcalcs.render\n",
    "import sympy as sym"
   ]
  },
  {
   "cell_type": "code",
   "execution_count": 335,
   "id": "4341eb04",
   "metadata": {},
   "outputs": [],
   "source": [
    "s,T1,T2 = sym.symbols('s,T1,T2')"
   ]
  },
  {
   "cell_type": "code",
   "execution_count": 336,
   "id": "59b52012",
   "metadata": {},
   "outputs": [],
   "source": [
    "#Define 2 order system \n",
    "ks = 10.0\n",
    "T1 = 10.0\n",
    "T2 = 1.0"
   ]
  },
  {
   "cell_type": "code",
   "execution_count": 337,
   "id": "60c22198",
   "metadata": {},
   "outputs": [
    {
     "data": {
      "text/latex": [
       "\\[\n",
       "\\begin{aligned}\n",
       "\\mathrm{ds} &= \\mathrm{sym.expand} { \\left( \\left( 1 + \\mathrm{T1} \\cdot s \\right) \\cdot \\left( 1 + s \\cdot \\mathrm{T2} \\right) \\right) } \\\\&= sym.expand { \\left( \\left( 1 + 10.0 \\cdot \\displaystyle s \\right) \\cdot \\left( 1 + \\displaystyle s \\cdot 1.0 \\right) \\right) } \\\\&= \\displaystyle 10.0 s^{2} + 11.0 s + 1  \\\\\n",
       "\\end{aligned}\n",
       "\\]"
      ],
      "text/plain": [
       "<IPython.core.display.Latex object>"
      ]
     },
     "metadata": {},
     "output_type": "display_data"
    }
   ],
   "source": [
    "%%render\n",
    "ds = sym.expand((1+T1*s)*(1+s*T2))"
   ]
  },
  {
   "cell_type": "code",
   "execution_count": 338,
   "id": "2f62b76a",
   "metadata": {},
   "outputs": [
    {
     "name": "stdout",
     "output_type": "stream",
     "text": [
      "[10.0000000000000, 11.0000000000000, 1.00000000000000]\n"
     ]
    }
   ],
   "source": [
    "dn = sym.Poly(ds,s)\n",
    "den = dn.coeffs()\n",
    "print(den)"
   ]
  },
  {
   "cell_type": "code",
   "execution_count": 340,
   "id": "aa3ba78c",
   "metadata": {},
   "outputs": [
    {
     "name": "stdout",
     "output_type": "stream",
     "text": [
      "[10. 11.  1.]\n"
     ]
    }
   ],
   "source": [
    "num1 = [ks]\n",
    "den1 = np.array(den, dtype = 'float')\n",
    "print(den1)"
   ]
  },
  {
   "cell_type": "code",
   "execution_count": 341,
   "id": "0c92f3d0",
   "metadata": {},
   "outputs": [],
   "source": [
    "F1 = ct.tf(num1,den1)"
   ]
  },
  {
   "cell_type": "code",
   "execution_count": 342,
   "id": "bd15d70c",
   "metadata": {},
   "outputs": [],
   "source": [
    "t1,yF1 = ct.step_response(F1)"
   ]
  },
  {
   "cell_type": "code",
   "execution_count": 343,
   "id": "0f4e7600",
   "metadata": {},
   "outputs": [
    {
     "data": {
      "image/png": "[encoded data removed]",
      "text/plain": [
       "<Figure size 288x201.6 with 1 Axes>"
      ]
     },
     "metadata": {
      "needs_background": "light"
     },
     "output_type": "display_data"
    }
   ],
   "source": [
    "plt.figure(figsize = (4,2.8))\n",
    "plt.rc('font', size =12)\n",
    "plt.plot(t1,yF1,'crimson', lw = 2)\n",
    "plt.xlim(t1[0],t1[-1])\n",
    "plt.xlabel('t [s]')\n",
    "plt.show()"
   ]
  },
  {
   "cell_type": "markdown",
   "id": "066b85a5",
   "metadata": {},
   "source": [
    "## Magnitude Optimum"
   ]
  },
  {
   "cell_type": "code",
   "execution_count": 344,
   "id": "242e53a6",
   "metadata": {},
   "outputs": [],
   "source": [
    "kR = Ti/(2*ks*T2)\n",
    "Ti = T1\n",
    "numPI = [kR*Ti, kR]\n",
    "DenPI = [Ti,0]\n",
    "FR = ct.tf(numPI,DenPI)"
   ]
  },
  {
   "cell_type": "code",
   "execution_count": 345,
   "id": "13fa5a1a",
   "metadata": {},
   "outputs": [
    {
     "data": {
      "text/latex": [
       "$$\n",
       "\\left(\\begin{array}{rllrll|rll}\n",
       "-1.&\\hspace{-1em}1&\\hspace{-1em}\\phantom{\\cdot}&-0.&\\hspace{-1em}1&\\hspace{-1em}\\phantom{\\cdot}&-1\\phantom{.}&\\hspace{-1em}&\\hspace{-1em}\\phantom{\\cdot}\\\\\n",
       "1\\phantom{.}&\\hspace{-1em}&\\hspace{-1em}\\phantom{\\cdot}&0\\phantom{.}&\\hspace{-1em}&\\hspace{-1em}\\phantom{\\cdot}&0\\phantom{.}&\\hspace{-1em}&\\hspace{-1em}\\phantom{\\cdot}\\\\\n",
       "\\hline\n",
       "0\\phantom{.}&\\hspace{-1em}&\\hspace{-1em}\\phantom{\\cdot}&-1\\phantom{.}&\\hspace{-1em}&\\hspace{-1em}\\phantom{\\cdot}&0\\phantom{.}&\\hspace{-1em}&\\hspace{-1em}\\phantom{\\cdot}\\\\\n",
       "\\end{array}\\right)\n",
       "$$"
      ],
      "text/plain": [
       "<LinearIOSystem:sys[222]:['u']->['y']>"
      ]
     },
     "execution_count": 345,
     "metadata": {},
     "output_type": "execute_result"
    }
   ],
   "source": [
    "G1 = ct.tf2io(F1, inputs ='u', outputs = 'y')\n",
    "Gr = ct.tf2io(FR, inputs = 'e', outputs = 'u')\n",
    "sumblk = ct.summing_junction(inputs = ['r','-y'], outputs = 'e')\n",
    "G1"
   ]
  },
  {
   "cell_type": "code",
   "execution_count": 346,
   "id": "ae7aec76",
   "metadata": {},
   "outputs": [],
   "source": [
    "G1cc = ct.interconnect(\n",
    "        [G1,Gr,sumblk],\n",
    "#         connections = [['G1.u','Gr.y'],\n",
    "#                        ['PI.u','-sys.y'],\n",
    "#                        ['PI.u','ref.u']\n",
    "#                       ],\n",
    "    inplist = ['r'],\n",
    "    outlist = ['y']\n",
    ")"
   ]
  },
  {
   "cell_type": "code",
   "execution_count": 347,
   "id": "b10acacd",
   "metadata": {},
   "outputs": [],
   "source": [
    "ts = np.arange(0,15,0.01)"
   ]
  },
  {
   "cell_type": "code",
   "execution_count": 348,
   "id": "70c73621",
   "metadata": {},
   "outputs": [],
   "source": [
    "t,ycc = ct.input_output_response(G1cc,ts,1.0,[0,0])"
   ]
  },
  {
   "cell_type": "code",
   "execution_count": 349,
   "id": "de50319c",
   "metadata": {},
   "outputs": [
    {
     "data": {
      "text/plain": [
       "(0.0, 69.07755278982131)"
      ]
     },
     "execution_count": 349,
     "metadata": {},
     "output_type": "execute_result"
    },
    {
     "data": {
      "image/png": "[encoded data removed]",
      "text/plain": [
       "<Figure size 288x288 with 2 Axes>"
      ]
     },
     "metadata": {
      "needs_background": "light"
     },
     "output_type": "display_data"
    }
   ],
   "source": [
    "plt.figure(201, figsize = (4,4))\n",
    "plt.subplot(2,1,1)\n",
    "plt.plot(t,ycc,'crimson', lw = 2)\n",
    "plt.axhline(1.0, c = 'b',ls = \"-.\", lw = 1)\n",
    "plt.xlim(ts[0],ts[-1])\n",
    "plt.subplot(2,1,2)\n",
    "plt.plot(t1,yF1,'brown', lw = 2)\n",
    "plt.xlim(t1[0],t1[-1])"
   ]
  },
  {
   "cell_type": "markdown",
   "id": "64d07351",
   "metadata": {},
   "source": [
    "## Symmetrical Optimum"
   ]
  },
  {
   "cell_type": "code",
   "execution_count": 350,
   "id": "d4ec8e25",
   "metadata": {},
   "outputs": [],
   "source": [
    "a1 = 2.0\n",
    "kR2 = T1/(a1*ks*T2)\n",
    "Ti2 = a1**2*T2\n",
    "numPI2 = [kR2*Ti2, kR2]\n",
    "DenPI2 = [Ti2,0]\n",
    "FR2 = ct.tf(numPI2,DenPI2)"
   ]
  },
  {
   "cell_type": "code",
   "execution_count": 351,
   "id": "49e47fa9",
   "metadata": {},
   "outputs": [],
   "source": [
    "Gr2 = ct.tf2io(FR2, inputs = 'e', outputs = 'u')"
   ]
  },
  {
   "cell_type": "code",
   "execution_count": 352,
   "id": "fc68d542",
   "metadata": {},
   "outputs": [],
   "source": [
    "G1cc2 = ct.interconnect(\n",
    "        [G1,Gr2,sumblk],\n",
    "#         connections = [['G1.u','Gr.y'],\n",
    "#                        ['PI.u','-sys.y'],\n",
    "#                        ['PI.u','ref.u']\n",
    "#                       ],\n",
    "    inplist = ['r'],\n",
    "    outlist = ['y']\n",
    ")"
   ]
  },
  {
   "cell_type": "code",
   "execution_count": 353,
   "id": "4b6ff8a2",
   "metadata": {},
   "outputs": [],
   "source": [
    "t,ycc2 = ct.input_output_response(G1cc2,ts,1.0,[0,0])"
   ]
  },
  {
   "cell_type": "code",
   "execution_count": 354,
   "id": "fb36db2b",
   "metadata": {},
   "outputs": [
    {
     "data": {
      "image/png": "[encoded data removed]",
      "text/plain": [
       "<Figure size 288x288 with 2 Axes>"
      ]
     },
     "metadata": {
      "needs_background": "light"
     },
     "output_type": "display_data"
    }
   ],
   "source": [
    "plt.figure(201, figsize = (4,4))\n",
    "plt.subplot(2,1,1)\n",
    "plt.plot(t,ycc,'crimson', lw = 2, label = \"Mag. Opti\")\n",
    "plt.plot(t,ycc2,'magenta', lw = 2, label = \"Sym. Opti\")\n",
    "plt.axhline(1.0, c = 'b',ls = \"-.\", lw = 1)\n",
    "plt.legend(loc = 'lower right', fontsize = 9)\n",
    "plt.xlim(ts[0],ts[-1])\n",
    "plt.subplot(2,1,2)\n",
    "plt.plot(t1,yF1,'brown', lw = 2, label = 'Sys step')\n",
    "plt.xlim(t1[0],t1[-1])\n",
    "plt.legend(loc = 'lower right', fontsize = 9)\n",
    "plt.show()"
   ]
  },
  {
   "cell_type": "markdown",
   "id": "ac8510c1",
   "metadata": {},
   "source": [
    "### Higher order systems"
   ]
  },
  {
   "cell_type": "code",
   "execution_count": 355,
   "id": "b1b4aa26",
   "metadata": {},
   "outputs": [],
   "source": [
    "s,T1,Ts1,Ts2,Ts3,Ts4 = sym.symbols('s,T1,Ts1,Ts2,Ts3,Ts4')"
   ]
  },
  {
   "cell_type": "code",
   "execution_count": 356,
   "id": "a8bb1345",
   "metadata": {},
   "outputs": [],
   "source": [
    "T1 = 10.0\n",
    "Ts1 = 0.01\n",
    "Ts2 = 0.025\n",
    "Ts3 = 0.015\n",
    "Ts4 = 0.03"
   ]
  },
  {
   "cell_type": "code",
   "execution_count": 357,
   "id": "1963265f",
   "metadata": {},
   "outputs": [
    {
     "data": {
      "text/latex": [
       "$\\displaystyle 1.125 \\cdot 10^{-6} s^{5} + 0.0002701125 s^{4} + 0.022777 s^{3} + 0.802275 s^{2} + 10.08 s + 1$"
      ],
      "text/plain": [
       "1.125e-6*s**5 + 0.0002701125*s**4 + 0.022777*s**3 + 0.802275*s**2 + 10.08*s + 1"
      ]
     },
     "execution_count": 357,
     "metadata": {},
     "output_type": "execute_result"
    }
   ],
   "source": [
    "apoly = sym.expand((1+T1*s)*(1+Ts1*s)*(1+Ts2*s)*(1+Ts3*s)*(1+Ts4*s))\n",
    "apoly"
   ]
  },
  {
   "cell_type": "code",
   "execution_count": 358,
   "id": "c633432f",
   "metadata": {},
   "outputs": [
    {
     "name": "stdout",
     "output_type": "stream",
     "text": [
      "Poly(1.125e-6*s**5 + 0.0002701125*s**4 + 0.022777*s**3 + 0.802275*s**2 + 10.08*s + 1.0, s, domain='RR')\n",
      "[1.12500000000000e-6, 0.000270112500000000, 0.0227770000000000, 0.802275000000000, 10.0800000000000, 1.00000000000000]\n"
     ]
    }
   ],
   "source": [
    "ac = sym.Poly(apoly)\n",
    "print(ac)\n",
    "acc = ac.coeffs()\n",
    "print(acc)"
   ]
  },
  {
   "cell_type": "code",
   "execution_count": 359,
   "id": "82bce646",
   "metadata": {},
   "outputs": [
    {
     "name": "stdout",
     "output_type": "stream",
     "text": [
      "[1.125000e-06 2.701125e-04 2.277700e-02 8.022750e-01 1.008000e+01\n",
      " 1.000000e+00]\n"
     ]
    }
   ],
   "source": [
    "denL = np.array(acc, dtype = 'float')\n",
    "print(denL)\n",
    "numL = [ks]\n",
    "GL = ct.tf(numL,denL)"
   ]
  },
  {
   "cell_type": "code",
   "execution_count": 360,
   "id": "d1402f1c",
   "metadata": {},
   "outputs": [],
   "source": [
    "t1,yFL = ct.step_response(GL)"
   ]
  },
  {
   "cell_type": "code",
   "execution_count": 361,
   "id": "01b6460e",
   "metadata": {},
   "outputs": [
    {
     "data": {
      "image/png": "[encoded data removed]",
      "text/plain": [
       "<Figure size 288x201.6 with 1 Axes>"
      ]
     },
     "metadata": {
      "needs_background": "light"
     },
     "output_type": "display_data"
    }
   ],
   "source": [
    "plt.figure(figsize = (4,2.8))\n",
    "plt.rc('font', size =12)\n",
    "plt.plot(t1,yFL,'crimson', lw = 2)\n",
    "plt.xlim(t1[0],t1[-1])\n",
    "plt.xlabel('t [s]')\n",
    "plt.show()"
   ]
  },
  {
   "cell_type": "markdown",
   "id": "efad2872",
   "metadata": {},
   "source": [
    "### Equivalent system"
   ]
  },
  {
   "cell_type": "code",
   "execution_count": 362,
   "id": "c36825f2",
   "metadata": {},
   "outputs": [],
   "source": [
    "Te = Ts1 + Ts2 + Ts3 + Ts4"
   ]
  },
  {
   "cell_type": "code",
   "execution_count": 363,
   "id": "74e057a4",
   "metadata": {},
   "outputs": [],
   "source": [
    "a2 = (1+T1*s)*(1+Te*s)\n",
    "a2c = sym.Poly(a2)\n",
    "a2cc = a2c.coeffs()\n",
    "da2cc = np.array(a2cc,dtype = 'float')"
   ]
  },
  {
   "cell_type": "code",
   "execution_count": 364,
   "id": "8dccf511",
   "metadata": {},
   "outputs": [],
   "source": [
    "denL2 = da2cc\n",
    "GLe = ct.tf(numL,denL2)"
   ]
  },
  {
   "cell_type": "code",
   "execution_count": 365,
   "id": "a9f761a5",
   "metadata": {},
   "outputs": [],
   "source": [
    "t1,yFLe = ct.step_response(GLe)"
   ]
  },
  {
   "cell_type": "code",
   "execution_count": 366,
   "id": "0e00c2ff",
   "metadata": {},
   "outputs": [
    {
     "data": {
      "image/png": "[encoded data removed]",
      "text/plain": [
       "<Figure size 288x201.6 with 1 Axes>"
      ]
     },
     "metadata": {
      "needs_background": "light"
     },
     "output_type": "display_data"
    }
   ],
   "source": [
    "plt.figure(figsize = (4,2.8))\n",
    "plt.rc('font', size =12)\n",
    "plt.plot(t1,yFL,'crimson', lw = 2)\n",
    "plt.plot(t1,yFLe,'navy', lw = 2)\n",
    "plt.xlim(t1[0],t1[-1])\n",
    "plt.xlabel('t [s]')\n",
    "plt.show()"
   ]
  },
  {
   "cell_type": "markdown",
   "id": "12895502",
   "metadata": {},
   "source": [
    "### Magnitude optimum"
   ]
  },
  {
   "cell_type": "code",
   "execution_count": 367,
   "id": "6a3ec81c",
   "metadata": {},
   "outputs": [],
   "source": [
    "kR3 = T1/(2*ks*Te)\n",
    "Ti3 = T1\n",
    "numPI3 = [kR3*Ti3, kR3]\n",
    "DenPI3 = [Ti3,0]\n",
    "FR3 = ct.tf(numPI3,DenPI3)"
   ]
  },
  {
   "cell_type": "code",
   "execution_count": 368,
   "id": "c4bf0f07",
   "metadata": {},
   "outputs": [],
   "source": [
    "GLeio = ct.tf2io(GLe, inputs = 'u', outputs = 'y')\n",
    "Gr3 = ct.tf2io(FR3, inputs = 'e', outputs = 'u')"
   ]
  },
  {
   "cell_type": "code",
   "execution_count": 369,
   "id": "ce808e30",
   "metadata": {},
   "outputs": [],
   "source": [
    "G1cc3 = ct.interconnect(\n",
    "        [GLeio,Gr3,sumblk],\n",
    "#         connections = [['G1.u','Gr.y'],\n",
    "#                        ['PI.u','-sys.y'],\n",
    "#                        ['PI.u','ref.u']\n",
    "#                       ],\n",
    "    inplist = ['r'],\n",
    "    outlist = ['y']\n",
    ")"
   ]
  },
  {
   "cell_type": "code",
   "execution_count": 370,
   "id": "52b19f28",
   "metadata": {},
   "outputs": [],
   "source": [
    "t3,ycc3 = ct.input_output_response(G1cc3,ts,1.0,[0,0])"
   ]
  },
  {
   "cell_type": "code",
   "execution_count": 371,
   "id": "157c92ef",
   "metadata": {},
   "outputs": [
    {
     "data": {
      "image/png": "[encoded data removed]",
      "text/plain": [
       "<Figure size 288x288 with 2 Axes>"
      ]
     },
     "metadata": {
      "needs_background": "light"
     },
     "output_type": "display_data"
    }
   ],
   "source": [
    "plt.figure(501, figsize = (4,4))\n",
    "plt.subplot(2,1,1)\n",
    "plt.plot(t3,ycc3,'crimson', lw = 2, label = \"Mag. Opti\")\n",
    "# plt.plot(t3,ycc3,'magenta', lw = 2, label = \"Sym. Opti\")\n",
    "plt.axhline(1.0, c = 'b',ls = \"-.\", lw = 1)\n",
    "plt.legend(loc = 'lower right', fontsize = 9)\n",
    "plt.xlim(t3[0],t3[-1300])\n",
    "plt.subplot(2,1,2)\n",
    "plt.plot(t1,yFLe,'brown', lw = 2, label = 'Sys step')\n",
    "plt.xlim(t1[0],t1[-1])\n",
    "plt.legend(loc = 'lower right', fontsize = 9)\n",
    "plt.show()"
   ]
  },
  {
   "cell_type": "markdown",
   "id": "b602a31b",
   "metadata": {},
   "source": [
    "### Symmetrical Optimum"
   ]
  },
  {
   "cell_type": "code",
   "execution_count": 372,
   "id": "cc6f626a",
   "metadata": {},
   "outputs": [],
   "source": [
    "a1 = 2.0\n",
    "kR4 = T1/(a1*ks*Te)\n",
    "Ti4 = a1**2*Te\n",
    "numPI4 = [kR4*Ti4, kR4]\n",
    "DenPI4 = [Ti4,0]\n",
    "FR4 = ct.tf(numPI4,DenPI4)"
   ]
  },
  {
   "cell_type": "code",
   "execution_count": 373,
   "id": "9f9d880a",
   "metadata": {},
   "outputs": [],
   "source": [
    "Gr4 = ct.tf2io(FR4, inputs = 'e', outputs = 'u')"
   ]
  },
  {
   "cell_type": "code",
   "execution_count": 374,
   "id": "267976e4",
   "metadata": {},
   "outputs": [],
   "source": [
    "G1cc4 = ct.interconnect(\n",
    "        [GLeio,Gr4,sumblk],\n",
    "#         connections = [['G1.u','Gr.y'],\n",
    "#                        ['PI.u','-sys.y'],\n",
    "#                        ['PI.u','ref.u']\n",
    "#                       ],\n",
    "    inplist = ['r'],\n",
    "    outlist = ['y']\n",
    ")"
   ]
  },
  {
   "cell_type": "code",
   "execution_count": 375,
   "id": "a9219e42",
   "metadata": {},
   "outputs": [],
   "source": [
    "t4,ycc4 = ct.input_output_response(G1cc4,ts,1.0,[0,0])"
   ]
  },
  {
   "cell_type": "code",
   "execution_count": 376,
   "id": "6767f358",
   "metadata": {},
   "outputs": [
    {
     "data": {
      "image/png": "[encoded data removed]",
      "text/plain": [
       "<Figure size 288x288 with 2 Axes>"
      ]
     },
     "metadata": {
      "needs_background": "light"
     },
     "output_type": "display_data"
    }
   ],
   "source": [
    "plt.figure(601, figsize = (4,4))\n",
    "plt.subplot(2,1,1)\n",
    "plt.plot(t3,ycc3,'crimson', lw = 2, label = \"Mag. Opti\")\n",
    "plt.plot(t3,ycc4,'magenta', lw = 2, label = \"Sym. Opti\")\n",
    "plt.axhline(1.0, c = 'b',ls = \"-.\", lw = 1)\n",
    "plt.legend(loc = 'lower right', fontsize = 9)\n",
    "plt.xlim(t3[0],t3[-1300])\n",
    "plt.subplot(2,1,2)\n",
    "plt.plot(t1,yFLe,'brown', lw = 2, label = 'Sys step')\n",
    "plt.xlim(t1[0],t1[-1])\n",
    "plt.legend(loc = 'lower right', fontsize = 9)\n",
    "plt.show()"
   ]
  }
 ],
 "metadata": {
  "kernelspec": {
   "display_name": "Python 3",
   "language": "python",
   "name": "python3"
  },
  "language_info": {
   "codemirror_mode": {
    "name": "ipython",
    "version": 3
   },
   "file_extension": ".py",
   "mimetype": "text/x-python",
   "name": "python",
   "nbconvert_exporter": "python",
   "pygments_lexer": "ipython3",
   "version": "3.8.5"
  }
 },
 "nbformat": 4,
 "nbformat_minor": 5
}
