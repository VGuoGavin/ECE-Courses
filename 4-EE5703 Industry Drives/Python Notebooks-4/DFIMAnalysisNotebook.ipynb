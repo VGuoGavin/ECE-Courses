{
 "cells": [
  {
   "cell_type": "code",
   "execution_count": 18,
   "id": "cadefe35",
   "metadata": {},
   "outputs": [],
   "source": [
    "import matplotlib.pyplot as plt\n",
    "import numpy as np\n",
    "import sympy as sym\n",
    "from math import pi,cos,sin,tan\n",
    "import handcalcs.render\n",
    "import cmath"
   ]
  },
  {
   "cell_type": "code",
   "execution_count": 19,
   "id": "ede7f861",
   "metadata": {},
   "outputs": [],
   "source": [
    "dirfig = \"D:/tex/lec/drives/Drivesbook/figures/\"\n",
    "dirfig2 = \"E:/tex/lec/drives/Drivesbook/figures/\""
   ]
  },
  {
   "cell_type": "code",
   "execution_count": 20,
   "id": "59ec0535",
   "metadata": {},
   "outputs": [
    {
     "name": "stdout",
     "output_type": "stream",
     "text": [
      "0.0185\n"
     ]
    }
   ],
   "source": [
    "# Machine parameters\n",
    "\n",
    "#Dictionary - one of the data structures used in Python \n",
    "#Name of_dictionary = {'name of variable': value, \"nameof2ndvariable\": value2}\n",
    "mach_mc = {\"rs\": 0.009, \"rr\": 0.007, \"lh\": 4.14, \"ls\": 4.21, \"lr\": 4.21, \"tmech\":509.6}\n",
    "\n",
    "mach_mb = {\"rs\": 0.0185, \"rr\": 0.0132, \"lh\": 3.81, \"ls\": 3.9, \"lr\": 3.9, \"tmech\":397.31}\n",
    "\n",
    "mach_ma = {\"rs\": 0.015, \"rr\": 0.04, \"lh\": 2.31, \"ls\": 2.35, \"lr\": 2.35, \"tmech\":596.9}\n",
    "\n",
    "#mach_my = {\"rs\": 0.016, \"rr\": 0.05, \"lh\": 2.31, \"ls\": 2.35, \"lr\": 2.35, \"tmech\":596.9}\n",
    "\n",
    "mach_BM = {\"rs\": 0.0426, \"rr\": 0.02113, \"lh\": 2.252, \"ls\": 2.252+0.078, \"lr\": 2.252+0.1052, \"tmech\":200.}\n",
    "\n",
    "print(mach_mb[\"rs\"])\n",
    "\n",
    "#defining parmeters for a T-equivalent circuit\n",
    "def mach_Tpara(dict):\n",
    "    rs = dict[\"rs\"]\n",
    "    rr = dict[\"rr\"]\n",
    "    lh = dict[\"lh\"]\n",
    "    ls = dict[\"ls\"]\n",
    "    lr = dict[\"lr\"]\n",
    "    sig= 1-(lh*lh)/(lr*ls)\n",
    "    kr=lh/lr\n",
    "    sigs= ls- lh\n",
    "    sigr = lr - lh\n",
    "    lsigss = sigs*lh\n",
    "    lsigrr = sigr*lh\n",
    "#     print(ls)\n",
    "    return rs,rr,lh,ls,lr,sig,lsigss,lsigrr"
   ]
  },
  {
   "cell_type": "code",
   "execution_count": 21,
   "id": "5108d3ca",
   "metadata": {},
   "outputs": [],
   "source": [
    "def plot_cvector(C):\n",
    "    xe = C.real\n",
    "    ye = C.imag\n",
    "    x0 = 0.0\n",
    "    y0 = 0.0\n",
    "    return [x0,y0,xe,ye]"
   ]
  },
  {
   "cell_type": "markdown",
   "id": "ae8ea28a",
   "metadata": {},
   "source": [
    "#### Steady State model of Doubly fed IM\n",
    "\\begin{align}\n",
    "\\vec{v}_s & = r_s\\vec{i}_s + j\\omega_sl_s\\vec{i}_s + j\\omega_sl_h\\vec{i}_r\\\\\n",
    "\\vec{v}_r &= r_r\\vec{i}_r + js\\omega_sl_r\\vec{i}_r + js\\omega_sl_h\\vec{i}_s\\\\\n",
    "\\frac{\\vec{v}_r}{s} &= \\frac{r_r}{s}\\vec{i}_r + j\\omega_sl_r\\vec{i}_r + j\\omega_sl_h\\vec{i}_s\n",
    "\\end{align}\n",
    "Neglecting the drop in stator resistance we can get \n",
    "\\begin{align}\n",
    "\\vec{v}_s & = j\\omega_sl_s\\vec{i}_s + j\\omega_sl_h\\vec{i}_r\\\\\n",
    "\\vec{i}_s & = - \\frac{l_h}{l_s}\\vec{i}_r + \\frac{1}{j\\omega_sl_s}\\vec{v}_s\\\\\n",
    "\\end{align}\n",
    "Substiuting in rotor equation, we get\n",
    "\\begin{align}\n",
    "\\frac{\\vec{v}_r}{s} &= \\frac{r_r}{s}\\vec{i}_r + j\\omega_sl_r\\vec{i}_r + j\\omega_sl_h\\vec{i}_s\\\\\n",
    "\\frac{\\vec{v}_r}{s} &= \\frac{r_r}{s}\\vec{i}_r + j\\omega_sl_r\\vec{i}_r + j\\omega_sl_h\\left[ - \\frac{l_h}{l_s}\\vec{i}_r + \\frac{1}{j\\omega_sl_s}\\vec{v}_s \\right]\\\\\n",
    "\\frac{\\vec{v}_r}{s} &= \\frac{r_r}{s}\\vec{i}_r + j\\omega_sl_r\\vec{i}_r - j\\omega_s\\frac{l^{2}_{h}}{l_s}\\vec{i}_r + \\frac{l_h}{l_s}\\vec{v}_s\\\\\n",
    "\\frac{\\vec{v}_r}{s}-\\frac{l_h}{l_s}\\vec{v}_s &= \\frac{r_r}{s}\\vec{i}_r + j\\omega_sl_r\\vec{i}_r\\left(1 - j\\omega_s\\frac{l^{2}_{h}}{l_rl_s}\\right) \\\\\n",
    "\\frac{\\vec{v}_r}{s}-\\frac{l_h}{l_s}\\vec{v}_s &= \\frac{r_r}{s}\\vec{i}_r + j\\omega_s\\sigma l_r\\vec{i}_r\\\\\n",
    "\\vec{i}_r & = \\frac{\\frac{\\vec{v}_r}{s}-\\frac{l_h}{l_s}\\vec{v}_s}{\\frac{r_r}{s} + j\\omega_s\\sigma l_r}\n",
    "\\end{align}\n",
    "\n",
    "#### Stator power \n",
    "is given by \n",
    "\\begin{align}\n",
    "p_s &= \\Re\\{\\vec{v}^{*}_s\\cdot\\vec{i}_s\\}\n",
    "\\end{align}\n",
    "Power given to air gap will be based on active power consumed on rotor side \n",
    "\\begin{align}\n",
    "p_{ag} &= \\Re\\left[\\frac{l_h}{l_s}\\vec{v}^{*}_s \\cdot \\vec{i}_r\\right]\n",
    "\\end{align}\n",
    "Active power at rotor terminals \n",
    "\\begin{align}\n",
    "p_r &= \\Re\\left[\\vec{v}^{*}_r\\cdot\\vec{i}_r \\right]\n",
    "\\end{align}"
   ]
  },
  {
   "cell_type": "code",
   "execution_count": 22,
   "id": "5688ec87",
   "metadata": {},
   "outputs": [],
   "source": [
    "#For machine given above\n",
    "rs,rr,lh,ls,lr,sig,lsigss,lsigrr = mach_Tpara(mach_ma)"
   ]
  },
  {
   "cell_type": "code",
   "execution_count": 23,
   "id": "ef3ff0eb",
   "metadata": {},
   "outputs": [
    {
     "data": {
      "text/plain": [
       "(0.5000000000000001+0.8660254037844386j)"
      ]
     },
     "execution_count": 23,
     "metadata": {},
     "output_type": "execute_result"
    }
   ],
   "source": [
    "cmath.rect(1,pi/3)"
   ]
  },
  {
   "cell_type": "code",
   "execution_count": 24,
   "id": "28f88a2d",
   "metadata": {},
   "outputs": [
    {
     "name": "stdout",
     "output_type": "stream",
     "text": [
      "Rotor impedence = 4000.00+0.08j\n",
      "Effective voltage on system = -0.10+0.22j\n",
      "no load rotor currentr ir = -0.00+0.00j\n",
      "no load stator currentr is = 0.43-0.00j\n",
      "Real power drawn from stator = -0.00\n"
     ]
    }
   ],
   "source": [
    "#Condistion small slip\n",
    "sx = 1e-5\n",
    "vs = complex(0,1.0)\n",
    "ws = 1.0\n",
    "vrbysx = complex(-0.1,1.2)\n",
    "zr = complex(rr/sx,ws*sig*lr)\n",
    "#------------------------\n",
    "ir0 = (vrbysx - vs*lh/ls)/zr\n",
    "is0 = vs/complex(0,ws*ls) - lh*ir0/ls\n",
    "#------------------------------------------\n",
    "#stator power \n",
    "Ss = np.conj(vs)*is0\n",
    "Ps = Ss.real\n",
    "print(\"Rotor impedence = {0:3.2f}\".format(zr))\n",
    "print(\"Effective voltage on system = {0:3.2f}\".format(vrbysx - lh*vs/ls ))\n",
    "print('no load rotor currentr ir = {0:3.2f}'.format(ir0))\n",
    "print('no load stator currentr is = {0:3.2f}'.format(is0))\n",
    "#------------------------------------------------------\n",
    "print(\"Real power drawn from stator = {0:3.2f}\".format(Ps))"
   ]
  },
  {
   "cell_type": "code",
   "execution_count": 25,
   "id": "aeee7b22",
   "metadata": {},
   "outputs": [],
   "source": [
    "def ss_DFIG(mach_dict,s,vrm,vrang):\n",
    "    \"\"\"Takes following inputs\n",
    "       mach_dict: dictionary of machine parameters\n",
    "       s : slip \n",
    "       vrm : rotor voltage magnitude in per-unit\n",
    "       vrang : phase angle of rotor voltage with respect to stationary alpha axis\n",
    "    \"\"\"\n",
    "    #get parameters\n",
    "    rs,rr,lh,ls,lr,sig,lsigss,lsigrr = mach_Tpara(mach_dict)\n",
    "    #model\n",
    "    ws = 1.0\n",
    "    sp = rr/(ws*(lsigss + lsigrr))\n",
    "    sx = s\n",
    "    vs = complex(0,1.0)\n",
    "    vrmag = sx*np.abs(vs)*lh/ls\n",
    "    vrbysx = cmath.rect(vrmag/sx,vrang)\n",
    "    zr = complex(rr/sx,ws*sig*lr)\n",
    "    #------------------------\n",
    "    ir1 = (vrbysx - vs*lh/ls)/zr\n",
    "    is1 = vs/complex(0,ws*ls) - lh*ir1/ls\n",
    "    #------------------------------------------\n",
    "    Ss = vs*np.conj(is1)\n",
    "    Ps = Ss.real\n",
    "    Sr = vr*np.conj(ir1)\n",
    "    Pr = Sr.real\n",
    "    #--------------------------------------------\n",
    "    print(\"Real power drawn from stator = {0:3.2f}\".format(Ps))\n",
    "    print(\"Power Factor at stator = {0:1.3f}\".format(np.abs(Ps)/np.abs(Ss)))\n",
    "    print(\"Real power given out of  rotor terminal = {0:3.2f}\".format(Pr))\n",
    "    \n",
    "    return vs,vrbysx,ir1,is1"
   ]
  },
  {
   "cell_type": "code",
   "execution_count": 26,
   "id": "26d95c32",
   "metadata": {},
   "outputs": [],
   "source": [
    "def ss_DFIGop(mach_dict,s,vrm,vrang):\n",
    "    \"\"\"Takes following inputs\n",
    "       mach_dict: dictionary of machine parameters\n",
    "       s : slip \n",
    "       vrm : rotor voltage magnitude in per-unit\n",
    "       vrang : phase angle of rotor voltage with respect to stationary alpha axis\n",
    "    \"\"\"\n",
    "    #get parameters\n",
    "    rs,rr,lh,ls,lr,sig,lsigss,lsigrr = mach_Tpara(mach_dict)\n",
    "    #model\n",
    "    ws = 1.0\n",
    "    sp = rr/(ws*(lsigss + lsigrr))\n",
    "    sx = s\n",
    "    vs = complex(0,1.0)\n",
    "    #vrmag = sx*np.abs(vs)*lh/ls\n",
    "    if vrm == 0:\n",
    "        vrbysx = cmath.rect(0,vrang)\n",
    "    else:\n",
    "        vrbysx = cmath.rect(vrm,vrang)\n",
    "    zr = complex(rr/sx,ws*sig*lr)\n",
    "    #------------------------\n",
    "    ir1 = (vrbysx - vs*lh/ls)/zr\n",
    "    is1 = vs/complex(0,ws*ls) - lh*ir1/ls\n",
    "    #------------------------------------------\n",
    "    Ss = vs*np.conj(is1)\n",
    "    Ps = Ss.real\n",
    "    Sr = vr*np.conj(ir1)\n",
    "    Pr = Sr.real\n",
    "    #--------------------------------------------\n",
    "#     print(\"Real power drawn from stator = {0:3.2f}\".format(Ps))\n",
    "#     print(\"Power Factor at stator = {0:1.3f}\".format(np.abs(Ps)/np.abs(Ss)))\n",
    "#     print(\"Real power given out of  rotor terminal = {0:3.2f}\".format(Pr))\n",
    "    \n",
    "    return vs,vrbysx,ir1,is1"
   ]
  },
  {
   "cell_type": "markdown",
   "id": "1b13eb4c",
   "metadata": {},
   "source": [
    "### Model of Cage IM"
   ]
  },
  {
   "cell_type": "code",
   "execution_count": 27,
   "id": "1ae91ba9",
   "metadata": {},
   "outputs": [],
   "source": [
    "def ss_CIMGop(mach_dict,s,vsmag,wsx):\n",
    "    \"\"\"Takes following inputs\n",
    "    models cage indudction motor with, s and vs magnitude as variables ws \n",
    "       mach_dict: dictionary of machine parameters\n",
    "       s : slip \n",
    "       vrm : rotor voltage magnitude in per-unit\n",
    "       vrang : phase angle of rotor voltage with respect to stationary alpha axis\n",
    "    \"\"\"\n",
    "    #get parameters\n",
    "    rs,rr,lh,ls,lr,sig,lsigss,lsigrr = mach_Tpara(mach_dict)\n",
    "    #model\n",
    "    ws = wsx\n",
    "    sp = rr/(ws*(lsigss + lsigrr))\n",
    "    sx = s\n",
    "    vs = complex(0,1.0)\n",
    "    vrmag = sx*np.abs(vs)*lh/ls\n",
    "    zr = complex(rr/sx,ws*sig*lr)\n",
    "    zm = complex(0,ws*lh)\n",
    "    zh = zr*zm/(zr + zm)\n",
    "    #------------------------\n",
    "    ir1 = (vrbysx - vs*lh/ls)/zr\n",
    "    is1 = vs/complex(0,ws*ls) - lh*ir1/ls\n",
    "    #------------------------------------------\n",
    "    Ss = vs*np.conj(is1)\n",
    "    Ps = Ss.real\n",
    "    Sr = vr*np.conj(ir1)\n",
    "    Pr = Sr.real\n",
    "    #--------------------------------------------\n",
    "#     print(\"Real power drawn from stator = {0:3.2f}\".format(Ps))\n",
    "#     print(\"Power Factor at stator = {0:1.3f}\".format(np.abs(Ps)/np.abs(Ss)))\n",
    "#     print(\"Real power given out of  rotor terminal = {0:3.2f}\".format(Pr))\n",
    "    \n",
    "    return vs,vrbysx,ir1,is1"
   ]
  },
  {
   "cell_type": "code",
   "execution_count": 28,
   "id": "2626e3da",
   "metadata": {},
   "outputs": [
    {
     "name": "stdout",
     "output_type": "stream",
     "text": [
      "Real power drawn from stator = -0.12\n",
      "Power Factor at stator = 0.999\n",
      "Real power given out of  rotor terminal = 0.43\n"
     ]
    },
    {
     "data": {
      "text/plain": [
       "1j"
      ]
     },
     "execution_count": 28,
     "metadata": {},
     "output_type": "execute_result"
    }
   ],
   "source": [
    "s = -0.058\n",
    "vr = 1.0\n",
    "vrang = pi/2 + 0.2*(pi/2)\n",
    "v1,v2,i2,i1 = ss_DFIG(mach_ma,s,1.0,vrang)\n",
    "v1"
   ]
  },
  {
   "cell_type": "code",
   "execution_count": 29,
   "id": "8a2f2c1a",
   "metadata": {},
   "outputs": [
    {
     "name": "stdout",
     "output_type": "stream",
     "text": [
      "[0.0, 0.0, 0.0, 1.0]\n",
      "[0.0, 0.0, -0.3037571306409057, 0.9348683202731085]\n",
      "[0.0, 0.0, 0.4267791319669343, 0.11884513296059829]\n",
      "[0.0, 0.0, 0.006017108577183794, -0.11682223708041789]\n"
     ]
    },
    {
     "data": {
      "text/plain": [
       "(-1.0, 1.0)"
      ]
     },
     "execution_count": 29,
     "metadata": {},
     "output_type": "execute_result"
    },
    {
     "data": {
      "image/png": "[encoded data removed]",
      "text/plain": [
       "<Figure size 288x230.4 with 1 Axes>"
      ]
     },
     "metadata": {
      "needs_background": "light"
     },
     "output_type": "display_data"
    }
   ],
   "source": [
    "plt.figure(101,figsize = (4,3.2))\n",
    "plt.rc('font', size = 12)\n",
    "y1 = plot_cvector(v1)\n",
    "print(y1)\n",
    "plt.arrow(y1[0],y1[1],y1[2],y1[3], fc ='orange', ec ='orange', head_width = 0.03, lw = 1, length_includes_head = True)\n",
    "y2 = plot_cvector(v2)\n",
    "print(y2)\n",
    "plt.arrow(y2[0],y2[1],y2[2],y2[3], fc ='r', ec ='r', head_width = 0.03, lw = 1, length_includes_head = True)\n",
    "\n",
    "y3 = plot_cvector(i2)\n",
    "print(y3)\n",
    "plt.arrow(y3[0],y3[1],y3[2],y3[3], fc ='darkgreen', ec ='darkgreen', head_width = 0.03, lw = 1, length_includes_head = True)\n",
    "\n",
    "y4 = plot_cvector(i1)\n",
    "print(y4)\n",
    "plt.arrow(y4[0],y4[1],y4[2],y4[3], fc ='navy', ec ='navy', head_width = 0.03, lw = 1, length_includes_head = True)\n",
    "\n",
    "# plt.arrow(0,0,Sr.real,Sr.imag, fc ='magenta', ec ='magenta', head_width = 0.03, lw = 1, length_includes_head = True)\n",
    "\n",
    "# plt.arrow(0,0,Ss.real,Ss.imag, fc ='darkred', ec ='darkred', head_width = 0.03, lw = 1, length_includes_head = True)\n",
    "\n",
    "# plt.arrow(0,0,Sr.real+Ss.real,-Sr.imag + Ss.imag, fc ='k', ec ='k', head_width = 0.03, lw = 1, length_includes_head = True)\n",
    "plt.xlim(-1.0,1.0)"
   ]
  },
  {
   "cell_type": "code",
   "execution_count": 187,
   "id": "80e855a8",
   "metadata": {},
   "outputs": [
    {
     "name": "stdout",
     "output_type": "stream",
     "text": [
      "0.04897446808510639\n",
      "Rotor impedence = 0.04+0.00j\n",
      "RotorVoltage on system = 0.08+0.00j\n",
      "RotorVoltage  = 1.58+0.07j\n",
      "rotor currentr ir = 0.60+0.50j\n",
      "no load stator currentr is = 0.43+0.00j\n",
      "stator currentr is = -0.16-0.49j\n",
      "Real power drawn from stator = -0.49\n",
      "Reactive power drawn from stator = -0.16\n",
      "Real power given by  rotor terminal = 0.0490\n",
      "Reactive power given by   rotor terminal = -0.04\n",
      "Real raw power given by  rotor terminal = 0.9795\n",
      "Reactive raw power given by   rotor terminal = -0.75\n"
     ]
    }
   ],
   "source": [
    "#Condition \n",
    "\"\"\"Machine operate like geneartor\"\"\"\n",
    "\n",
    "sp = rr/(ws*(lsigss + lsigrr))\n",
    "sx = 0.05\n",
    "vs = complex(0,1.0)\n",
    "ws = 1.0\n",
    "is0 =  vs/(complex(0,ws*ls))\n",
    "zr = complex(rr,sx*ws*sig*lr)\n",
    "#------------------------\n",
    "# ir1 = (vrbysx - vs*lh/ls)/zr\n",
    "ird =  0.6\n",
    "irq = 0.5\n",
    "irn = complex(ird,irq)\n",
    "is1 = is0 - lh*irn/ls\n",
    "vrx = zr*irn + complex(0,1)*sx*ws*lh*is1\n",
    "vro = vrx/sx\n",
    "#------------------------------------------\n",
    "#stator power \n",
    "Ss = vs*np.conj(is1)\n",
    "Ssc = np.conj(Ss)\n",
    "Ps = Ss.real\n",
    "Sr = vrx*np.conj(irn)\n",
    "Src = np.conj(Sr)\n",
    "print(Src.real)\n",
    "Pr = Sr.real\n",
    "Qr = Sr.imag\n",
    "Sro= vro*np.conj(irn)\n",
    "print(\"Rotor impedence = {0:3.2f}\".format(zr))\n",
    "print(\"RotorVoltage on system = {0:3.2f}\".format(vrx))\n",
    "print(\"RotorVoltage  = {0:3.2f}\".format(vro))\n",
    "print('rotor currentr ir = {0:3.2f}'.format(irn))\n",
    "print('no load stator currentr is = {0:3.2f}'.format(is0))\n",
    "print('stator currentr is = {0:3.2f}'.format(is1))\n",
    "#------------------------------------------------------\n",
    "print(\"Real power drawn from stator = {0:3.2f}\".format(Ps))\n",
    "print(\"Reactive power drawn from stator = {0:3.2f}\".format(Ss.imag))\n",
    "print(\"Real power given by  rotor terminal = {0:3.4f}\".format(Pr))\n",
    "print(\"Reactive power given by   rotor terminal = {0:3.2f}\".format(Qr))\n",
    "#----------------------------------------------------------------------\n",
    "print(\"Real raw power given by  rotor terminal = {0:3.4f}\".format(Sro.real))\n",
    "print(\"Reactive raw power given by   rotor terminal = {0:3.2f}\".format(Sro.imag))"
   ]
  },
  {
   "cell_type": "code",
   "execution_count": 182,
   "id": "72331ddb",
   "metadata": {},
   "outputs": [
    {
     "data": {
      "text/plain": [
       "(-1.1, 1.1)"
      ]
     },
     "execution_count": 182,
     "metadata": {},
     "output_type": "execute_result"
    },
    {
     "data": {
      "image/png": "[encoded data removed]",
      "text/plain": [
       "<Figure size 288x230.4 with 1 Axes>"
      ]
     },
     "metadata": {
      "needs_background": "light"
     },
     "output_type": "display_data"
    }
   ],
   "source": [
    "plt.figure(101,figsize = (4,3.2))\n",
    "plt.rc('font', size = 12)\n",
    "plt.arrow(0,0,0,1, fc ='darkred', ec ='darkred', head_width = 0.05, lw = 1, length_includes_head = False)\n",
    "plt.arrow(0,0,is1.real,is1.imag, fc ='magenta', ec ='magenta', head_width = 0.05, lw = 1, length_includes_head =  False)\n",
    "plt.arrow(0,0,is0.real,is0.imag, fc ='navy', ec ='navy', head_width = 0.05, lw = 1, length_includes_head =  False)\n",
    "plt.arrow(0,0,vrx.real,vrx.imag, fc ='r', ec ='r',head_width = 0.05, lw = 1, length_includes_head = False)\n",
    "plt.arrow(0,0,irn.real,irn.imag, fc ='darkgreen', ec ='darkgreen',head_width = 0.05, lw = 1, length_includes_head = False)\n",
    "plt.xlim(-1.1,1.1)\n",
    "plt.ylim(-1.1,1.1)"
   ]
  },
  {
   "cell_type": "code",
   "execution_count": 32,
   "id": "230da279",
   "metadata": {},
   "outputs": [],
   "source": [
    "ss = np.arange(-1.0,1.0,0.001)\n",
    "vrmag = 1.1\n",
    "rang = np.arange(0,2*pi,0.01)\n",
    "sx = -0.05\n",
    "ira = np.zeros(len(rang), dtype = complex)\n",
    "isa = np.zeros(len(rang), dtype = complex)\n",
    "vra = np.zeros(len(rang), dtype = complex)\n",
    "Psa = np.zeros(len(rang))\n",
    "Pra = np.zeros(len(rang))\n",
    "\n",
    "Ssa = np.zeros(len(rang), dtype = complex)\n",
    "Sra = np.zeros(len(rang), dtype = complex)\n",
    "\n",
    "for ii,rangn in enumerate(rang):\n",
    "    vs = complex(0,1.0)\n",
    "    ws = 1.0\n",
    "    vra[ii] = cmath.rect(vrmag*sx,rangn)/sx\n",
    "    zr = complex(rr/sx,ws*sig*lr)\n",
    "    #------------------------\n",
    "    ira[ii] = (vra[ii] - vs*lh/ls)/zr\n",
    "    isa[ii] = vs/complex(0,ws*ls) - lh*ira[ii]/ls\n",
    "#------------------------------------------\n",
    "    #stator power \n",
    "    Ssa[ii] = vs*np.conj(isa[ii])\n",
    "    Psa[ii] = Ssa[ii].real\n",
    "    Sra[ii] = vra[ii]*np.conj(ira[ii])\n",
    "    Pra[ii] = Sra[ii].real"
   ]
  },
  {
   "cell_type": "code",
   "execution_count": 33,
   "id": "0c24af42",
   "metadata": {},
   "outputs": [
    {
     "data": {
      "text/plain": [
       "<matplotlib.legend.Legend at 0x1e1609b2850>"
      ]
     },
     "execution_count": 33,
     "metadata": {},
     "output_type": "execute_result"
    },
    {
     "data": {
      "image/png": "[encoded data removed]",
      "text/plain": [
       "<Figure size 288x432 with 1 Axes>"
      ]
     },
     "metadata": {
      "needs_background": "light"
     },
     "output_type": "display_data"
    }
   ],
   "source": [
    "plt.figure(101,figsize = (4,6))\n",
    "plt.rc('font', size = 12)\n",
    "plt.arrow(0,0,0,1, fc ='orange', ec ='orange', lw = 1.5, length_includes_head = True, head_width = 0.1)\n",
    "plt.plot(isa.real,isa.imag, c ='magenta', lw = 1, label = \"stator current\")\n",
    "plt.arrow(0,0,isa[200].real,isa[200].imag, fc ='magenta', ec = 'magenta',lw = 1.5, length_includes_head = True, head_width = 0.1)\n",
    "plt.plot(vra.real,vra.imag, c ='r', lw = 2, label = 'rotor voltage')\n",
    "plt.arrow(0,0,vra[200].real,vra[200].imag, ec ='r', fc = 'r',lw = 1.5, length_includes_head = True, head_width = 0.1)\n",
    "plt.plot(ira.real,ira.imag, c ='darkgreen',lw = 1, label = \"rotor currenr\")\n",
    "plt.arrow(0,0,ira[200].real,ira[200].imag, ec ='darkgreen',fc = 'darkgreen',lw = 1.5, length_includes_head = True, head_width = 0.1)\n",
    "# plt.plot(Ssa.real,Ssa.imag, c ='blue',lw = 2)\n",
    "# plt.plot(Sra.real,Sra.imag, c ='navy',lw = 2)\n",
    "# plt.xlim(-1.1,1.1)\n",
    "# plt.ylim(-1.1,1.1)\n",
    "plt.axhline(0, c = 'k', lw = 0.5)\n",
    "plt.axvline(0, c = 'k', lw = 0.5)\n",
    "plt.legend(loc = \"upper left\", bbox_to_anchor = (1.0,1.0))\n",
    "# plt.savefig(dirfig2 + \"DFIGwithvrchange.pdf\", bbox_inches = 'tight', transparent = True)"
   ]
  },
  {
   "cell_type": "markdown",
   "id": "eca033b0",
   "metadata": {},
   "source": [
    "### Current locus with changing voltage at same slip"
   ]
  },
  {
   "cell_type": "code",
   "execution_count": 34,
   "id": "bc7ecfdf",
   "metadata": {},
   "outputs": [],
   "source": [
    "ss = np.arange(-1.0,1.0,0.001)\n",
    "vrmag = 1.1\n",
    "vrx = np.arange(0,1.1,0.2)\n",
    "rang = np.arange(0,2*pi,0.01)\n",
    "sx = -0.05\n",
    "ira = np.zeros((len(rang),len(vrx)), dtype = complex)\n",
    "isa = np.zeros((len(rang),len(vrx)), dtype = complex)\n",
    "vra = np.zeros((len(rang),len(vrx)), dtype = complex)\n",
    "Ssa = np.zeros((len(rang),len(vrx)), dtype = complex)\n",
    "Sra =  np.zeros((len(rang),len(vrx)), dtype = complex)\n",
    "\n",
    "\n",
    "for vv,vn in enumerate(vrx):\n",
    "    for ii,rangn in enumerate(rang):\n",
    "        vs = complex(0,1.0)\n",
    "        ws = 1.0\n",
    "        vra[ii,vv] = cmath.rect(vn*sx,rangn)/sx\n",
    "        zr = complex(rr/sx,ws*sig*lr)\n",
    "    #------------------------\n",
    "        ira[ii,vv] = (vra[ii,vv] - vs*lh/ls)/zr\n",
    "        isa[ii,vv] = vs/complex(0,ws*ls) - lh*ira[ii,vv]/ls\n",
    "#------------------------------------------\n",
    "        #stator power \n",
    "        Ssa[ii,vv] = vs*np.conj(isa[ii,vv])\n",
    "        Sra[ii,vv] = vra[ii,vv]*np.conj(ira[ii,vv])"
   ]
  },
  {
   "cell_type": "code",
   "execution_count": 35,
   "id": "2cfcc98a",
   "metadata": {},
   "outputs": [
    {
     "data": {
      "text/plain": [
       "<matplotlib.legend.Legend at 0x1e160a38b80>"
      ]
     },
     "execution_count": 35,
     "metadata": {},
     "output_type": "execute_result"
    },
    {
     "data": {
      "image/png": "[encoded data removed]",
      "text/plain": [
       "<Figure size 288x360 with 1 Axes>"
      ]
     },
     "metadata": {
      "needs_background": "light"
     },
     "output_type": "display_data"
    }
   ],
   "source": [
    "plt.figure(201,figsize = (4,5))\n",
    "plt.rc('font', size = 12)\n",
    "plt.arrow(0,0,0,1, fc ='orange', ec ='orange', lw = 1.5, length_includes_head = True, head_width = 0.1)\n",
    "plt.plot(isa[:,-1].real,isa[:,-1].imag, c ='magenta', lw = 1, label = \"stator current\")\n",
    "plt.plot(isa[:,0:-1].real,isa[:,0:-1].imag,ls = \"--\", c ='magenta', lw = 1)\n",
    "plt.arrow(0,0,isa[200,-1].real,isa[200,-1].imag, fc ='magenta', ec = 'magenta',lw = 1.5, length_includes_head = True, head_width = 0.1)\n",
    "plt.plot(vra[:,-1].real,vra[:,-1].imag, c ='r', lw = 1, label = 'rotor voltage')\n",
    "plt.plot(vra[:,0:-1].real,vra[:,0:-1].imag,ls = '--', c ='r', lw = 1)\n",
    "plt.arrow(0,0,vra[200,-1].real,vra[200,-1].imag, ec ='r', fc = 'r',lw = 1.5, length_includes_head = True, head_width = 0.1)\n",
    "plt.plot(ira[:,-1].real,ira[:,-1].imag, c ='darkgreen',lw = 1, label = \"rotor current\")\n",
    "plt.plot(ira[:,0:-1].real,ira[:,0:-1].imag,ls = '--', c ='darkgreen',lw = 1)\n",
    "plt.arrow(0,0,ira[200,-1].real,ira[200,-1].imag, ec ='darkgreen',fc = 'darkgreen',lw = 1.5, length_includes_head = True, head_width = 0.1)\n",
    "plt.plot(Ssa[:,-1].real,Ssa[:,-1].imag, c ='blue',lw = 1, label = \"Stator power\")\n",
    "plt.plot(Sra[:,-1].real,Sra[:,-1].imag, c ='olive',lw = 1, label = \"rotor power\")\n",
    "# plt.xlim(-1.1,1.1)\n",
    "# plt.ylim(-1.1,1.1)\n",
    "plt.axhline(0, c = 'k', lw = 0.5)\n",
    "plt.axvline(0, c = 'k', lw = 0.5)\n",
    "plt.legend(loc = \"upper left\", bbox_to_anchor = (1.0,1.0), fontsize = 9)\n",
    "# plt.savefig(dirfig2 + \"DFIGwithvrmagchange.pdf\", bbox_inches = 'tight', transparent = True)"
   ]
  },
  {
   "cell_type": "markdown",
   "id": "03b4aae8",
   "metadata": {},
   "source": [
    "### with Rotor short-circuited"
   ]
  },
  {
   "cell_type": "code",
   "execution_count": 36,
   "id": "3abdbfc3",
   "metadata": {},
   "outputs": [],
   "source": [
    "s0inf = np.arange(1e-5,1e2,0.001)\n",
    "spn = np.arange(-1.0,1.0,0.001)\n",
    "s01 = np.arange(1e-5,1,0.001)\n",
    "s0p = np.arange(1e-5,sp,0.00001)\n",
    "sx = s0inf\n",
    "iscim = np.zeros(len(sx), dtype = complex)\n",
    "Sscim = np.zeros(len(sx), dtype = complex)\n",
    "ircim = np.zeros(len(sx), dtype = complex)\n",
    "sx2 = s01\n",
    "iscim2 = np.zeros(len(sx2), dtype = complex)\n",
    "Sscim2 = np.zeros(len(sx2), dtype = complex)\n",
    "ircim2 = np.zeros(len(sx2), dtype = complex)\n",
    "#\n",
    "for ii,sn in enumerate(sx):\n",
    "    ycim = ss_DFIGop(mach_ma,sn,0,pi/2)\n",
    "    iscim[ii] = ycim[3]\n",
    "    ircim[ii] = ycim[2]\n",
    "    Sscim[ii] = ycim[0]*np.conj(iscim[ii])\n",
    "    #\n",
    "    \n",
    "for ii,sn in enumerate(sx2):\n",
    "    ycim = ss_DFIGop(mach_ma,sn,0,pi/2)\n",
    "    iscim2[ii] = ycim[3]\n",
    "    ircim2[ii] = ycim[2]\n",
    "    Sscim2[ii] = ycim[0]*np.conj(iscim[ii])\n",
    "#Study impact of voltage change\n",
    "\n",
    "sx2 = s0inf\n",
    "iscim3 = np.zeros(len(sx2), dtype = complex)\n",
    "Sscim3 = np.zeros(len(sx2), dtype = complex)\n",
    "ircim3 = np.zeros(len(sx2), dtype = complex)    \n",
    "vrcim3 = np.zeros(len(sx2), dtype = complex)    \n",
    "\n",
    "\n",
    "\n",
    "for ii,sn in enumerate(sx2):\n",
    "    ycim = ss_DFIGop(mach_ma,sn,0.2,pi/2 + 0.2*pi/2)\n",
    "    iscim3[ii] = ycim[3]\n",
    "    ircim3[ii] = ycim[2]\n",
    "    vrcim3[ii] = ycim[0]\n",
    "    Sscim3[ii] = ycim[0]*np.conj(iscim[ii])\n",
    "\n",
    "\n",
    "iscim4 = np.zeros(len(sx2), dtype = complex)\n",
    "Sscim4 = np.zeros(len(sx2), dtype = complex)\n",
    "ircim4 = np.zeros(len(sx2), dtype = complex)\n",
    "vrcim4 = np.zeros(len(sx2), dtype = complex)    \n",
    "\n",
    "\n",
    "for ii,sn in enumerate(sx2):\n",
    "    ycim = ss_DFIGop(mach_ma,sn,0.5,pi/2 + 0.2*pi/2)\n",
    "    iscim4[ii] = ycim[3]\n",
    "    ircim4[ii] = ycim[2]\n",
    "    vrcim4[ii] = ycim[0]\n",
    "    Sscim4[ii] = ycim[0]*np.conj(iscim[ii])\n",
    "    \n",
    "iscim5 = np.zeros(len(sx2), dtype = complex)\n",
    "Sscim5 = np.zeros(len(sx2), dtype = complex)\n",
    "ircim5 = np.zeros(len(sx2), dtype = complex)\n",
    "vrcim5 = np.zeros(len(sx2), dtype = complex)   \n",
    "\n",
    "for ii,sn in enumerate(sx2):\n",
    "    ycim = ss_DFIGop(mach_ma,sn,0.75,pi/2 + 0.2*pi/2)\n",
    "    iscim5[ii] = ycim[3]\n",
    "    ircim5[ii] = ycim[2]\n",
    "    vrcim5[ii] = ycim[0]\n",
    "    Sscim5[ii] = ycim[0]*np.conj(iscim[ii])\n",
    "#-------------------------------------------------------\n",
    "#Opposing voltage\n",
    "\n",
    "negang = 3*pi/2.0 - 0.2*pi/2\n",
    "\n",
    "iscim6 = np.zeros(len(sx2), dtype = complex)\n",
    "Sscim6 = np.zeros(len(sx2), dtype = complex)\n",
    "ircim6 = np.zeros(len(sx2), dtype = complex)    \n",
    "vrcim6 = np.zeros(len(sx2), dtype = complex)    \n",
    "\n",
    "\n",
    "\n",
    "for ii,sn in enumerate(sx2):\n",
    "    ycim = ss_DFIGop(mach_ma,sn,0.2,negang)\n",
    "    iscim6[ii] = ycim[3]\n",
    "    ircim6[ii] = ycim[2]\n",
    "    vrcim6[ii] = ycim[0]\n",
    "    Sscim6[ii] = ycim[0]*np.conj(iscim[ii])\n",
    "\n",
    "\n",
    "iscim7 = np.zeros(len(sx2), dtype = complex)\n",
    "Sscim7 = np.zeros(len(sx2), dtype = complex)\n",
    "ircim7 = np.zeros(len(sx2), dtype = complex)\n",
    "vrcim7 = np.zeros(len(sx2), dtype = complex)    \n",
    "\n",
    "\n",
    "for ii,sn in enumerate(sx2):\n",
    "    ycim = ss_DFIGop(mach_ma,sn,0.5,negang)\n",
    "    iscim7[ii] = ycim[3]\n",
    "    ircim7[ii] = ycim[2]\n",
    "    vrcim7[ii] = ycim[0]\n",
    "    Sscim7[ii] = ycim[0]*np.conj(iscim[ii])\n",
    "    \n",
    "iscim8 = np.zeros(len(sx2), dtype = complex)\n",
    "Sscim8 = np.zeros(len(sx2), dtype = complex)\n",
    "ircim8 = np.zeros(len(sx2), dtype = complex)\n",
    "vrcim8 = np.zeros(len(sx2), dtype = complex)   \n",
    "\n",
    "for ii,sn in enumerate(sx2):\n",
    "    ycim = ss_DFIGop(mach_ma,sn,0.75,negang)\n",
    "    iscim8[ii] = ycim[3]\n",
    "    ircim8[ii] = ycim[2]\n",
    "    vrcim8[ii] = ycim[0]\n",
    "    Sscim8[ii] = ycim[0]*np.conj(iscim[ii])"
   ]
  },
  {
   "cell_type": "code",
   "execution_count": 37,
   "id": "abcbad28",
   "metadata": {},
   "outputs": [
    {
     "name": "stdout",
     "output_type": "stream",
     "text": [
      "[0.42556989+1.24702500e-04j 0.42939206+1.25872974e-02j\n",
      " 0.4332636 +2.50345369e-02j ... 6.72371144-1.88301589e+00j\n",
      " 6.72371134-1.88301621e+00j 6.72371125-1.88301653e+00j]\n"
     ]
    }
   ],
   "source": [
    "print(iscim4)"
   ]
  },
  {
   "cell_type": "code",
   "execution_count": 38,
   "id": "4548d908",
   "metadata": {},
   "outputs": [
    {
     "data": {
      "text/plain": [
       "<matplotlib.legend.Legend at 0x1e160af80d0>"
      ]
     },
     "execution_count": 38,
     "metadata": {},
     "output_type": "execute_result"
    },
    {
     "data": {
      "image/png": "[encoded data removed]",
      "text/plain": [
       "<Figure size 288x144 with 1 Axes>"
      ]
     },
     "metadata": {
      "needs_background": "light"
     },
     "output_type": "display_data"
    }
   ],
   "source": [
    "plt.figure(103,figsize = (4,2))\n",
    "plt.rc('font', size = 12)\n",
    "plt.arrow(0,0,0,1, fc ='orange', ec ='orange', lw = 2)\n",
    "# plt.plot(iscim2.real,iscim2.imag, c ='magenta', ls = '--',lw = 1)\n",
    "plt.plot(iscim.real,iscim.imag, c ='magenta', ls = '--',lw = 1, label = \"Stator current\")\n",
    "# plt.plot(iscim3.real,iscim3.imag, c ='magenta', ls = '-.',lw = 1, label = \"Stator current,|vr|<0\")\n",
    "plt.arrow(0,0,iscim[200].real,iscim[200].imag, fc ='magenta', ec = 'magenta', lw = 1.5, length_includes_head = True, head_width = 0.5)\n",
    "plt.arrow(0,0,iscim[900].real,iscim[900].imag, fc ='magenta', ec = 'magenta', lw = 1.5, length_includes_head = True, head_width = 0.5)\n",
    "# plt.plot(Sscim.real,Sscim.imag, c ='r', lw = 1)\n",
    "# plt.arrow(0,0,vra[200].real,vra[200].imag, ec ='r', fc = 'r',lw = 2)\n",
    "plt.plot(ircim.real,ircim.imag,ls = '--', c ='darkgreen',lw = 1)\n",
    "plt.arrow(0,0,ircim[200].real,ircim[200].imag, ec ='darkgreen',fc = 'darkgreen',lw = 2)\n",
    "# plt.plot(Ssa.real,Ssa.imag, c ='blue',lw = 2)\n",
    "# plt.plot(Sra.real,Sra.imag, c ='navy',lw = 2)\n",
    "# plt.xlim(-1.1,1.1)\n",
    "# plt.ylim(-1.1,1.1)\n",
    "plt.axhline(0, c = 'k', lw = 0.5)\n",
    "plt.axvline(0, c = 'k', lw = 0.5)\n",
    "plt.legend(loc = 'upper left', fontsize = 9)\n",
    "# plt.savefig(dirfig2 + \"DFIMzerovr.pdf\", transparent = True, bbox_inches = 'tight')\n"
   ]
  },
  {
   "cell_type": "code",
   "execution_count": 39,
   "id": "dabcca58",
   "metadata": {},
   "outputs": [
    {
     "data": {
      "text/plain": [
       "<matplotlib.legend.Legend at 0x1e163e53be0>"
      ]
     },
     "execution_count": 39,
     "metadata": {},
     "output_type": "execute_result"
    },
    {
     "data": {
      "image/png": "[encoded data removed]",
      "text/plain": [
       "<Figure size 360x223.2 with 1 Axes>"
      ]
     },
     "metadata": {
      "needs_background": "light"
     },
     "output_type": "display_data"
    }
   ],
   "source": [
    "plt.figure(105,figsize = (5,3.1))\n",
    "plt.rc('font', size = 12)\n",
    "plt.arrow(0,0,0,1, fc ='orange', ec ='orange', lw = 2)\n",
    "# plt.plot(iscim2.real,iscim2.imag, c ='magenta', ls = '--',lw = 1)\n",
    "# plt.plot(iscim.real,iscim.imag, c ='magenta', ls = '--',lw = 1, label = \"Stator current\")\n",
    "plt.plot(iscim3.real,iscim3.imag, c ='magenta', ls = '-.',lw = 1, label = \"|vr|= 0.2\")\n",
    "plt.plot(iscim4.real,iscim4.imag, c ='magenta', ls = ':',lw = 1, label = \"|vr| = 0.5\")\n",
    "plt.plot(iscim5.real,iscim5.imag, c ='magenta', ls = '-',lw = 1, label = \"|vr| = 0.75\")\n",
    "plt.arrow(0,0,iscim3[200].real,iscim3[200].imag, fc ='magenta', ec = 'magenta', lw = 1.5, length_includes_head = True, head_width = 0.5)\n",
    "plt.arrow(0,0,iscim3[900].real,iscim3[900].imag, fc ='magenta', ec = 'magenta', lw = 1.5, length_includes_head = True, head_width = 0.5)\n",
    "# plt.plot(Sscim.real,Sscim.imag, c ='r', lw = 1)\n",
    "plt.plot(iscim6.real,iscim6.imag, c ='darkred', ls = '-.',lw = 1, label = \"|vr|= -0.2\")\n",
    "plt.plot(iscim7.real,iscim7.imag, c ='darkred', ls = ':',lw = 1, label = \"|vr| = -0.5\")\n",
    "plt.plot(iscim8.real,iscim8.imag, c ='darkred', ls = '-',lw = 1, label = \"|vr| = -0.75\")\n",
    "\n",
    "plt.plot(iscim.real,iscim.imag, c ='r',lw = 1, label = \"|vr| = 0\")\n",
    "# plt.arrow(0,0,vra[200].real,vra[200].imag, ec ='r', fc = 'r',lw = 2)\n",
    "# plt.plot(ircim.real,ircim.imag,ls = '--', c ='darkgreen',lw = 1)\n",
    "plt.arrow(0,0,vrcim3[200].real,vrcim3[200].imag, ec ='darkgreen',fc = 'darkgreen',lw = 2)\n",
    "# plt.plot(Ssa.real,Ssa.imag, c ='blue',lw = 2)\n",
    "# plt.plot(Sra.real,Sra.imag, c ='navy',lw = 2)\n",
    "# plt.xlim(-1.1,1.1)\n",
    "# plt.ylim(-1.1,1.1)\n",
    "plt.axhline(0, c = 'k', lw = 0.5)\n",
    "plt.axvline(0, c = 'k', lw = 0.5)\n",
    "plt.legend(loc = 'upper left', fontsize = 9, bbox_to_anchor = (1.0,1.00))\n",
    "# plt.savefig(dirfig2 + \"DFIMzerovr.pdf\", transparent = True, bbox_inches = 'tight')\n",
    "# plt.savefig(dirfig2 + \"DFIMvrch.pdf\", transparent = True, bbox_inches = 'tight')"
   ]
  },
  {
   "cell_type": "code",
   "execution_count": 40,
   "id": "bfac013e",
   "metadata": {},
   "outputs": [
    {
     "data": {
      "text/plain": [
       "<matplotlib.legend.Legend at 0x1e1661d1a30>"
      ]
     },
     "execution_count": 40,
     "metadata": {},
     "output_type": "execute_result"
    },
    {
     "data": {
      "image/png": "[encoded data removed]",
      "text/plain": [
       "<Figure size 288x144 with 1 Axes>"
      ]
     },
     "metadata": {
      "needs_background": "light"
     },
     "output_type": "display_data"
    }
   ],
   "source": [
    "plt.figure(1032,figsize = (4,2))\n",
    "plt.rc('font', size = 12)\n",
    "plt.arrow(0,0,0,1, fc ='orange', ec ='orange', lw = 2)\n",
    "plt.plot(iscim2.real,iscim2.imag, c ='magenta', ls = '--',lw = 1, label = \"Stator current\")\n",
    "# plt.plot(iscim.real,iscim.imag, c ='magenta', ls = '--',lw = 1, label = \"Stator current\")\n",
    "plt.arrow(0,0,iscim2[200].real,iscim2[200].imag, fc ='magenta', ec = 'magenta', lw = 1.5, length_includes_head = True, head_width = 0.5)\n",
    "plt.arrow(0,0,iscim2[900].real,iscim2[900].imag, fc ='magenta', ec = 'magenta', lw = 1.5, length_includes_head = True, head_width = 0.5)\n",
    "# plt.plot(Sscim.real,Sscim.imag, c ='r', lw = 1)\n",
    "# plt.arrow(0,0,vra[200].real,vra[200].imag, ec ='r', fc = 'r',lw = 2)\n",
    "plt.plot(ircim2.real,ircim2.imag,ls = '--', c ='darkgreen',lw = 1)\n",
    "plt.arrow(0,0,ircim2[200].real,ircim2[200].imag, ec ='darkgreen',fc = 'darkgreen',lw = 2,length_includes_head = True, head_width = 0.5)\n",
    "# plt.plot(Ssa.real,Ssa.imag, c ='blue',lw = 2)\n",
    "# plt.plot(Sra.real,Sra.imag, c ='navy',lw = 2)\n",
    "# plt.xlim(-1.1,1.1)\n",
    "# plt.ylim(-1.1,1.1)\n",
    "plt.axhline(0, c = 'k', lw = 0.5)\n",
    "plt.axvline(0, c = 'k', lw = 0.5)\n",
    "plt.legend(loc = 'upper left', fontsize = 9)\n",
    "# plt.savefig(dirfig2 + \"DFIMzerovrs01.pdf\", transparent = True, bbox_inches = 'tight')\n",
    "# plt.savefig(dirfig2 + \"DFIMzerovrs0p.pdf\", transparent = True, bbox_inches = 'tight')"
   ]
  },
  {
   "cell_type": "markdown",
   "id": "a900d26e",
   "metadata": {},
   "source": [
    "### Power Variations with slip"
   ]
  },
  {
   "cell_type": "code",
   "execution_count": 41,
   "id": "2dbe0a1e",
   "metadata": {},
   "outputs": [],
   "source": [
    "ss = np.arange(-1.0,1.0,0.001)\n",
    "rang0 = pi/10\n",
    "rang = np.arange(0,2*pi,0.01)\n",
    "sx = -0.3\n",
    "irs = np.zeros(len(ss), dtype = complex)\n",
    "iss = np.zeros(len(ss), dtype = complex)\n",
    "Pss = np.zeros(len(ss))\n",
    "Prs = np.zeros(len(ss))\n",
    "\n",
    "for ii,sn in enumerate(ss):\n",
    "    vs = complex(0,1.0)\n",
    "    ws = 1.0\n",
    "    vrrx = cmath.rect(sn*(lh/ls),rangn)/sn\n",
    "    zr = complex(rr/sn,ws*sig*lr)\n",
    "    #------------------------\n",
    "    irs[ii] = (vrrx - vs*lh/ls)/zr\n",
    "    iss[ii] = vs/complex(0,ws*ls) - lh*irs[ii]/ls\n",
    "#------------------------------------------\n",
    "    #stator power \n",
    "    Sss = np.conj(vs)*iss[ii]\n",
    "    Pss[ii] = Sss.real\n",
    "    Srs = np.conj(vrrx)*irs[ii]\n",
    "    Prs[ii] = Srs.real"
   ]
  },
  {
   "cell_type": "code",
   "execution_count": 42,
   "id": "367130ed",
   "metadata": {},
   "outputs": [
    {
     "name": "stderr",
     "output_type": "stream",
     "text": [
      "C:\\Users\\eleamk\\Anaconda3\\lib\\site-packages\\matplotlib\\cbook\\__init__.py:1340: ComplexWarning: Casting complex values to real discards the imaginary part\n",
      "  return np.asarray(x, float)\n"
     ]
    },
    {
     "data": {
      "image/png": "[encoded data removed]",
      "text/plain": [
       "<Figure size 288x360 with 1 Axes>"
      ]
     },
     "metadata": {
      "needs_background": "light"
     },
     "output_type": "display_data"
    }
   ],
   "source": [
    "plt.figure(212, figsize = (4,5))\n",
    "plt.rc('font', size =12)\n",
    "plt.plot(ss,irs,c = 'r', lw =1.5, label =r\"$i_{r}$\")\n",
    "# plt.plot(ss,np.angle(irs),c = 'darkred', lw =1.5, label =r\"$i_{r}$angle\")\n",
    "plt.plot(ss,iss,c = 'darkred', lw =1.5, label =r\"$i_{s}$\")\n",
    "plt.plot(ss,Pss,c = 'navy', lw =1.5, label =r\"$P_{s}$\")\n",
    "plt.plot(ss,Prs,c = 'dodgerblue', lw =2, label =r\"$P_{r}$\")\n",
    "plt.legend(loc = 'lower right', fontsize = 9)\n",
    "plt.show()"
   ]
  }
 ],
 "metadata": {
  "kernelspec": {
   "display_name": "Python 3",
   "language": "python",
   "name": "python3"
  },
  "language_info": {
   "codemirror_mode": {
    "name": "ipython",
    "version": 3
   },
   "file_extension": ".py",
   "mimetype": "text/x-python",
   "name": "python",
   "nbconvert_exporter": "python",
   "pygments_lexer": "ipython3",
   "version": "3.8.5"
  }
 },
 "nbformat": 4,
 "nbformat_minor": 5
}
