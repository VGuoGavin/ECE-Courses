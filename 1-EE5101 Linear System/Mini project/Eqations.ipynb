{
 "cells": [
  {
   "cell_type": "markdown",
   "metadata": {},
   "source": [
    "$$ \n",
    "P(k+1) = {\\begin{bmatrix}\n",
    "y(k+1)\\\\\n",
    "z(k+1)\n",
    "\\end{bmatrix}}  =\n",
    "{\\begin{bmatrix}\n",
    "10cos(\\frac{(k+1)\\pi}{12})  \\\\\n",
    "10sin(\\frac{(k+1)\\pi}{12})\n",
    "\\end{bmatrix}} ={ {\\begin{bmatrix}\n",
    "10cos(\\frac{k\\pi}{12}+ \\frac{\\pi}{12}) \\\\\n",
    "10sin(\\frac{k\\pi}{12}+ \\frac{\\pi}{12})\n",
    "\\end{bmatrix}} } = $$\n",
    "\n",
    "\n",
    "$${\\begin{bmatrix}\n",
    "10cos(\\frac{k\\pi}{12})cos(\\frac{\\pi}{12})- 10sin(\\frac{k\\pi}{12})sin(\\frac{\\pi}{12})) \\\\\n",
    "10sin(\\frac{k\\pi}{12})cos(\\frac{\\pi}{12})+ 10cos(\\frac{k\\pi}{12})sin(\\frac{\\pi}{12})) \n",
    "\\end{bmatrix}} = $$\n",
    "\n",
    "$${\\begin{bmatrix}\n",
    "cos(\\frac{\\pi}{12}) y(k) - sin(\\frac{\\pi}{12}z(k)) \\\\\n",
    "sin(\\frac{\\pi}{12}) y(k) + cos(\\frac{\\pi}{12}z(k)) \n",
    "\\end{bmatrix}} = $$\n",
    "\n",
    "\n",
    "$${\\begin{bmatrix}\n",
    "cos(\\frac{pi}{12}) &  -sin(\\frac{pi}{12})\\\\\n",
    "sin(\\frac{pi}{12}) &  cos(\\frac{pi}{12})\n",
    "\\end{bmatrix}} \n",
    "{\\begin{bmatrix}\n",
    "y(k)\\\\\n",
    "z(k)\n",
    "\\end{bmatrix}}$$\n"
   ]
  },
  {
   "cell_type": "markdown",
   "metadata": {},
   "source": [
    "$$\n",
    "\\frac{K(s+1)^2}{s^3 + K(s+1)^2}\n",
    "$$\n",
    "\n",
    "$$\n",
    "s^3 + K(s+1)^2 = 0\n",
    "$$"
   ]
  },
  {
   "cell_type": "markdown",
   "metadata": {},
   "source": [
    "$$\\dot{\n",
    "{\\begin{bmatrix}\n",
    "x_1\\\\\n",
    "x_2\n",
    "\\end{bmatrix}}} = \n",
    "{\\begin{bmatrix}\n",
    "1 & 0\\\\\n",
    "1 & 0\n",
    "\\end{bmatrix}} {\\begin{bmatrix}\n",
    "x_1\\\\\n",
    "x_2\n",
    "\\end{bmatrix}} +\n",
    "{\\begin{bmatrix}\n",
    "1\\\\\n",
    "0\n",
    "\\end{bmatrix}} u\n",
    "$$\n",
    "\n",
    "$$\n",
    "\\frac{Y(s)}{U(s)} = \\frac{1}{s(s-1)}\n",
    "$$\n",
    "\n",
    "$$\n",
    "\\sigma = x_1+x_2\n",
    "$$"
   ]
  },
  {
   "cell_type": "code",
   "execution_count": null,
   "metadata": {},
   "outputs": [],
   "source": []
  }
 ],
 "metadata": {
  "language_info": {
   "name": "python"
  },
  "orig_nbformat": 4
 },
 "nbformat": 4,
 "nbformat_minor": 2
}
