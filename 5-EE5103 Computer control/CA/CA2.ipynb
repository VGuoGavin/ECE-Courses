{
 "cells": [
  {
   "cell_type": "markdown",
   "metadata": {},
   "source": [
    "<div align=center><img src=\"https://logosdownload.com/logo/national-university-of-singapore--logo-big.png\" width=\"30%\" height=\"50%\"></div>\n",
    "\n"
   ]
  },
  {
   "cell_type": "markdown",
   "metadata": {},
   "source": [
    "<center><font face=\"Time new roman\" size = 10 align=center>EE5103 CA 2</font> </center>\n",
    "<center><font face=\"Time new roman\" size = 4 align=center>Guo Shiping</font> </center>\n",
    "<center><font face=\"Time new roman\" size = 4 align=center> A0260014Y</font> </center>"
   ]
  },
  {
   "cell_type": "markdown",
   "metadata": {},
   "source": [
    "<font face=\"Time new roman\" size = 7 align=center bold>Q1</font> "
   ]
  },
  {
   "cell_type": "markdown",
   "metadata": {},
   "source": [
    "<font face=\"Time new roman\" size = 6 align=center bold>a)</font> "
   ]
  },
  {
   "cell_type": "markdown",
   "metadata": {},
   "source": [
    "\n",
    "$$ Y(s) =  \n",
    "\\frac{1}{s(Ts+1)} U(s) = \\frac{10}{s^2+10s}U(s) $$ \n",
    "$$ \\ddot{y} = -10\\dot{y} + 10u$$\n",
    "$$ \\because x(t) = (\\dot{y(t)}, y(t))^T$$\n",
    "$$ \\therefore The\\ continuous-time\\ state-space\\ model\\ is:$$\n",
    "$$\n",
    "\\dot{\\begin{bmatrix}\n",
    "x_1 \\\\\n",
    "x_2 \n",
    "\\end{bmatrix}} = {\\begin{bmatrix}\n",
    "-10 & 0\\\\\n",
    "1  & 0\n",
    "\\end{bmatrix}} {\\begin{bmatrix}\n",
    "x_1 \\\\\n",
    "x_2 \n",
    "\\end{bmatrix}}+ {\\begin{bmatrix}\n",
    "10 \\\\\n",
    "0 \n",
    "\\end{bmatrix}}u$$\n",
    "$$ y = [0, 1] \n",
    "{\\begin{bmatrix}\n",
    "x_1 \\\\\n",
    "x_2 \n",
    "\\end{bmatrix}}\n",
    "$$\n",
    "$$ A = {\\begin{bmatrix}\n",
    "-10 & 0\\\\\n",
    "1  & 0\n",
    "\\end{bmatrix}},  B = {\\begin{bmatrix}\n",
    "10 \\\\\n",
    "0\n",
    "\\end{bmatrix}}, C = [0, 1]$$\n",
    "$After\\ sampling,\\ the\\ state\\ space\\ changes\\ into\\ discrete-time\\ form:$\n",
    "$$x(k+1) = \\Phi x(k) + \\Gamma u(k) $$\n",
    "$$\\Phi = e^{Ah},  \\Gamma =\\int_{0}^{h}e^{Av}dv  $$"
   ]
  },
  {
   "cell_type": "markdown",
   "metadata": {},
   "source": [
    "<font face=\"Time new roman\" size = 6 align=center bold>b)</font> "
   ]
  },
  {
   "cell_type": "markdown",
   "metadata": {},
   "source": [
    "$$\\lambda_0 = -10, \\lambda_1 = 0 $$\n",
    "$$h(\\lambda) = \\beta_0 + \\beta_1 \\lambda $$\n",
    "$$ \\left\\{\n",
    "\\begin{aligned}\n",
    "e^{\\lambda_0h} & = & \\beta_0 + \\beta_1 \\lambda_0 \\\\\n",
    "e^{\\lambda_1h} & = & \\beta_0 + \\beta_1 \\lambda_1 \n",
    "\\end{aligned} \\right.\n",
    "=\\left\\{\n",
    "\\begin{aligned}\n",
    "e^{-10h} & = & \\beta_0 - 10\\beta_1  \\\\\n",
    "e^{0h} & = & \\beta_0 \n",
    "\\end{aligned}\n",
    "\\right. $$\n",
    "$$\\left\\{\n",
    "    \\begin{matrix} \n",
    "    \\beta_0 & = & 1  \\\\ \n",
    "    \\beta_1 & = & \\frac {1-e^{-10h}}{10}\n",
    "    \\end{matrix}\n",
    "    \\right.\n",
    "$$\n",
    "$$\\Phi = e^{Ah} = \\beta_0 I+ \\beta_1 A = {\\begin{bmatrix}\n",
    "e^{-10h} & 0\\\\\n",
    "\\frac{1-e^{-10h}}{10}  & 1\n",
    "\\end{bmatrix}} $$\n",
    "$$ \\Gamma =\\int_{0}^{h}e^{Av}dvB = \\int_0^h  {\\begin{bmatrix}\n",
    "e^{-10v} & 0\\\\\n",
    "\\frac{1-e^{-10v}}{10}  & 1\n",
    "\\end{bmatrix}} dv \n",
    "{\\begin{bmatrix}\n",
    "10\\\\\n",
    "0\n",
    "\\end{bmatrix}} = {\\begin{bmatrix}\n",
    "1-\\frac{1}{10}e^{-10h}\\\\\n",
    "h+\\frac{1}{10}(-1+e^{-10h}) \n",
    "\\end{bmatrix}} $$\n"
   ]
  },
  {
   "cell_type": "markdown",
   "metadata": {},
   "source": [
    "$Assuming\\ that\\  u(k) = -Lx(k), using\\ the\\ deadbeat\\ controller:$\n",
    "$Use\\ Ackermann's\\ formula$\n",
    "$$A_m(\\phi) = \\phi^2 + p_1\\phi + p_2I \\ \\ (p_1\\ and\\ p_2\\ are\\ 0) $$\n",
    "$$A_m(\\phi) = {\\begin{bmatrix}\n",
    "e^{-20h}& 0\\\\\n",
    "\\frac{1}{10}(1-e^{-20h})& 1\n",
    "\\end{bmatrix}}$$\n",
    "$$W_c = [\\Phi, \\Gamma \\Phi]$$\n",
    "$$L = [0, 1]W_c^{-1}A_m(\\Phi)$$\n",
    "$By \\ using \\ Matlab, \\ the \\ result \\ is$\n",
    "$$L = {\\begin{bmatrix}\n",
    "-\\frac{10h+e^{10h}-e^{20h}}{10h(e^{10h}-1)^2}\\\\\n",
    "\\frac{e^{10h}}{h(e^{10h}-1)}\n",
    "\\end{bmatrix}}$$\n",
    "\n",
    "$$ u(k) = -Lx(k) =-{\\begin{bmatrix}\n",
    "-\\frac{10h+e^{10h}-e^{20h}}{10h(e^{10h}-1)^2}\\\\\n",
    "\\frac{e^{10h}}{h(e^{10h}-1)}\n",
    "\\end{bmatrix}} x(k) $$\n",
    "\n",
    "\n",
    "\n"
   ]
  },
  {
   "cell_type": "markdown",
   "metadata": {},
   "source": [
    "<font face=\"Time new roman\" size = 6 align=center bold>c)</font> "
   ]
  },
  {
   "cell_type": "markdown",
   "metadata": {},
   "source": [
    "$$ u(0) = -Lx(0) = - \\frac{5h+3e^{10h}-3e^{20h}}{5h(e^{10h}-1)^2}$$\n",
    "$$ |u(0)|<1, h>0$$\n",
    "$$ Can't\\ be\\ solve\\ by\\ hand\\ and\\ Matlab $$\n"
   ]
  },
  {
   "cell_type": "markdown",
   "metadata": {},
   "source": [
    "<font face=\"Time new roman\" size = 7 align=center bold>Q2</font> "
   ]
  },
  {
   "cell_type": "markdown",
   "metadata": {},
   "source": [
    "<font face=\"Time new roman\" size = 6 align=center bold>a)</font> "
   ]
  },
  {
   "cell_type": "markdown",
   "metadata": {},
   "source": [
    "$$z(k) = \\begin{bmatrix}\n",
    "x(k)\\\\\n",
    "v(k)\n",
    "\\end{bmatrix}$$\n",
    "\n",
    "$$z(k+1) = \\begin{bmatrix}\n",
    "x(k+1)\\\\\n",
    "v(k+1)\n",
    "\\end{bmatrix} = \n",
    "\\begin{bmatrix}\n",
    "0.5 & 1   & 1\\\\\n",
    "0.2 & 0.8 & 0\\\\\n",
    "0   & 0   & 1\n",
    "\\end{bmatrix}\n",
    "\\begin{bmatrix}\n",
    "x(k)\\\\\n",
    "v(k)\n",
    "\\end{bmatrix} +\n",
    "\\begin{bmatrix}\n",
    "\\Gamma  \\\\\n",
    "0 \n",
    "\\end{bmatrix} u(k)\n",
    "=\n",
    "\\begin{bmatrix}\n",
    "\\Phi   & \\Phi_{xw}\\\\\n",
    "0 & \\Phi_w\\\\\n",
    "\\end{bmatrix} \n",
    "\\begin{bmatrix}\n",
    "x(k)\\\\\n",
    "v(k)\n",
    "\\end{bmatrix} =\n",
    "\\begin{bmatrix}\n",
    "1\\\\\n",
    "1\\\\\n",
    "0\n",
    "\\end{bmatrix}u(k)\n",
    "$$\n",
    "$$ y(k) = \\begin{bmatrix}\n",
    "1 & 0 & 0\n",
    "\\end{bmatrix} \n",
    "\\begin{bmatrix}\n",
    "x_1(k)\\\\\n",
    "x_2(k)\\\\\n",
    "v(k)\n",
    "\\end{bmatrix}\n",
    "$$\n",
    "$The \\ state\\ and\\ v\\ can\\ be\\ measured,\\ assuming $\n",
    "$$ u(k) = -L_c Z(k) = -Lx(k) - L_wv(k)$$\n",
    "$$x(k+1) = \\Phi x(k)- \\Gamma(Lx(k)+L_wv(k))+ \\Phi_v v(k) = (\\Phi - \\Gamma L)x(k) + (\\Phi_w-\\Gamma L_w)v(k)$$\n",
    "$To\\ cancel\\ the\\ disurbance\\ we\\ need\\ (\\Phi_w-\\Gamma L_w)\\ to\\ be\\ zero$\n",
    "$$\\Phi_w-\\Gamma L_w= \n",
    "\\begin{bmatrix}\n",
    "1\\\\\n",
    "0\n",
    "\\end{bmatrix} - \n",
    "\\begin{bmatrix}\n",
    "1\\\\\n",
    "1\n",
    "\\end{bmatrix} L_w = \n",
    "\\begin{bmatrix}\n",
    "1-L_w\\\\\n",
    "L_w\n",
    "\\end{bmatrix}\\ Can\\ not\\ to\\ be\\ zero\n",
    "$$\n",
    "\n",
    "$So\\ need\\ to\\ design\\ L,\\ let\\ all\\ the (\\Phi - \\Gamma L)\\ poles\\ to\\ zero$\n",
    "\n",
    "$$zI-(\\Phi - \\Gamma L) = \n",
    "\\begin{bmatrix}\n",
    "z-0.5+l_1 & l_1-1\\\\\n",
    "l_2-0.2   & z-0.8+l_2\n",
    "\\end{bmatrix}\n",
    "$$\n",
    "$$ |zI-(\\Phi - \\Gamma L)| = z^2$$\n",
    "$$l_1 = \\frac{17}{22} = 0.77, l_2=\\frac{29}{55} = 0.52$$\n",
    "$Analyze the TF from v(k) to y(k):$\n",
    "$$Y(z) = cX(z)\\ ==>\\ H_w(z) = c(zI-\\Phi + \\Gamma L)^{-1}(\\Phi_{xw}-\\Gamma L_w)v(z)$$\n",
    "$Let\\ H_w(1)\\ =\n",
    "\\frac{5(5*l_w + 100z -100l_wz-28)}{500z^2-5z+1} = 0$\n",
    "$$ l_w = \\frac{72}{95} = 0.76$$\n",
    "$$\\therefore  u(k) = -\n",
    "\\begin{bmatrix}\n",
    "0.77 & 0.52\n",
    "\n",
    "\\end{bmatrix}x(k)-0.76v(k)$$"
   ]
  },
  {
   "cell_type": "markdown",
   "metadata": {},
   "source": [
    "<font face=\"Time new roman\" size = 6 align=center bold>b)</font> "
   ]
  },
  {
   "cell_type": "markdown",
   "metadata": {},
   "source": [
    "$$ \\because x(k) can\\ be\\ measured,\\ when k\\ =\\ 0,\\ we\\ have:$$\n",
    "$$x_1(1) = 0.5x_1(0) + x_2(0) + u(0) + v(0) $$\n",
    "$$x_2(1) = 0.2x_1(0) + 0.8x_2(0) + 0.1u(0) $$\n",
    "$$\\because v(k)\\ is\\ constant$$\n",
    "$$\\therefore x(k)\\  and\\ v(k)\\ can\\ be\\ measured$$\n",
    "$$\\therefore\\ can\\ design\\ the\\ same\\ dead-beat\\ controller\\ as\\ a)$$\n",
    "$$  u(k) = -\n",
    "\\begin{bmatrix}\n",
    "0.77 & 0.52\n",
    "\\end{bmatrix}x(k)-0.76v(k)$$"
   ]
  },
  {
   "cell_type": "markdown",
   "metadata": {},
   "source": [
    "<font face=\"Time new roman\" size = 6 align=center bold>c)</font> "
   ]
  },
  {
   "cell_type": "markdown",
   "metadata": {},
   "source": [
    "$The \\ state\\ and\\ v\\ can\\ be\\ measured,\\ assuming $\n",
    "$$ u(k) = -L_c Z(k) = -Lx(k) - L_wv(k)$$\n",
    "$$\\hat{z}(k+1) = \n",
    "\\begin{bmatrix}\n",
    "\\Phi   & \\Phi_{xw}\\\\\n",
    "0 & \\Phi_w\\\\\n",
    "\\end{bmatrix} \\hat{z}(k)+\n",
    "\\begin{bmatrix}\n",
    "\\Gamma\\\\\n",
    "0\n",
    "\\end{bmatrix}u(k)+K\n",
    "\\begin{bmatrix}\n",
    "y(k)-\\hat{y}(k)\n",
    "\\end{bmatrix} $$\n",
    "\n",
    "$$ \\hat{y}(k) = \n",
    "\\begin{bmatrix}\n",
    "c & 0\n",
    "\\end{bmatrix} \\hat{z}(k)\n",
    "\\begin{bmatrix}\n",
    "x_1(k)\\\\\n",
    "x_2(k)\\\\\n",
    "v(k)\n",
    "\\end{bmatrix} $$\n",
    "\n",
    "$$ e(k) =z(k)- \\hat{z}(k)$$\n",
    "$$ e(k+1) =(\\Phi - Kc)e(k)$$\n",
    "$Place\\ the\\ poles\\ to\\ zero.\\ The\\ the\\ K\\ can\\ be\\ chosen.$\n",
    "$$zI - (\\Phi - Kc) =\n",
    "\\begin{bmatrix}\n",
    "k1 + z - 1/2&      -1&    -1\\\\\n",
    "    k2 - 1/5& z - 4/5&     0\\\\\n",
    "          k3&       0& z - 1\n",
    "\\end{bmatrix}$$\n",
    "\n",
    "$$det(zI - (\\Phi - Kc)) = z^3$$\n",
    "$$K = [2.3\\ -2.36\\ \\ 5]^T$$\n",
    "$The\\ controller\\ is:$\n",
    "$$\\therefore   u(k) = -\n",
    "\\begin{bmatrix}\n",
    "0.77 & 0.52\n",
    "\\end{bmatrix}x(k)-0.76v(k)$$"
   ]
  },
  {
   "cell_type": "markdown",
   "metadata": {},
   "source": [
    "<font face=\"Time new roman\" size = 7 align=center bold>Q3</font> "
   ]
  },
  {
   "cell_type": "markdown",
   "metadata": {},
   "source": [
    "<font face=\"Time new roman\" size = 6 align=center bold>a)</font> "
   ]
  },
  {
   "cell_type": "markdown",
   "metadata": {},
   "source": [
    "$First\\ to\\ build\\ the\\ reference\\ model\\ by\\ using\\ the\\ overshoot\\ and\\ stabilization\\ time:$\n",
    "$$Magitude = e^{-\\frac{\\pi\\zeta}{\\sqrt{1-\\zeta^2}}}<=5\\%$$"
   ]
  },
  {
   "cell_type": "code",
   "execution_count": 1,
   "metadata": {},
   "outputs": [
    {
     "name": "stdout",
     "output_type": "stream",
     "text": [
      "zeta: 0.690106730559822\n",
      "w0: 0.6666666666666666\n"
     ]
    }
   ],
   "source": [
    "import numpy as np\n",
    "from sympy import *\n",
    "zeta = symbols('zeta')\n",
    "zeta_res = solve(exp(-pi*zeta/sqrt(1-zeta**2))-0.05, zeta)[0]\n",
    "print('zeta:',zeta_res)\n",
    "w0 =  4.6/6.9\n",
    "print('w0:', w0)"
   ]
  },
  {
   "cell_type": "markdown",
   "metadata": {},
   "source": [
    "\n",
    "$$\\zeta = 0.69$$\n",
    "$$t_s = \\frac{4.6}{\\zeta w_n} <= 10s $$\n",
    "$$w_n = 0.67$$\n",
    "$The\\ reference\\ model\\ is:$\n",
    "$$H_m(s) = \\frac{w_n^2}{s^2 + 2\\zeta w_n s+w_n^2} = \\frac{w_n^2}{s^2 + 0.92s+0.43}$$\n"
   ]
  },
  {
   "cell_type": "code",
   "execution_count": 2,
   "metadata": {},
   "outputs": [
    {
     "name": "stdout",
     "output_type": "stream",
     "text": [
      "0.00215480968809378 0.00208971642955746 -1.90784764358737 0.912092169705017\n"
     ]
    }
   ],
   "source": [
    "sampling = 0.1\n",
    "w = w0*sqrt(1-zeta_res**2)\n",
    "apha = exp(-zeta_res*w0 * sampling)\n",
    "beta = cos(w*sampling)\n",
    "gamma = sin(w*sampling)\n",
    "\n",
    "b1 = 1-apha*(beta + zeta_res*w0*gamma/w)\n",
    "b2 = apha**2 + apha*(zeta_res*w0*gamma/w - beta)\n",
    "a1 = -2*apha*beta\n",
    "a2 = apha**2\n",
    "print(b1, b2, a1, a2)"
   ]
  },
  {
   "cell_type": "markdown",
   "metadata": {},
   "source": [
    "$The\\ discrete-time\\ trasfer\\ function\\ is:$\n",
    "$$ H_m(s) = \\frac{0.00215z + 0.0021}{z^2-1.9078z+0.9121}$$"
   ]
  },
  {
   "cell_type": "markdown",
   "metadata": {},
   "source": [
    "<font face=\"Time new roman\" size = 6 align=center bold>b)</font> "
   ]
  },
  {
   "cell_type": "markdown",
   "metadata": {},
   "source": [
    "$$ 1000 \\ddot{y}(t) + 200\\dot{y}(t) = u(t) $$\n",
    "$$x_1(t) =y(t),\\ x_2(t) = \\dot{y}(t)$$\n",
    "$$\\left\\{\n",
    "    \\begin{matrix} \n",
    "    \\dot{x}_1 & = & x_2(t)  \\\\ \n",
    "    \\dot{x}_2 & = & -0.2x_2 + 0.001u\n",
    "    \\end{matrix}\n",
    "    \\right. =\n",
    "    \\begin{bmatrix} \n",
    "    0     & 1 \\\\ \n",
    "    0     & -0.2\n",
    "    \\end{bmatrix}\n",
    "    \\begin{bmatrix} \n",
    "    x_1       \\\\ \n",
    "    x_2  \n",
    "    \\end{bmatrix} +\n",
    "    \\begin{bmatrix} \n",
    "    0       \\\\ \n",
    "    0.001 \n",
    "    \\end{bmatrix}u $$\n",
    "$$ y(t) = \\begin{bmatrix}  1&0 \\end{bmatrix}x(t) $$\n",
    "$$ A = \\begin{bmatrix} \n",
    "    0     & 1 \\\\ \n",
    "    0     & -0.2\n",
    "    \\end{bmatrix}\n",
    "$$\n",
    "$$B = \\begin{bmatrix} \n",
    "    0       \\\\ \n",
    "    0.001 \n",
    "    \\end{bmatrix}$$\n",
    "$$C = \\begin{bmatrix}  1&0 \\end{bmatrix}$$\n",
    "$The\\ discrete-time\\ mode\\ is:$\n",
    "$$ x(k+1) = \\Phi x(k) + \\Gamma u(k)  $$\n",
    "$$ y(k) = Cx(k) $$\n"
   ]
  },
  {
   "cell_type": "markdown",
   "metadata": {},
   "source": [
    "import scipy\n",
    "A = [[0, 1], [0, -0.2]]\n",
    "h = 0.1\n",
    "Ah = np.dot(A,h)\n",
    "dis_phi = scipy.linalg.expm(Ah)\n",
    "print(dis_phi)\n",
    "\n",
    "#t = sym('t');\n",
    "#fun = expm(A*t);\n",
    "#tao = double(int(fun,0,0.1))*B;\n",
    "#tao\n"
   ]
  },
  {
   "cell_type": "markdown",
   "metadata": {},
   "source": [
    "$$\\Phi = e^{Ah} = \n",
    "\\begin{bmatrix} \n",
    "    1  &  0.09900663    \\\\ \n",
    "    0  &  0.98019867\n",
    "    \\end{bmatrix}\n",
    "    \\ \\ \\ \n",
    "    \\Gamma = \\begin{bmatrix} \n",
    "    4.97  \\times 10^{-6}    \\\\ \n",
    "    9.901 \\times 10^{-5}  \n",
    "    \\end{bmatrix}\n",
    "$$"
   ]
  },
  {
   "cell_type": "markdown",
   "metadata": {},
   "source": [
    "<font face=\"Time new roman\" size = 6 align=center bold>c)</font> "
   ]
  },
  {
   "cell_type": "markdown",
   "metadata": {},
   "source": [
    "$$W_c = \n",
    "\\begin{bmatrix} \n",
    "\\Gamma & \\Phi \\Gamma\n",
    "\\end{bmatrix} = \n",
    "    \\begin{bmatrix} \n",
    "    0.0497  & 0.1477    \\\\ \n",
    "    0.9901  & 0.9705 \n",
    "    \\end{bmatrix} \\ \\ Rank(W_c) = 2\n",
    "$$\n",
    "$$u(k) = -Lx(k) = -l_1x_1(k)-l_2x_2(k)$$\n",
    "$$x(k+1) = (\\Phi - \\Gamma L)x(k)$$\n",
    "$Place\\ the $\n",
    "$ \\Phi - \\Gamma L \\ poles\\ to\\ the\\ target\\ A_m(z) = z^2-1.9078z+0.9121 $\n",
    "$$zI-(\\Phi-\\Gamma L)=\n",
    "    \\begin{bmatrix} \n",
    "    1-4.97 \\times 10^{-6}l_1  & 0.099 - 4.97 \\times 10^{-6}l_2    \\\\ \n",
    "    -9.901 \\times 10^{-5}l_1  & 0.98 - 9.901 \\times 10^{-5}l_2 \n",
    "    \\end{bmatrix}\n",
    "$$\n",
    "$$det(zI-(\\Phi-\\Gamma L))=z^2 + (-1.908+4.9668 \\times 10^{-6} l_1 + 9.9007 \\times 10^{-5} l_2)z + 0.9802 +4.9338 \\times 10^{-6}l_1 - 9.9007 \\times 10^{-5}l_2 $$\n",
    "$$l_1 = 432.87, \\ \\ l_2 = 709.55$$\n",
    "$$u_{fb}(k)=(-432.87, -709.55)x(k)$$"
   ]
  },
  {
   "cell_type": "markdown",
   "metadata": {},
   "source": [
    "<font face=\"Time new roman\" size = 6 align=center bold>d)</font> "
   ]
  },
  {
   "cell_type": "markdown",
   "metadata": {},
   "source": [
    "$$u_{ff}(k) = H_{ff}u_c(k)$$\n",
    "$$x(k+1)=(\\Phi-\\Gamma L)x(k)+\\Gamma H_{ff}u_c(k) $$\n",
    "$$Z transfer: ZX(z) = (\\Phi - \\Gamma L)X(z) + \\Gamma H_{ff}U_c(z)$$\n",
    "$$X(z) = C(zI-\\Phi + \\Gamma L)^{-1}\\Gamma H_ff U_C(z)$$\n",
    "$$Y(z) = C(zI - \\Phi +\\Gamma L)^{-1}\\Gamma H_{ff}$$\n",
    "$$H_{ff} = \\frac{B_m(z)}{B(z)} $$\n",
    "$In\\ question\\ a)\\ we\\ can\\ get\\ \\frac{B_m(z)}{A_m(z)}$\n",
    "$$\\frac{B_m(z)}{A_m(z)} = \\frac{(0.00215z+0.002133)}{z^2-1.9078z+0.9121} $$\n",
    "$$H(z) = \\frac{B(z)}{A(z)} = C(zI-\\Phi)^{-1}\\Gamma = \\frac{(4.9667z+4.9333)\\times 10^{-6}}{z^2-1.9802z+0.9802} $$\n",
    "$$H_{ff}(z) =  \\frac{B_m(z)}{B(z)} = \\frac{(0.00215z + 0.0021)\\times 10^{6}}{4.9667z+4.9333}$$\n"
   ]
  },
  {
   "cell_type": "markdown",
   "metadata": {},
   "source": [
    "<font face=\"Time new roman\" size = 6 align=center bold>e)</font> "
   ]
  },
  {
   "cell_type": "markdown",
   "metadata": {},
   "source": [
    "$$W_o = \n",
    "\\begin{bmatrix} \n",
    "\\Gamma & \\Phi \\Gamma\n",
    "\\end{bmatrix} = \n",
    "    \\begin{bmatrix} \n",
    "    1  & 0    \\\\ \n",
    "    1  & 0.099 \n",
    "    \\end{bmatrix} \\ \\ Rank(W_o) = 2\n",
    "$$\n",
    "$So\\ x(k)\\ can\\ be\\ estimated,\\ design\\ the\\ feedback\\ controller\\ same\\ as\\ c)$\n",
    "$$u_{fb}(k)=(-432.87, -709.55)x(k)$$\n",
    "$$We have x(k+1) = \\Phi x(k) +\\Gamma u(k)$$\n",
    "$$We have \\hat{x}(k+1) = \\Phi \\hat{x}(k) +\\Gamma u(k) + K(k(k) - \\hat{y}(k))$$\n",
    "$$let\\ e(k) = x(k)- \\hat{x}(t),\\ e(k+1) = (\\Phi - Kc)e(k)$$\n",
    "$The\\ dead-beat\\ observer\\ A_0(z) = z^2$\n",
    "$$zI- (\\Phi-Kc) = \n",
    "\\begin{bmatrix} \n",
    "    z-1+k_1  &  -0.099  \\\\ \n",
    "    k_2      &  z-0.98\n",
    "\\end{bmatrix}\n",
    "$$\n",
    "$$det|zI - \\Phi + Kc| = z^2 - 0.98z +(k_1-1)z - 0.98(k_1-1)+0.099k_2 = z^2$$\n",
    "$$\n",
    "\\left\\{\n",
    "    \\begin{matrix} \n",
    "    k_1 - 1-0.98   & = & 0  \\\\ \n",
    "    0.099k_2-0.98(k_1-1) & = & 0\n",
    "    \\end{matrix}\n",
    "    \\right.\n",
    "$$\n",
    "$$K = [1.98,\\ k_2 = 9.7]^T$$\n",
    "$$\\therefore u_{fb}(k) = (-432.87, -709.55)\\hat{x}(k)$$\n",
    "$$\\therefore u(k) = u_{fb} + u_{ff}$$\n",
    "$$ It's\\ possible\\ to\\ use\\ two\\ degree\\ of\\ freedom\\ controller $$"
   ]
  }
 ],
 "metadata": {
  "kernelspec": {
   "display_name": "Python 3 (ipykernel)",
   "language": "python",
   "name": "python3"
  },
  "language_info": {
   "codemirror_mode": {
    "name": "ipython",
    "version": 3
   },
   "file_extension": ".py",
   "mimetype": "text/x-python",
   "name": "python",
   "nbconvert_exporter": "python",
   "pygments_lexer": "ipython3",
   "version": "3.11.4"
  }
 },
 "nbformat": 4,
 "nbformat_minor": 4
}
