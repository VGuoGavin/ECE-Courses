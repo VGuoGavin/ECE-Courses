{
 "cells": [
  {
   "cell_type": "markdown",
   "metadata": {},
   "source": [
    "\n",
    "# CA 2"
   ]
  },
  {
   "cell_type": "markdown",
   "metadata": {},
   "source": [
    "# Q1"
   ]
  },
  {
   "cell_type": "markdown",
   "metadata": {},
   "source": [
    "# A"
   ]
  },
  {
   "cell_type": "markdown",
   "metadata": {},
   "source": [
    "\n",
    "$$ Y(s) =  \n",
    "\\frac{1}{s(Ts+1)} U(s) = \\frac{10}{s^2+10s}U(s) $$ \n",
    "$$ \\ddot{y} = -10\\dot{y} + 10u$$\n",
    "$$ \\because x(t) = (\\dot{y(t)}, y(t))^T$$\n",
    "$$ \\therefore The\\ continuous-time\\ state-space\\ model\\ is:$$\n",
    "$$\n",
    "\\dot{\\begin{bmatrix}\n",
    "x_1 \\\\\n",
    "x_2 \n",
    "\\end{bmatrix}} = {\\begin{bmatrix}\n",
    "-10 & 0\\\\\n",
    "1  & 0\n",
    "\\end{bmatrix}} {\\begin{bmatrix}\n",
    "x_1 \\\\\n",
    "x_2 \n",
    "\\end{bmatrix}}+ {\\begin{bmatrix}\n",
    "10 \\\\\n",
    "0 \n",
    "\\end{bmatrix}}u$$\n",
    "$$ y = [0, 1] \n",
    "{\\begin{bmatrix}\n",
    "x_1 \\\\\n",
    "x_2 \n",
    "\\end{bmatrix}}\n",
    "$$\n",
    "$$ A = {\\begin{bmatrix}\n",
    "-10 & 0\\\\\n",
    "1  & 0\n",
    "\\end{bmatrix}},  B = {\\begin{bmatrix}\n",
    "10 \\\\\n",
    "0\n",
    "\\end{bmatrix}}, C = [0, 1]$$\n",
    "$After\\ sampling,\\ the\\ state\\ space\\ changes\\ into\\ discrete-time\\ form:$\n",
    "$$x(k+1) = \\Phi x(k) + \\Gamma u(k) $$\n",
    "$$\\Phi = e^{Ah},  \\Gamma =\\int_{0}^{h}e^{Av}dv  $$"
   ]
  },
  {
   "cell_type": "markdown",
   "metadata": {},
   "source": [
    "# B"
   ]
  },
  {
   "cell_type": "markdown",
   "metadata": {},
   "source": [
    "$$\\lambda_0 = -10, \\lambda_1 = 0 $$\n",
    "$$h(\\lambda) = \\beta_0 + \\beta_1 \\lambda $$\n",
    "$$ \\left\\{\n",
    "\\begin{aligned}\n",
    "e^{\\lambda_0h} & = & \\beta_0 + \\beta_1 \\lambda_0 \\\\\n",
    "e^{\\lambda_1h} & = & \\beta_0 + \\beta_1 \\lambda_1 \n",
    "\\end{aligned} \\right.\n",
    "=\\left\\{\n",
    "\\begin{aligned}\n",
    "e^{-10h} & = & \\beta_0 - 10\\beta_1  \\\\\n",
    "e^{0h} & = & \\beta_0 \n",
    "\\end{aligned}\n",
    "\\right. $$\n",
    "$$\\left\\{\n",
    "    \\begin{matrix} \n",
    "    \\beta_0 & = & 1  \\\\ \n",
    "    \\beta_1 & = & \\frac {1-e^{-10h}}{10}\n",
    "    \\end{matrix}\n",
    "    \\right.\n",
    "$$\n",
    "$$\\Phi = e^{Ah} = \\beta_0 I+ \\beta_1 A = {\\begin{bmatrix}\n",
    "e^{-10h} & 0\\\\\n",
    "\\frac{1-e^{-10h}}{10}  & 1\n",
    "\\end{bmatrix}} $$\n",
    "$$ \\Gamma =\\int_{0}^{h}e^{Av}dvB = \\int_0^h  {\\begin{bmatrix}\n",
    "e^{-10v} & 0\\\\\n",
    "\\frac{1-e^{-10v}}{10}  & 1\n",
    "\\end{bmatrix}} dv \n",
    "{\\begin{bmatrix}\n",
    "10\\\\\n",
    "0\n",
    "\\end{bmatrix}} = {\\begin{bmatrix}\n",
    "1-\\frac{1}{10}e^{-10h}\\\\\n",
    "h+\\frac{1}{10}(-1+e^{-10h}) \n",
    "\\end{bmatrix}} $$\n"
   ]
  },
  {
   "cell_type": "markdown",
   "metadata": {},
   "source": [
    "$Assuming\\ that\\  u(k) = -Lx(k), using\\ the\\ deadbeat\\ controller:$\n",
    "$Use\\ Ackermann's\\ formula$\n",
    "$$A_m(\\phi) = \\phi^2 + p_1\\phi + p_2I \\ \\ (p_1\\ and\\ p_2\\ are\\ 0) $$\n",
    "$$A_m(\\phi) = {\\begin{bmatrix}\n",
    "e^{-20h}& 0\\\\\n",
    "\\frac{1}{10}(1-e^{-20h})& 1\n",
    "\\end{bmatrix}}$$\n",
    "$$W_c = [\\Phi, \\Gamma \\Phi]$$\n",
    "$$L = [0, 1]W_c^{-1}A_m(\\Phi)$$\n",
    "$By \\ using \\ Matlab, \\ the \\ result \\ is$\n",
    "$$L = {\\begin{bmatrix}\n",
    "-\\frac{10h+e^{10h}-e^{20h}}{10h(e^{10h}-1)^2}\\\\\n",
    "\\frac{e^{10h}}{h(e^{10h}-1)}\n",
    "\\end{bmatrix}}$$\n",
    "\n",
    "$$ u(k) = -Lx(k) =-{\\begin{bmatrix}\n",
    "-\\frac{10h+e^{10h}-e^{20h}}{10h(e^{10h}-1)^2}\\\\\n",
    "\\frac{e^{10h}}{h(e^{10h}-1)}\n",
    "\\end{bmatrix}} x(k) $$\n",
    "\n",
    "\n",
    "\n"
   ]
  },
  {
   "cell_type": "markdown",
   "metadata": {},
   "source": [
    "# C"
   ]
  },
  {
   "cell_type": "markdown",
   "metadata": {},
   "source": [
    "$$ u(0) = -Lx(0) = - \\frac{5h+3e^{10h}-3e^{20h}}{5h(e^{10h}-1)^2}$$\n",
    "$$ |u(0)|<1, h>0$$\n",
    "$ Can't\\ be\\ solve\\ by\\ hand\\ and\\ Matlab$\n"
   ]
  },
  {
   "cell_type": "markdown",
   "metadata": {},
   "source": [
    "# Q2\n"
   ]
  },
  {
   "cell_type": "markdown",
   "metadata": {},
   "source": [
    "$$z(k) = \\begin{bmatrix}\n",
    "x(k)\\\\\n",
    "v(k)\n",
    "\\end{bmatrix}$$\n",
    "\n",
    "$$z(k+1) = \\begin{bmatrix}\n",
    "x(k+1)\\\\\n",
    "v(k+1)\n",
    "\\end{bmatrix} = \n",
    "\\begin{bmatrix}\n",
    "0.5 & 1   & 1\\\\\n",
    "0.2 & 0.8 & 0\\\\\n",
    "0   & 0   & 1\n",
    "\\end{bmatrix}\n",
    "\\begin{bmatrix}\n",
    "x(k)\\\\\n",
    "v(k)\n",
    "\\end{bmatrix} =\n",
    "\\begin{bmatrix}\n",
    "\\Phi   & \\Phi_{xw}\\\\\n",
    "0 & \\Phi_w\\\\\n",
    "\\end{bmatrix} \n",
    "\\begin{bmatrix}\n",
    "x(k)\\\\\n",
    "v(k)\n",
    "\\end{bmatrix} =\n",
    "\\begin{bmatrix}\n",
    "1\\\\\n",
    "1\\\\\n",
    "0\n",
    "\\end{bmatrix}u(k)\n",
    "$$\n",
    "$$ y(k) = \\begin{bmatrix}\n",
    "1 & 0 & 0\n",
    "\\end{bmatrix} \n",
    "\\begin{bmatrix}\n",
    "x_1(k)\\\\\n",
    "x_2(k)\\\\\n",
    "v(k)\n",
    "\\end{bmatrix}\n",
    "$$\n",
    "$The \\ state\\ and\\ v\\ can\\ be\\ measured,\\ assuming $\n",
    "$$ u(k) = -L_c Z(k) = -Lx(k) - L_wv(k)$$\n",
    "$$x(k+1) = \\Phi x(k)- \\Gamma(Lx(k)+L_wv(k))+ \\Phi_v v(k) = (\\Phi - \\Gamma L)x(k) + (\\Phi_w-\\Gamma L_w)v(k)$$\n",
    "$To\\ cancel\\ the\\ disurbance\\ we\\ need\\ (\\Phi_w-\\Gamma L_w)\\ to\\ be\\ zero$\n",
    "$$\\Phi_w-\\Gamma L_w= \n",
    "\\begin{bmatrix}\n",
    "1\\\\\n",
    "0\n",
    "\\end{bmatrix} - \n",
    "\\begin{bmatrix}\n",
    "1\\\\\n",
    "1\n",
    "\\end{bmatrix} L_w = \n",
    "\\begin{bmatrix}\n",
    "1-L_w\\\\\n",
    "L_w\n",
    "\\end{bmatrix}\\ Can\\ not\\ to\\ be\\ zero\n",
    "$$\n",
    "\n",
    "$So\\ need\\ to\\ design\\ L,\\ let\\ all\\ the (\\Phi - \\Gamma L)\\ poles\\ to\\ zero$\n",
    "\n",
    "$$zI-(\\Phi - \\Gamma L) = \n",
    "\\begin{bmatrix}\n",
    "z-0.5+l_1 & l_1-1\\\\\n",
    "l_2-0.2   & z-0.8+l_2\n",
    "\\end{bmatrix}\n",
    "$$\n",
    "$$ |zI-(\\Phi - \\Gamma L)| = z^2$$\n",
    "$$l_1 = 0.45, l_2 = 0.85$$\n",
    "$Analyze the TF from v(k) to y(k):$\n",
    "$$Y(z) = cX(z)\\ ==>\\ H_w(z) = c(zI-\\Phi + \\Gamma L)^{-1}(\\Phi_{xw}-\\Gamma L_w)v(z)$$\n",
    "$Let\\ H_w(1)\\ = 0$\n",
    "$$ l_w = 2.1$$\n",
    "$$\\therefore  u(k) = -\n",
    "\\begin{bmatrix}\n",
    "0.45 & 0.85\n",
    "\n",
    "\\end{bmatrix}x(k)-2.1v(k)$$"
   ]
  },
  {
   "cell_type": "markdown",
   "metadata": {},
   "source": [
    "# Q2 B  use pure state feedback?"
   ]
  },
  {
   "cell_type": "markdown",
   "metadata": {},
   "source": [
    "$$\\hat{z}(k+1) = \n",
    "\\begin{bmatrix}\n",
    "\\Phi   & \\Phi_{xw}\\\\\n",
    "0 & \\Phi_w\\\\\n",
    "\\end{bmatrix} \\hat{z}(k)+\n",
    "\\begin{bmatrix}\n",
    "\\Gamma\\\\\n",
    "0\n",
    "\\end{bmatrix}u(k)+K\n",
    "\\begin{bmatrix}\n",
    "y(k)-\\hat{y}(k)\n",
    "\\end{bmatrix}\n",
    "$$\n",
    "\n",
    "$$ \\hat{y}(k) = \n",
    "\\begin{bmatrix}\n",
    "c & 0\n",
    "\\end{bmatrix} \\hat{z}(k)\n",
    "\\begin{bmatrix}\n",
    "x_1(k)\\\\\n",
    "x_2(k)\\\\\n",
    "v(k)\n",
    "\\end{bmatrix}\n",
    "$$\n",
    "$The \\ state\\ and\\ v\\ can\\ be\\ measured,\\ assuming $\n"
   ]
  },
  {
   "cell_type": "markdown",
   "metadata": {},
   "source": [
    "# Q2 C"
   ]
  },
  {
   "cell_type": "markdown",
   "metadata": {},
   "source": [
    "$The \\ state\\ and\\ v\\ can\\ be\\ measured,\\ assuming $\n",
    "$$ u(k) = -L_c Z(k) = -Lx(k) - L_wv(k)$$\n",
    "$$\\hat{z}(k+1) = \n",
    "\\begin{bmatrix}\n",
    "\\Phi   & \\Phi_{xw}\\\\\n",
    "0 & \\Phi_w\\\\\n",
    "\\end{bmatrix} \\hat{z}(k)+\n",
    "\\begin{bmatrix}\n",
    "\\Gamma\\\\\n",
    "0\n",
    "\\end{bmatrix}u(k)+K\n",
    "\\begin{bmatrix}\n",
    "y(k)-\\hat{y}(k)\n",
    "\\end{bmatrix}\n",
    "$$\n",
    "\n",
    "$$ \\hat{y}(k) = \n",
    "\\begin{bmatrix}\n",
    "c & 0\n",
    "\\end{bmatrix} \\hat{z}(k)\n",
    "\\begin{bmatrix}\n",
    "x_1(k)\\\\\n",
    "x_2(k)\\\\\n",
    "v(k)\n",
    "\\end{bmatrix}\n",
    "$$\n",
    "\n",
    "$$ e(k) =z(k)- \\hat{z}(k)$$\n",
    "$$ e(k+1) =(\\Phi - Kc)e(k)$$\n",
    "Place the poles to zero. The the K can be chosen.\n",
    "$$zI - (\\Phi - Kc) =\n",
    "\\begin{bmatrix}\n",
    "k1 + z - 1/2&      -1&    -1\\\\\n",
    "    k2 - 1/5& z - 4/5&     0\\\\\n",
    "          k3&       0& z - 1\n",
    "\\end{bmatrix}\n",
    "$$\n",
    "$$det(zI - (\\Phi - Kc)) = z^3$$\n",
    "$$K = [2.3\\ -2.36\\ \\ 5]^T$$\n",
    "The controller is:\n",
    "$$\\therefore  u(k) = -\n",
    "\\begin{bmatrix}\n",
    "0.45 & 0.85\n",
    "\n",
    "\\end{bmatrix}x(k)-2.1v(k)$$"
   ]
  },
  {
   "cell_type": "code",
   "execution_count": 17,
   "metadata": {},
   "outputs": [],
   "source": [
    "import sympy,math\n",
    "import numpy as np\n",
    "from scipy.linalg import expm,logm\n",
    "from sympy import *\n",
    "h = Symbol('h')\n",
    "A = np.array([[-10, 0],[1, 0]])\n",
    "#print(expm(A*h))"
   ]
  },
  {
   "cell_type": "markdown",
   "metadata": {},
   "source": []
  },
  {
   "cell_type": "markdown",
   "metadata": {},
   "source": []
  },
  {
   "cell_type": "markdown",
   "metadata": {},
   "source": []
  },
  {
   "cell_type": "markdown",
   "metadata": {},
   "source": []
  },
  {
   "cell_type": "markdown",
   "metadata": {},
   "source": [
    "$$\n",
    "\\left\\{\n",
    "\\begin{aligned}\n",
    "e^{-10h} & = & \\beta_0 - \\beta_1\\\\ \n",
    "e^{-0h}  & = & \\beta_0\n",
    "\\end{aligned}\n",
    "\\right\n",
    "$$"
   ]
  },
  {
   "cell_type": "markdown",
   "metadata": {},
   "source": []
  },
  {
   "cell_type": "code",
   "execution_count": null,
   "metadata": {},
   "outputs": [],
   "source": []
  },
  {
   "cell_type": "code",
   "execution_count": null,
   "metadata": {},
   "outputs": [],
   "source": []
  }
 ],
 "metadata": {
  "kernelspec": {
   "display_name": "base",
   "language": "python",
   "name": "python3"
  },
  "language_info": {
   "codemirror_mode": {
    "name": "ipython",
    "version": 3
   },
   "file_extension": ".py",
   "mimetype": "text/x-python",
   "name": "python",
   "nbconvert_exporter": "python",
   "pygments_lexer": "ipython3",
   "version": "3.11.4"
  },
  "orig_nbformat": 4
 },
 "nbformat": 4,
 "nbformat_minor": 2
}
